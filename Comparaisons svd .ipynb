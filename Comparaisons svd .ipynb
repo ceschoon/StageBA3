{
 "cells": [
  {
   "cell_type": "markdown",
   "metadata": {},
   "source": [
    "# Svd avec magma : réels en double précision"
   ]
  },
  {
   "cell_type": "markdown",
   "metadata": {},
   "source": [
    "Dans cette section, nous testons la rapidité des algorithmes de svd implémentés dans la librairie magma.\n",
    "\n",
    "L'environnement dans lequel sont effectués les test est le suivant:\n",
    "- Magma 2.2.0\n",
    "- Intel MKL 2018\n",
    "- Cuda 8.0.61\n",
    "- g++ 7.2.0\n",
    "- Xubuntu 17.10\n",
    "\n",
    "La carte graphique est la NVIDIA GeForce 920M.\n",
    "Le cpu utilisé est un Intel Core i5-5200U.\n",
    "Le code a été exécuté sous deux modes de fonctionnement du cpu: \"powersave\" et \"ondemand\". "
   ]
  },
  {
   "cell_type": "code",
   "execution_count": null,
   "metadata": {
    "collapsed": true
   },
   "outputs": [],
   "source": [
    "import time,pandas,numpy\n",
    "from matplotlib import pyplot\n",
    "%matplotlib inline\n",
    "from matplotlib import rcParams\n",
    "rcParams['font.family'] = 'serif'\n",
    "rcParams['font.size'] = 16"
   ]
  },
  {
   "cell_type": "markdown",
   "metadata": {},
   "source": [
    "Le code est écrit en c et a été exécuté en amont et nous analysons ici les résultats.\n",
    "Le code source et les exécutables se trouvent dans le dossier ./magma/  "
   ]
  },
  {
   "cell_type": "code",
   "execution_count": null,
   "metadata": {},
   "outputs": [],
   "source": [
    "data_dgesvd_powersave = pandas.read_csv('magma/out-dgesvd-powersave.csv')\n",
    "[N_dgesvd_powersave, \n",
    " gpu_time_dgesvd_powersave, \n",
    " cpu_time_dgesvd_powersave, \n",
    " difference_dgesvd_powersave] = numpy.transpose(data_dgesvd_powersave.as_matrix(['N', 'gpu_time', \\\n",
    "                                                            'cpu_time', 'difference']))\n",
    "\n",
    "pyplot.figure(figsize=(8,5));\n",
    "pyplot.plot(N_dgesvd_powersave,gpu_time_dgesvd_powersave, '.-',label='gpu');\n",
    "pyplot.plot(N_dgesvd_powersave,cpu_time_dgesvd_powersave, '.-',label='cpu');\n",
    "pyplot.title(\"Svd: dgesvd, powersave \\n Magma(gpu) VS Lapack(cpu) \");\n",
    "pyplot.xlabel('Taille de la matrice');\n",
    "pyplot.ylabel('Temps');\n",
    "pyplot.legend(loc=2);\n",
    "pyplot.grid();\n",
    "pyplot.show()"
   ]
  },
  {
   "cell_type": "code",
   "execution_count": null,
   "metadata": {},
   "outputs": [],
   "source": [
    "data_dgesvd_ondemand = pandas.read_csv('magma/out-dgesvd-ondemand.csv')\n",
    "[N_dgesvd_ondemand, \n",
    " gpu_time_dgesvd_ondemand, \n",
    " cpu_time_dgesvd_ondemand, \n",
    " difference_dgesvd_ondemand] = numpy.transpose(data_dgesvd_ondemand.as_matrix(['N', 'gpu_time', \\\n",
    "                                                            'cpu_time', 'difference']))\n",
    "\n",
    "pyplot.figure(figsize=(8,5));\n",
    "pyplot.plot(N_dgesvd_ondemand,gpu_time_dgesvd_ondemand, '.-',label='gpu');\n",
    "pyplot.plot(N_dgesvd_ondemand,cpu_time_dgesvd_ondemand, '.-',label='cpu');\n",
    "pyplot.title(\"Svd: dgesvd, ondemand \\n Magma(gpu) VS Lapack(cpu) \");\n",
    "pyplot.xlabel('Taille de la matrice');\n",
    "pyplot.ylabel('Temps');\n",
    "pyplot.legend(loc=2);\n",
    "pyplot.grid();\n",
    "pyplot.show()"
   ]
  },
  {
   "cell_type": "code",
   "execution_count": null,
   "metadata": {},
   "outputs": [],
   "source": [
    "pyplot.figure(figsize=(10,7));\n",
    "pyplot.loglog(N_dgesvd_powersave,gpu_time_dgesvd_powersave, '.-',label='gpu dgesvd powersave');\n",
    "pyplot.loglog(N_dgesvd_powersave,cpu_time_dgesvd_powersave, '.-',label='cpu dgesvd powersave');\n",
    "pyplot.loglog(N_dgesvd_ondemand,gpu_time_dgesvd_ondemand, '.-',label='gpu dgesvd ondemand');\n",
    "pyplot.loglog(N_dgesvd_ondemand,cpu_time_dgesvd_ondemand, '.-',label='cpu dgesvd ondemand');\n",
    "pyplot.title(\"Svd: Résumé \");\n",
    "pyplot.xlabel('Taille de la matrice');\n",
    "pyplot.ylabel('Temps');\n",
    "pyplot.legend(loc=2);\n",
    "pyplot.grid();\n",
    "pyplot.show()"
   ]
  },
  {
   "cell_type": "markdown",
   "metadata": {
    "collapsed": true
   },
   "source": [
    "Nous voyons que le gpu n'exécute pas le code plus rapidement que le cpu sur ma machine. Les svd ne semblent pas être des algorithmes facilement parallélisable."
   ]
  },
  {
   "cell_type": "code",
   "execution_count": null,
   "metadata": {
    "collapsed": true
   },
   "outputs": [],
   "source": []
  }
 ],
 "metadata": {
  "kernelspec": {
   "display_name": "Python 3",
   "language": "python",
   "name": "python3"
  },
  "language_info": {
   "codemirror_mode": {
    "name": "ipython",
    "version": 3
   },
   "file_extension": ".py",
   "mimetype": "text/x-python",
   "name": "python",
   "nbconvert_exporter": "python",
   "pygments_lexer": "ipython3",
   "version": "3.6.2"
  }
 },
 "nbformat": 4,
 "nbformat_minor": 2
}
