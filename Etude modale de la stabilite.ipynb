{
 "cells": [
  {
   "cell_type": "markdown",
   "metadata": {},
   "source": [
    "# Etude modale d'instabilités hydrodynamiques dans un écoulement de type Poiseuille"
   ]
  },
  {
   "cell_type": "markdown",
   "metadata": {},
   "source": [
    "## Table des matières"
   ]
  },
  {
   "cell_type": "markdown",
   "metadata": {},
   "source": [
    "- Introduction\n",
    "- Equations et conditions aux bords\n",
    "- Discrétisation et implémentations des conditions aux bords\n",
    "- Ecriture et vérification des opérateurs discrétisés\n",
    "- Recherche des modes propres: pour un couple ($Re$, $\\alpha$)\n",
    "- Recherche des modes propres: comparaison avec une valeur de référence et convergence\n",
    "- Discrétisation de type *forward* et *backward* pour les dérivées au bord\n",
    "- Convergence du calcul des modes propres pour la discrétisation forward des conditions aux bords\n",
    "- Recherche des modes propres: diagramme de stabilité selon ($Re$, $\\alpha$)\n",
    "- Modes symétriques et antisymétriques\n",
    "- Conclusions"
   ]
  },
  {
   "cell_type": "markdown",
   "metadata": {},
   "source": [
    "## Introduction"
   ]
  },
  {
   "cell_type": "markdown",
   "metadata": {},
   "source": [
    "## Equations et conditions aux bords"
   ]
  },
  {
   "cell_type": "markdown",
   "metadata": {},
   "source": [
    "Nous étudions ici un fluide incompressible et visqueux qui s'écoule dans un tube imperméable en deux dimensions selon un profil de vitesse de  Poiseuille, ayant la forme suivante:\n",
    "\n",
    "$$ U(y) = 1-y^2 $$\n",
    "\n",
    "Nous considérerons que les perturbations $\\tilde{v}(x,y,t)$ sur la vitesse se décomposent comme suit:\n",
    "\n",
    "$$ \\tilde{v}(x,y,t) = \\frac 12 \\left[ v(y)\\, e^{i\\alpha(x-ct)} + v(y)^{*}\\, e^{-i\\alpha^{*}(x-c^{*}t)} \\right] $$\n",
    "\n",
    "Comme nous étudions les instabilités temporelles nous prendrons $\\alpha \\in \\mathbb R$. La condition de stabilité sera alors $\\text{Im}(c) \\leq 0$.\n",
    "\n",
    "La fonction $v(y)$ de ces perturbations doivent obéir à l'équation d'Orr-Sommerfeld:\n",
    "\n",
    "$$ \\underbrace{\\left[ U(D^2-\\alpha^2) - U'' - \\frac{1}{i\\alpha \\, Re}(D^2-\\alpha^2)^2 \\right]}_A v = c \\underbrace{(D^2-\\alpha^2)}_B v $$\n",
    "\n",
    "Ce qui défini le problème aux valeurs propres généralisé:\n",
    "\n",
    "$$ (A-cB)v = 0 $$\n",
    "\n",
    "Le tube étant imperméable, il est évident que la vitesse selon l'axe y (et en particuler la perturbation $\\tilde v(x,y)$) du fluide doit s'annuler aux bords du tube. De plus, étant donné que notre fluide est visqueux, il semble naturel que sa vitesse selon l'axe x s'anulle également près des bords, car les molécules à l'arrêt constituant le tube exercent une force sur le fluide poussant à le freiner. Ce ralentissement se transmet alors au reste du fluide par viscosité. Voir https://en.wikipedia.org/wiki/No-slip_condition. Comme la vitesse $\\tilde u(x,y)$ s'anulle au bord pour tout x, alors sa dérivée par rapport à x doit être nulle aussi, ce qui entraîne l'annulation de la dérivée en y de $\\tilde v(x,y)$ aux bords, étant donné que le fluide est incompressible:\n",
    "\n",
    "$$ \\tilde{u}_x + \\tilde{v}_y = 0 \\qquad \\text{incompressibilité}$$\n",
    "\n",
    "$$ \\tilde u(x,y) = 0 \\ \\forall x \\Rightarrow \\tilde{u}_x(x,y) = 0 \\ \\forall x \\iff \\tilde{v}_y(x,y) = 0 \\ \\forall x \\qquad y=0,L$$\n",
    "\n",
    "Il suit de la condition $\\tilde v(x,y) = 0 \\ \\forall x$ que les vitesses complexes $v(y)$ doivent s'annuler également. En effet:\n",
    "\n",
    "$$ 0 = \\tilde v(x,y) = \\frac 12 \\left[ v(y)\\, e^{i\\alpha(x-ct)} + v(y)^{*}\\, e^{-i\\alpha^{*}(x-c^{*}t)} \\right] $$\n",
    "$$ 0 = v(y)\\, e^{i\\alpha(x-ct)} + v(y)^{*}\\, e^{-i\\alpha(x-c^{*}t)} \\qquad \\alpha \\in \\mathbb R$$\n",
    "$$ v(y)^{*} = -v(y)\\, e^{i\\alpha[(x-ct)+(x-c^{*}t)]} $$\n",
    "\n",
    "Cette relation étant valable pour $x$ quelconque, il s'en suit que $v(y) = 0$. Le même raisonnement se tient pour montrer que $\\tilde v(x,y) = 0 \\ \\forall x \\Rightarrow v'(y) = 0$.\n",
    "\n",
    "Nous prendrons donc les conditions aux bords suivantes:\n",
    "    $$\\ v(y) = 0 \\ \\text{en}\\  y=0,L \\quad\\leftrightarrow\\quad \\text{imperméabilité} \\quad\\ $$ \n",
    "    $$v'(y) = 0 \\ \\text{en}\\  y=0,L \\quad\\leftrightarrow\\quad \\text{\"no slip condition\"}$$"
   ]
  },
  {
   "cell_type": "markdown",
   "metadata": {},
   "source": [
    "## Discrétisation des opérateurs et implémentations des conditions aux bords"
   ]
  },
  {
   "cell_type": "markdown",
   "metadata": {},
   "source": [
    "Nous prendrons les discrétisation centrées d'ordre 2 suivantes pour $D^2$ et $D^4$:\n",
    "\n",
    "$$ (D^2v)_i = \\frac{v_{i+1} -2 v_i + v_{i-1}}{(\\Delta y)^2} + \\mathcal O((\\Delta y)^2)$$\n",
    "\n",
    "$$ (D^4v)_i = \\frac{v_{i+2} -4v_{i+1} +6v_i - 4v_{i-1} + v_{i-2}}{(\\Delta y)^4} + \\mathcal O((\\Delta y)^2)$$\n",
    "\n",
    "Ce qui nous donne les discrétisations pour $Av$ et $Bv$:\n",
    "\n",
    "$$ (Av)_i = U(y) \\left((D^2v)_i - \\alpha^2 v_i\\right) - U''(y) v_i - \\frac{1}{i\\alpha\\,Re} \\left((D^4v)_i -2\\alpha^2(D^2v)_i + \\alpha^4 v_i\\right) $$\n",
    "\n",
    "$$ (Av)_i = U(y) \\left(\\frac{v_{i+1} -2 v_i + v_{i-1}}{(\\Delta y)^2} - \\alpha^2 v_i\\right) - U''(y) v_i - \\frac{1}{i\\alpha\\,Re} \\left(\\frac{v_{i+2} -4v_{i+1} +6v_i - 4v_{i-1} + v_{i-2}}{(\\Delta y)^4} -2\\alpha^2\\frac{v_{i+1} -2 v_i + v_{i-1}}{(\\Delta y)^2} + \\alpha^4 v_i\\right) $$\n",
    "\n",
    "$$ (Bv)_i = (D^2v)_i - \\alpha^2 v_i $$\n",
    "\n",
    "$$ (Bv)_i = \\frac{v_{i+1} -2 v_i + v_{i-1}}{(\\Delta y)^2} - \\alpha^2 v_i $$\n",
    "\n",
    "Nous implémentons les opérateurs discrétisés dans des matrices \"sparse\" qui agirons sur le vecteur colonne $v$.\n",
    "\n",
    "Remarquons qu'une implémentation directe de ces opérateurs pose problème: que faire des indices extérieurs à la grille (-2, -1, N, N+1) ? Cependant, cela serait ignorer la présence de conditions aux bords, et ce problème est résolu en ajoutant ces dernières. En effet, celles-ci vont nous permettre de prendre en compte les indices extérieurs en les exprimant à partir des indices intérieurs.\n",
    "\n",
    "Pour implémenter les conditions aux bords, il faut d'abord les discrétiser avec l'ordre d'erreur qui correspond à celui de nos opérateurs.\n",
    "\n",
    "La discrétisation de la condition $v(y) = 0 \\ y=0,L$ est très simple: $v_0 = v_N = 0$ et satisfait tout les ordres.\n",
    "Nous n'avons donc pas besoin de prendre en compte ces valeurs dans la recherche des modes propres et considérerons alors les opérateurs $D^2$ et $D^4$ comme des matrices $(N-2)\\times(N-2)$ agissant sur $(v_1,...,v_{N-2})$.\n",
    "\n",
    "La discrétisation de la condition $v'(y) = 0 \\ y=0,L$ n'est pas beaucoup plus difficile:\n",
    "\n",
    "$$ 0 = v'(y) = \\frac{v_1 - v_{-1}}{2 \\Delta y} + \\mathcal O((\\Delta y)^2) $$ \n",
    "\n",
    "Il en découle que $v_1 = v_{-1}$, nous implémentons donc cette condition en remplaçant toute référence à $v_{-1}$ dans $D^2$ et $D^4$ par une référence à $v_1$.\n",
    "\n",
    "Nous traitons les références à $v_{-2}$ de la même façon, en effet, nous pouvons montrer que la relation suivante est correcte également:\n",
    "\n",
    "$$ 0 = v'(y) = \\frac{v_2 - v_{-2}}{4 \\Delta y} + \\mathcal O((\\Delta y)^2) $$"
   ]
  },
  {
   "cell_type": "markdown",
   "metadata": {},
   "source": [
    "## Ecriture et vérification des opérateurs discrétisés"
   ]
  },
  {
   "cell_type": "code",
   "execution_count": null,
   "metadata": {},
   "outputs": [],
   "source": [
    "import numpy,scipy,scipy.linalg,time\n",
    "import matplotlib.pyplot as pyplot\n",
    "from matplotlib import rcParams, cm\n",
    "rcParams['font.family'] = 'serif'\n",
    "rcParams['font.size'] = 16"
   ]
  },
  {
   "cell_type": "markdown",
   "metadata": {},
   "source": [
    "On commence par définir le profil utilisé, ici: Poiseuille"
   ]
  },
  {
   "cell_type": "code",
   "execution_count": null,
   "metadata": {},
   "outputs": [],
   "source": [
    "def U(y):\n",
    "    return 1-y**2"
   ]
  },
  {
   "cell_type": "markdown",
   "metadata": {},
   "source": [
    "Nous implémentons les opérateurs discrétisés avec les conditions aux bords."
   ]
  },
  {
   "cell_type": "code",
   "execution_count": null,
   "metadata": {},
   "outputs": [],
   "source": [
    "def buildD2(N,dy):\n",
    "    \"\"\" Construit la matrice de l'opérateur D2 discrétisé au second ordre avec les bonnes conditions au bord\n",
    "   \n",
    "    Paramètres:\n",
    "    ----------\n",
    "    N   : Nombres de points de dicrétisation de la grille originale (avec bords)\n",
    "    dy  : espacement entre les points de la grille de discrétisation\n",
    "   \n",
    "    Renvoie:\n",
    "    -------\n",
    "    D2  : matrice sparse de l'opérateur D2\n",
    "    \"\"\"\n",
    "    \n",
    "    D2 = (scipy.eye(N-2,N-2,-1) - 2*scipy.eye(N-2,N-2,0) + scipy.eye(N-2,N-2,1))\n",
    "    \n",
    "    return D2/dy**2"
   ]
  },
  {
   "cell_type": "code",
   "execution_count": null,
   "metadata": {},
   "outputs": [],
   "source": [
    "def buildD4(N,dy):\n",
    "    \"\"\" Construit la matrice de l'opérateur D4 discrétisé au second ordre avec les bonnes conditions au bord\n",
    "   \n",
    "    Paramètres:\n",
    "    ----------\n",
    "    N   : Nombres de points de dicrétisation de la grille originale (avec bords)\n",
    "    dy  : espacement entre les points de la grille de discrétisation\n",
    "   \n",
    "    Renvoie:\n",
    "    -------\n",
    "    D4  : matrice sparse de l'opérateur D4\n",
    "    \"\"\"\n",
    "    \n",
    "    D4 = (scipy.eye(N-2,N-2,-2) - 4*scipy.eye(N-2,N-2,-1) + 6*scipy.eye(N-2,N-2,0) - 4*scipy.eye(N-2,N-2,1) + \\\n",
    "          scipy.eye(N-2,N-2,2))\n",
    "        \n",
    "    D4[0,0] = 7\n",
    "    D4[-1,-1] = 7\n",
    "    \n",
    "    return D4/dy**4"
   ]
  },
  {
   "cell_type": "markdown",
   "metadata": {},
   "source": [
    "Vérifions l'implémentation des opérateurs $D^2$ et $D^4$ dans le cas $N=7$ et un espacement $dy=1$ pour avoir les coefficients:"
   ]
  },
  {
   "cell_type": "code",
   "execution_count": null,
   "metadata": {},
   "outputs": [],
   "source": [
    "N = 7\n",
    "D2 = buildD2(N,1)\n",
    "D4 = buildD4(N,1)\n",
    "\n",
    "print(D2)\n",
    "print(D4)"
   ]
  },
  {
   "cell_type": "code",
   "execution_count": null,
   "metadata": {},
   "outputs": [],
   "source": [
    "def buildAB(Re, alpha, N):\n",
    "    \"\"\" Construit les matrices A et B de l'équation d'Orr-Sommerfeld discrétisée Av = cBv\n",
    "   \n",
    "    Paramètres:\n",
    "    ----------\n",
    "    Re      : Nombre de Reynolds \n",
    "    alpha   : Nombre d'onde de la perturbation\n",
    "    N       : Nombres de points de dicrétisation de la grille originale (avec bords)\n",
    "   \n",
    "    Renvoie:\n",
    "    -------\n",
    "    A   \n",
    "    B   \n",
    "    \"\"\"\n",
    "    dy = 2.0/(N-1)\n",
    "    y = scipy.linspace(-1,1,N)\n",
    "    U0 = U(y[1:-1]) * scipy.eye(N-2,N-2)\n",
    "    U2 = -2 * scipy.eye(N-2,N-2)\n",
    "    \n",
    "    Malpha  = alpha    * scipy.eye(N-2,N-2)\n",
    "    Malpha2 = alpha**2 * scipy.eye(N-2,N-2)\n",
    "    Malpha4 = alpha**4 * scipy.eye(N-2,N-2)\n",
    "    \n",
    "    D2 = buildD2(N,dy)\n",
    "    D4 = buildD4(N,dy)\n",
    "    \n",
    "    A = numpy.dot(U0,(D2-Malpha2)) - U2 - 1/(1j*alpha*Re) * \\\n",
    "        ( D4 - 2* numpy.dot(D2,Malpha2) + Malpha4 )\n",
    "    B = D2 - Malpha2\n",
    "    \n",
    "    return [A,B]"
   ]
  },
  {
   "cell_type": "markdown",
   "metadata": {},
   "source": [
    "Nous copions ces fonctions dans le fichier \"operateurs.py\" pour pouvoir les importer dans d'autres notebooks."
   ]
  },
  {
   "cell_type": "markdown",
   "metadata": {},
   "source": [
    "## Recherche des modes propres: pour un couple ($Re$, $\\alpha$)"
   ]
  },
  {
   "cell_type": "code",
   "execution_count": null,
   "metadata": {},
   "outputs": [],
   "source": [
    "Re = 10000\n",
    "alpha = 1\n",
    "N = 200 # points de la grille avec bords\n",
    "\n",
    "start = time.time()\n",
    "\n",
    "[A,B] = buildAB(Re, alpha, N)\n",
    "stop = time.time()\n",
    "print(stop-start)\n",
    "\n",
    "[c,vecp] = scipy.linalg.eig(A,B)\n",
    "stop = time.time()\n",
    "print(stop-start)"
   ]
  },
  {
   "cell_type": "markdown",
   "metadata": {},
   "source": [
    "Les valeurs numériques des valeurs propres instables ou près de l'instabilité sont les suivantes:"
   ]
  },
  {
   "cell_type": "code",
   "execution_count": null,
   "metadata": {},
   "outputs": [],
   "source": [
    "print(\"Valeurs propres:\")\n",
    "print(c[numpy.where(numpy.imag(c)>-0.1)])\n",
    "print(\"Indices correspondants:\")\n",
    "print(numpy.where(numpy.imag(c)>-0.1))"
   ]
  },
  {
   "cell_type": "code",
   "execution_count": null,
   "metadata": {},
   "outputs": [],
   "source": [
    "y = scipy.linspace(-1,1,N)\n",
    "\n",
    "pyplot.figure(figsize=(8,5));\n",
    "pyplot.plot(numpy.real(c),numpy.imag(c), '.', label='vps');\n",
    "indices = numpy.where(numpy.imag(c)>0)\n",
    "pyplot.plot(numpy.real(c[indices]),numpy.imag(c[indices]), '+', label=\"Im(c)>0\");\n",
    "pyplot.title('Valeurs propres');\n",
    "pyplot.xlabel('$Re(c)$');\n",
    "pyplot.ylabel('$Im(c)$');\n",
    "pyplot.legend(loc=1);\n",
    "pyplot.show()"
   ]
  },
  {
   "cell_type": "markdown",
   "metadata": {},
   "source": [
    "Remarquons qu'un très grand nombre de modes propres a été trouvé. Tous les modes calculés ne sont pas valides physiquement et il faut faire le tri parmi les valeurs propres trouvées. Nous pouvons identifier les valeurs non physiques en affinant la discrétisation. En effet, celles-ci dépendent de la discrétisation effectuée et se retrouvent donc plus au même endroit pour un nombre de points différents. Nous reproduisons ci-dessous le calcul pour $N=400$ et observons que beaucoup de valeurs propres se sont déplacées."
   ]
  },
  {
   "cell_type": "code",
   "execution_count": null,
   "metadata": {},
   "outputs": [],
   "source": [
    "Re = 10000\n",
    "alpha = 1\n",
    "N = 400 # on prend plus de points\n",
    "\n",
    "start = time.time()\n",
    "\n",
    "[A,B] = buildAB(Re, alpha, N)\n",
    "stop = time.time()\n",
    "print(stop-start)\n",
    "\n",
    "[c,vecp] = scipy.linalg.eig(A,B)\n",
    "stop = time.time()\n",
    "print(stop-start)"
   ]
  },
  {
   "cell_type": "code",
   "execution_count": null,
   "metadata": {},
   "outputs": [],
   "source": [
    "y = scipy.linspace(-1,1,N)\n",
    "\n",
    "pyplot.figure(figsize=(8,5));\n",
    "pyplot.plot(numpy.real(c),numpy.imag(c), '.', label='vps');\n",
    "indices = numpy.where(numpy.imag(c)>0)\n",
    "pyplot.plot(numpy.real(c[indices]),numpy.imag(c[indices]), '+', label=\"Im(c)>0\");\n",
    "pyplot.title('Valeurs propres');\n",
    "pyplot.xlabel('$Re(c)$');\n",
    "pyplot.ylabel('$Im(c)$');\n",
    "pyplot.legend(loc=1);\n",
    "pyplot.show()"
   ]
  },
  {
   "cell_type": "markdown",
   "metadata": {},
   "source": [
    "Un affichage limité à la région du plan qui contient les valeurs propres physiques est plus adapté:"
   ]
  },
  {
   "cell_type": "code",
   "execution_count": null,
   "metadata": {},
   "outputs": [],
   "source": [
    "m = 2 # indice de la valeur propre à afficher\n",
    "\n",
    "pyplot.figure(figsize=(8,5));\n",
    "pyplot.plot(numpy.real(c),numpy.imag(c), '.', label='vps');\n",
    "pyplot.plot(numpy.real(c[m]),numpy.imag(c[m]), 'o', label=\"vp #{:d}\".format(m));\n",
    "indices = numpy.where(numpy.imag(c)>0)\n",
    "pyplot.plot(numpy.real(c[indices]),numpy.imag(c[indices]), '+', label=\"Im(c)>0\");\n",
    "pyplot.title('Valeurs propres');\n",
    "pyplot.xlabel('$Re(c)$');\n",
    "pyplot.ylabel('$Im(c)$');\n",
    "pyplot.ylim([-1,0.5]) # on se limite à la région du plan qui contient les valeurs propres physiques\n",
    "pyplot.legend(loc=3);\n",
    "pyplot.show()"
   ]
  },
  {
   "cell_type": "markdown",
   "metadata": {},
   "source": [
    "Nous pouvons afficher le vecteur propre associé à la valeur propre marquée en orange. Notons que celle-ci respecte les conditions imposées aux bords."
   ]
  },
  {
   "cell_type": "code",
   "execution_count": null,
   "metadata": {},
   "outputs": [],
   "source": [
    "m = 2 # indice de la valeur propre à afficher\n",
    "\n",
    "pyplot.figure(figsize=(8,5));\n",
    "pyplot.plot(y[1:-1],numpy.real(vecp[:,m]), '-', label='real');\n",
    "pyplot.plot(y[1:-1],numpy.imag(vecp[:,m]), '-', label='imag');\n",
    "pyplot.title(\"Vecteur propre #{:d}, c = {:.3f}\".format(m,c[m]));\n",
    "pyplot.xlabel('$y$');\n",
    "pyplot.ylabel('$v(y)$');\n",
    "pyplot.legend(loc=3);\n",
    "pyplot.show()"
   ]
  },
  {
   "cell_type": "markdown",
   "metadata": {},
   "source": [
    "## Recherche des modes propres: comparaison avec une valeur de référence et convergence"
   ]
  },
  {
   "cell_type": "code",
   "execution_count": null,
   "metadata": {},
   "outputs": [],
   "source": [
    "Ns = 250*numpy.array([1,1.5,1.5**2,1.5**3,1.5**4,1.5**5,1.5**6])\n",
    "print(Ns)"
   ]
  },
  {
   "cell_type": "code",
   "execution_count": null,
   "metadata": {
    "scrolled": true
   },
   "outputs": [],
   "source": [
    "Ns = numpy.array([250,375,563,844,1266,1898,2848])\n",
    "values = numpy.zeros((8,len(Ns))).astype(complex)\n",
    "\n",
    "Re = 10000\n",
    "alpha = 1\n",
    "\n",
    "for i in range(len(Ns)):\n",
    "    \n",
    "    start = time.time()\n",
    "    \n",
    "    [A,B] = buildAB(Re, alpha, Ns[i])\n",
    "    [c,vecp] = scipy.linalg.eig(A,B)\n",
    "\n",
    "    print(\"Eigenvalues for N={:d} are: \".format(Ns[i]))\n",
    "    print(c[numpy.where((numpy.imag(c)>-0.1) & (numpy.imag(c)<0.5))])\n",
    "    values[:,i] = c[numpy.where((numpy.imag(c)>-0.1) & (numpy.imag(c)<0.5))][:8]\n",
    "    \n",
    "    stop = time.time()\n",
    "    print(\"Execution time for N={:d} is {:.3f} seconds\".format(Ns[i],stop-start))\n",
    "\n",
    "print(\"\\nSpecific eigenvalue for each N: \")\n",
    "print(values)"
   ]
  },
  {
   "cell_type": "markdown",
   "metadata": {},
   "source": [
    "Nous affichons dans le tableau qui suit pour quelques valeurs propres trouvées dans le livre de référence: \"Theory and computation of hydrodynamic stability\" par W.O.Criminale, T.L.Jackson et R.D.Joslin, page 80. Le couple $(Re,\\alpha)$ pour ces valeurs propres est le même que celui choisi ici: (1,10000).\n",
    "\n",
    "|  Re(c)  |  Im(c)   |\n",
    "|---------|----------|\n",
    "| 0.23753 |  0.00374 |\n",
    "| 0.96464 | -0.03519 |\n",
    "| 0.93635 | -0.06325 |\n",
    "| 0.90806 | -0.09131 |\n",
    "\n",
    "\n",
    "En regardant les valeurs les plus précises calculées dans la cellule précédante, nous constatons que les résultats obtenus convergent effectivement vers ce qui est attendu pour le même problème. Nous n'avons pas affiché de valeurs de référence pour chacune des valeurs propres calculées car seulement les modes symétriques sont mentionnés dans le livre de référence. Ci-dessus la convergence pour la première valeur propre:"
   ]
  },
  {
   "cell_type": "code",
   "execution_count": null,
   "metadata": {},
   "outputs": [],
   "source": [
    "pyplot.figure(figsize=(8,6));\n",
    "i=0 # 1ere valeur propre\n",
    "print(values[i,:])\n",
    "pyplot.plot(Ns, numpy.imag(values[i,:]), '.', label=\"i={:d}\".format(i));\n",
    "pyplot.title('Convergence pour les 8 premières valeur propre');\n",
    "pyplot.xlabel('$N$')\n",
    "pyplot.ylabel('Im(c)')\n",
    "pyplot.grid(1,which='minor')\n",
    "pyplot.legend(loc=4);\n",
    "pyplot.show()"
   ]
  },
  {
   "cell_type": "markdown",
   "metadata": {},
   "source": [
    "## Discrétisation de type *forward* et *backward* pour les dérivées au bord"
   ]
  },
  {
   "cell_type": "markdown",
   "metadata": {},
   "source": [
    "Redéfinissons les opérateurs de dérivée en implémentant la condition $v'(y)=0$ avec des discrétisations de type forward et backward. L'idée est ici de ne pas faire référence à $v_{-2}$ afin de ne pas utiliser la discrétisation centrée d'ordre 2 faite avec deux points de discrétisation d'écart. En effet, la discrétisation utilisée,\n",
    "\n",
    "$$ 0 = v'(y) = \\frac{v_2 - v_{-2}}{4 \\Delta y} + \\mathcal O((\\Delta y)^2) $$\n",
    "\n",
    "pourrait converger beaucoup plus lentement, bien que du bon ordre, car le facteur d'erreur serait plus grand.\n",
    "\n",
    "La condition au bord $y=-1$ discrétisée dans le cas *forward* s'écrit:\n",
    "\n",
    "$$ 0 = v'(y) = \\frac{-\\frac 32 v_0 + 2 v_1 -\\frac 12 v_2}{\\Delta y} + \\mathcal O((\\Delta y)^2) \n",
    "    \\iff v_1 = \\frac 14 v_2 + \\mathcal O((\\Delta y)^3)   \\qquad \\text{sachant que}\\qquad v_0 = 0$$\n",
    "\n",
    "et dans le cas *backwards* en $y=1$:\n",
    "\n",
    "$$ 0 = v'(y) = \\frac{\\frac 32 v_{N-3} - 2 v_{N-2} +\\frac 12 v_{N-1}}{\\Delta y} + \\mathcal O((\\Delta y)^2) \n",
    "    \\iff v_{N-2} = \\frac 14 v_{N-3} + \\mathcal O((\\Delta y)^3)  \\qquad \\text{sachant que}\\qquad v_{N-1} = 0$$\n",
    "\n",
    "Nous allons donc réduire le problème aux valeurs propres de deux dimensions en ne calculant plus l'évolution pour $v_1$ ni $v_{N-2}$, que nous pouvons toutes deux remplacer par les expressions ci-dessus."
   ]
  },
  {
   "cell_type": "code",
   "execution_count": null,
   "metadata": {},
   "outputs": [],
   "source": [
    "def buildD2_forward(N,dy):\n",
    "    \"\"\" Construit la matrice de l'opérateur D2 discrétisé de type forward (et backward) au second ordre \n",
    "    avec les bonnes conditions au bord\n",
    "   \n",
    "    Paramètres:\n",
    "    ----------\n",
    "    N   : Nombres de points de dicrétisation de la grille originale (avec bords)\n",
    "    dy  : espacement entre les points de la grille de discrétisation\n",
    "   \n",
    "    Renvoie:\n",
    "    -------\n",
    "    D2  : matrice sparse de l'opérateur D2\n",
    "    \"\"\"\n",
    "    \n",
    "    D2 = (scipy.eye(N-4,N-4,-1) - 2*scipy.eye(N-4,N-4,0) + scipy.eye(N-4,N-4,1))\n",
    "    \n",
    "    D2[0,0] = -7/4\n",
    "    D2[-1,-1] = -7/4\n",
    "    \n",
    "    return D2/dy**2"
   ]
  },
  {
   "cell_type": "code",
   "execution_count": null,
   "metadata": {},
   "outputs": [],
   "source": [
    "def buildD4_forward(N,dy):\n",
    "    \"\"\" Construit la matrice de l'opérateur D4 discrétisé de type forward (et backward) au second ordre \n",
    "    avec les bonnes conditions au bord\n",
    "   \n",
    "    Paramètres:\n",
    "    ----------\n",
    "    N   : Nombres de points de dicrétisation de la grille originale (avec bords)\n",
    "    dy  : espacement entre les points de la grille de discrétisation\n",
    "   \n",
    "    Renvoie:\n",
    "    -------\n",
    "    D4  : matrice sparse de l'opérateur D4\n",
    "    \"\"\"\n",
    "    \n",
    "    D4 = (scipy.eye(N-4,N-4,-2) - 4*scipy.eye(N-4,N-4,-1) + 6*scipy.eye(N-4,N-4,0) - 4*scipy.eye(N-4,N-4,1) + \\\n",
    "          scipy.eye(N-4,N-4,2))\n",
    "        \n",
    "    D4[0,0] = 5\n",
    "    D4[1,0] = -15/4\n",
    "    D4[-1,-1] = 5\n",
    "    D4[-2,-1] = -15/4\n",
    "    \n",
    "    return D4/dy**4"
   ]
  },
  {
   "cell_type": "markdown",
   "metadata": {},
   "source": [
    "Vérifions l'implémentation des opérateurs $D^2$ et $D^4$ dans le cas $N=9$ et un espacement $dy=1$ pour avoir les coefficients:"
   ]
  },
  {
   "cell_type": "code",
   "execution_count": null,
   "metadata": {},
   "outputs": [],
   "source": [
    "N = 9\n",
    "D2 = buildD2_forward(N,1)\n",
    "D4 = buildD4_forward(N,1)\n",
    "\n",
    "print(D2)\n",
    "print(D4)"
   ]
  },
  {
   "cell_type": "code",
   "execution_count": null,
   "metadata": {},
   "outputs": [],
   "source": [
    "def buildAB_forward(Re, alpha, N):\n",
    "    \"\"\" Construit les matrices A et B de l'équation d'Orr-Sommerfeld discrétisée Av = cBv avec une implémentation \n",
    "    forward et backward des conditions aux bords\n",
    "   \n",
    "    Paramètres:\n",
    "    ----------\n",
    "    Re      : Nombre de Reynolds \n",
    "    alpha   : Nombre d'onde de la perturbation\n",
    "    N       : Nombres de points de dicrétisation de la grille originale (avec bords)\n",
    "   \n",
    "    Renvoie:\n",
    "    -------\n",
    "    A   \n",
    "    B   \n",
    "    \"\"\"\n",
    "    dy = 2.0/(N-1)\n",
    "    y = scipy.linspace(-1,1,N)\n",
    "    U0 = U(y[2:-2]) * scipy.eye(N-4,N-4)\n",
    "    U2 = -2 * scipy.eye(N-4,N-4)\n",
    "    \n",
    "    Malpha  = alpha    * scipy.eye(N-4,N-4)\n",
    "    Malpha2 = alpha**2 * scipy.eye(N-4,N-4)\n",
    "    Malpha4 = alpha**4 * scipy.eye(N-4,N-4)\n",
    "    \n",
    "    D2 = buildD2_forward(N,dy)\n",
    "    D4 = buildD4_forward(N,dy)\n",
    "    \n",
    "    A = numpy.dot(U0,(D2-Malpha2)) - U2 - 1/(1j*alpha*Re) * \\\n",
    "        ( D4 - 2* numpy.dot(D2,Malpha2) + Malpha4 )\n",
    "    B = D2 - Malpha2\n",
    "    \n",
    "    return [A,B]"
   ]
  },
  {
   "cell_type": "code",
   "execution_count": null,
   "metadata": {},
   "outputs": [],
   "source": [
    "N = 9\n",
    "Re = 10000\n",
    "alpha = 1\n",
    "[A,B] = buildAB_forward(Re, alpha, N)\n",
    "\n",
    "print(-1j*A)\n",
    "print(B)"
   ]
  },
  {
   "cell_type": "markdown",
   "metadata": {},
   "source": [
    "## Convergence du calcul des modes propres pour la discrétisation forward des conditions aux bords"
   ]
  },
  {
   "cell_type": "code",
   "execution_count": null,
   "metadata": {},
   "outputs": [],
   "source": [
    "Ns = numpy.array([250,375,563,844,1266,1898,2848])\n",
    "values = numpy.zeros((8,len(Ns))).astype(complex)\n",
    "\n",
    "Re = 10000\n",
    "alpha = 1\n",
    "\n",
    "for i in range(len(Ns)):\n",
    "    \n",
    "    start = time.time()\n",
    "    \n",
    "    [A,B] = buildAB_forward(Re, alpha, Ns[i])\n",
    "    [c,vecp] = scipy.linalg.eig(A,B)\n",
    "\n",
    "    print(\"Eigenvalues for N={:d} are: \".format(Ns[i]))\n",
    "    print(c[numpy.where((numpy.imag(c)>-0.1) & (numpy.imag(c)<0.5))])\n",
    "    print(c)\n",
    "    values[:,i] = c[numpy.where((numpy.imag(c)>-0.1) & (numpy.imag(c)<0.5))][:8]\n",
    "    \n",
    "    stop = time.time()\n",
    "    print(\"Execution time for N={:d} is {:.3f} seconds\".format(Ns[i],stop-start))\n",
    "\n",
    "print(\"Specific eigenvalue for each N: \")\n",
    "print(values)"
   ]
  },
  {
   "cell_type": "code",
   "execution_count": null,
   "metadata": {},
   "outputs": [],
   "source": [
    "pyplot.figure(figsize=(8,5));\n",
    "pyplot.plot(numpy.real(c),numpy.imag(c), '.', label='vps');\n",
    "indices = numpy.where(numpy.imag(c)>0)\n",
    "pyplot.plot(numpy.real(c[indices]),numpy.imag(c[indices]), '+', label=\"Im(c)>0\");\n",
    "pyplot.title('Valeurs propres');\n",
    "pyplot.xlabel('$Re(c)$');\n",
    "pyplot.ylabel('$Im(c)$');\n",
    "pyplot.legend(loc=1);\n",
    "pyplot.show()"
   ]
  },
  {
   "cell_type": "code",
   "execution_count": null,
   "metadata": {},
   "outputs": [],
   "source": [
    "pyplot.figure(figsize=(8,6));\n",
    "i=0 # 1ere valeur propre\n",
    "print(values[i,:])\n",
    "pyplot.plot(Ns, numpy.imag(values[i,:]), '.', label=\"i={:d}\".format(i));\n",
    "pyplot.title('Convergence pour les 8 premières valeur propre');\n",
    "pyplot.xlabel('$N$')\n",
    "pyplot.ylabel('Im(c)')\n",
    "pyplot.grid(1,which='minor')\n",
    "pyplot.legend(loc=4);\n",
    "pyplot.show()"
   ]
  },
  {
   "cell_type": "markdown",
   "metadata": {},
   "source": [
    "## Recherche des modes propres: diagramme de stabilité selon ($Re$, $\\alpha$)"
   ]
  },
  {
   "cell_type": "markdown",
   "metadata": {},
   "source": [
    "Dans cette section, nous établissons un diagramme indiquant quelles combinaisons des paramètres $(Re,\\alpha)$ sont instables. \n",
    "\n",
    "Commençons par calculer les vitesses $c$ des modes propres pour plusieurs couples $(Re,\\alpha)$."
   ]
  },
  {
   "cell_type": "code",
   "execution_count": null,
   "metadata": {},
   "outputs": [],
   "source": [
    "alpha = numpy.linspace(0.2,1.2,20)\n",
    "Re = numpy.linspace(100,50100,20)\n",
    "N = 200 # points de la grille avec bords\n",
    "\n",
    "c = numpy.zeros((len(Re),len(alpha),N-2)).astype(complex)\n",
    "#vecp = numpy.zeros((len(Re),len(alpha),N, N)).astype(complex)\n",
    "\n",
    "for i in range(len(Re)):\n",
    "    print(\"loop {:d} of {:d}\".format(i,len(Re)))\n",
    "    for j in range(len(alpha)):\n",
    "        [A,B] = buildAB(Re[i], alpha[j], N)\n",
    "        c[i,j,:] = scipy.linalg.eig(A,B)[0]"
   ]
  },
  {
   "cell_type": "markdown",
   "metadata": {},
   "source": [
    "Nous devons ensuite déterminer quels couples donnent des modes propres instables. Dans ce but, nous cherchons pour chaque couple $(Re,\\alpha)$ s'il possède au moins un mode dont la partie imaginaire $\\text{Im}(c)$ de sa vitesse de propagation (stockée dans la variable \"$c$\") est supérieure à $0$. \n",
    "\n",
    "Pour une raison non identifiée, il arrive en faisant tourner le code sur certaine machines que quelques valeurs propres se retrouvent avec une partie imaginaire supérieure à $0.5$. Nous demandons donc aussi que $\\text{Im}(c)<0.3$ afin de ne pas compter ces valeurs propres non-physiques. Il nous faudra aussi vérifier que cette condition arbitraire n'élimine pas de valeurs propres physiques et est efficace pour éliminer ces mauvaises valeurs propres."
   ]
  },
  {
   "cell_type": "code",
   "execution_count": null,
   "metadata": {},
   "outputs": [],
   "source": [
    "instabilityMap = numpy.zeros((len(Re),len(alpha)))\n",
    "\n",
    "for i in range(len(Re)):\n",
    "    for j in range(len(alpha)):\n",
    "        cUnstable = c[i,j,numpy.where((numpy.imag(c[i,j,:])>0) & (numpy.imag(c[i,j,:])<0.3))[0]]\n",
    "        if len(cUnstable)!=0:\n",
    "            instabilityMap[i,j] = 1\n",
    "\n",
    "\n",
    "Res0 = numpy.empty((1))\n",
    "alphas0 = numpy.empty((1))\n",
    "Res1 = numpy.empty((1))\n",
    "alphas1 = numpy.empty((1))\n",
    "\n",
    "for i in range(len(Re)):\n",
    "    for j in range(len(alpha)):\n",
    "        if instabilityMap[i,j]==0:\n",
    "            Res0 = numpy.concatenate((Res0,[Re[i]]), axis=0)\n",
    "            alphas0 = numpy.concatenate((alphas0,[alpha[j]]), axis=0)\n",
    "        if instabilityMap[i,j]==1:\n",
    "            Res1 = numpy.concatenate((Res1,[Re[i]]), axis=0)\n",
    "            alphas1 = numpy.concatenate((alphas1,[alpha[j]]), axis=0)"
   ]
  },
  {
   "cell_type": "markdown",
   "metadata": {},
   "source": [
    "Construisons deux listes des valeurs propres de partie imaginaires positives classée selon notre seuil comme physiques et non-physiques."
   ]
  },
  {
   "cell_type": "code",
   "execution_count": null,
   "metadata": {},
   "outputs": [],
   "source": [
    "csUnstablePhysical = numpy.array([])\n",
    "csUnstableNonPhysical = numpy.array([])\n",
    "\n",
    "for i in range(len(Re)):\n",
    "    for j in range(len(alpha)):\n",
    "        cUnstablePhysical = c[i,j,numpy.where((numpy.imag(c[i,j,:])>0) & (numpy.imag(c[i,j,:])<0.3))[0]]\n",
    "        cUnstableNonPhysical = c[i,j,numpy.where((numpy.imag(c[i,j,:])>0) & (numpy.imag(c[i,j,:])>=0.3))[0]]\n",
    "        csUnstablePhysical = numpy.concatenate((csUnstablePhysical,cUnstablePhysical),axis=0)\n",
    "        csUnstableNonPhysical = numpy.concatenate((csUnstableNonPhysical,cUnstableNonPhysical),axis=0)"
   ]
  },
  {
   "cell_type": "code",
   "execution_count": null,
   "metadata": {},
   "outputs": [],
   "source": [
    "pyplot.figure(figsize=(8,6));\n",
    "pyplot.plot(numpy.real(csUnstablePhysical), numpy.imag(csUnstablePhysical), '.', label='Physique');\n",
    "pyplot.plot(numpy.real(csUnstableNonPhysical), numpy.imag(csUnstableNonPhysical), '.', label='Non Physique');\n",
    "pyplot.title('Valeurs propres instables');\n",
    "pyplot.xlabel('$Re(c)$')\n",
    "pyplot.ylabel('$Im(c)$')\n",
    "pyplot.ylim([-0.1,1])\n",
    "pyplot.legend(loc=1);\n",
    "pyplot.show()"
   ]
  },
  {
   "cell_type": "markdown",
   "metadata": {},
   "source": [
    "Nous remarquons sur le dernier graphique que le choix de seuil à $0.3$ convient bien pour différencier les valeurs propres physiques des non-physiques."
   ]
  },
  {
   "cell_type": "code",
   "execution_count": null,
   "metadata": {},
   "outputs": [],
   "source": [
    "pyplot.figure(figsize=(8,6));\n",
    "pyplot.plot(Res0, alphas0, '.', label='Stable');\n",
    "pyplot.plot(Res1, alphas1, 'o', label='Instable');\n",
    "pyplot.title('Diagramme d\\'instabilité');\n",
    "pyplot.xlabel('$Re$')\n",
    "pyplot.ylabel('$alpha$')\n",
    "pyplot.xlim([Re[0], Re[-1]])\n",
    "pyplot.ylim([alpha[0], alpha[-1]])\n",
    "pyplot.legend(loc=3);\n",
    "pyplot.show()"
   ]
  },
  {
   "cell_type": "code",
   "execution_count": null,
   "metadata": {},
   "outputs": [],
   "source": [
    "pyplot.figure(figsize=(8,6))\n",
    "pyplot.contourf(Re,alpha,instabilityMap.T,1,cmap=cm.viridis)\n",
    "pyplot.xlabel('$Re$')\n",
    "pyplot.ylabel('$alpha$')\n",
    "pyplot.colorbar();\n",
    "pyplot.show()"
   ]
  },
  {
   "cell_type": "markdown",
   "metadata": {},
   "source": [
    "Encore une fois, les résultats obtenus correspondent à ceux obtenus pour le même problème dans $<$insérer référence criminale$>$\n",
    "$<$insérer image$>$"
   ]
  },
  {
   "cell_type": "markdown",
   "metadata": {},
   "source": [
    "## Modes symétriques et antisymétriques"
   ]
  },
  {
   "cell_type": "markdown",
   "metadata": {},
   "source": [
    "Dans cette section, nous vérifions que les modes instables sont uniquement des modes symétriques, c-à-d pour lesquels $v(y) = v(L-y)$. \n",
    "\n",
    "Il ne devrait effectivement pas exister de modes antisymétriques instables. En effet, un tel mode voit sa dérivée seconde de la vitesse s'annuler au centre, i.e. $D^2v = 0$. Par conséquent, l'équation d'Orr-Sommerfeld se réduit à \n",
    "\n",
    "$$ -(U-c)\\alpha^2 v - U''v = \\frac{1}{i Re} \\alpha^3 v $$\n",
    "\n",
    "La condition d'instabilité dans notre choix de signe est que $\\text{Im}(c)>0$. Prenons les parties imaginaires des deux membres:\n",
    "\n",
    "$$ \\text{Im}(LHS) = \\text{Im}(c)\\ \\text{Im}(v) $$\n",
    "$$ \\text{Im}(RHS) = \\text{Im}(-i)\\ \\text{Im}(v) $$\n",
    "\n",
    "Comme $\\text{Im}(c)>0$ et $\\text{Im}(-i)=-1$ , les deux termes ne peuvent être égaux et l'existance d'un mode antisymétrique instable contredit donc l'équation d'Orr-Sommerfeld."
   ]
  },
  {
   "cell_type": "code",
   "execution_count": null,
   "metadata": {},
   "outputs": [],
   "source": [
    "def checkIfSymmetric(vecp):\n",
    "    \"\"\" Vérifie la parité d'un mode propre\n",
    "   \n",
    "    Paramètres:\n",
    "    ----------\n",
    "    vecp    : Mode propre\n",
    "   \n",
    "    Renvoie \"true\" si le mode est symétrique et \"false\" sinon\n",
    "    \"\"\"\n",
    "    \n",
    "    N = len(vecp)\n",
    "    diffSym = vecp[int(N/4)]-vecp[-1-int(N/4)] # petit si mode symétrique\n",
    "    \n",
    "    return (abs(diffSym) <= abs(vecp[int(N/2)]))"
   ]
  },
  {
   "cell_type": "code",
   "execution_count": null,
   "metadata": {},
   "outputs": [],
   "source": [
    "def categoriseModes(c,vecp):\n",
    "    \"\"\" Trie les modes propres selon leur parité\n",
    "   \n",
    "    Paramètres:\n",
    "    ----------\n",
    "    c       : Vecteur contenant les valeurs propres\n",
    "    vecp    : Vecteur contenant les modes propres associé\n",
    "   \n",
    "    Renvoie:\n",
    "    --------\n",
    "    cSym        : Vecteur contenant les valeurs propres symétriques\n",
    "    cAntiSym    : Vecteur contenant les valeurs propres anti-symétriques\n",
    "    vecpSym     : Vecteur contenant les vecteur propres symétriques associés\n",
    "    vecpAntiSym : Vecteur contenant les vecteur propres anti-symétriques associés\n",
    "    \"\"\"\n",
    "    \n",
    "    N = len(vecp[:,0])\n",
    "    cSym = numpy.array([])\n",
    "    cAntisym = numpy.array([])\n",
    "    vecpSym = numpy.array([])\n",
    "    vecpAntisym = numpy.array([])\n",
    "    \n",
    "    for i in range(len(c)):\n",
    "        \n",
    "        if (checkIfSymmetric(vecp[:,i])):\n",
    "            cSym = numpy.append(cSym, c[i])\n",
    "            vecpSym = numpy.append(vecpSym, vecp[:,i])\n",
    "        else:\n",
    "            cAntisym = numpy.append(cAntisym, c[i])\n",
    "            vecpAntisym = numpy.append(vecpAntisym, vecp[:,i])\n",
    "    \n",
    "    return [cSym,cAntisym,vecpSym, vecpAntisym]"
   ]
  },
  {
   "cell_type": "code",
   "execution_count": null,
   "metadata": {},
   "outputs": [],
   "source": [
    "alpha = 1\n",
    "Re = 10000\n",
    "N = 200\n",
    "\n",
    "[A,B] = buildAB(Re, alpha, N)\n",
    "[c,vecp] = scipy.linalg.eig(A,B)\n",
    "[cSym,cAntisym,vecpSymn, vecpAntisym] = categoriseModes(c,vecp)"
   ]
  },
  {
   "cell_type": "code",
   "execution_count": null,
   "metadata": {},
   "outputs": [],
   "source": [
    "y = scipy.linspace(-1,1,N)\n",
    "m = 2;\n",
    "\n",
    "pyplot.figure(figsize=(8,5));\n",
    "pyplot.plot(numpy.real(cSym),numpy.imag(cSym), 'o', label='vps sym');\n",
    "pyplot.plot(numpy.real(cAntisym),numpy.imag(cAntisym), 'o', label='vps antisym');\n",
    "indices = numpy.where(numpy.imag(c)>0)\n",
    "pyplot.plot(numpy.real(c[indices]),numpy.imag(c[indices]), '+', label=\"Im(c)>0\");\n",
    "pyplot.plot(numpy.real(c[m]),numpy.imag(c[m]), '+', label=\"vp #{:d}\".format(m));\n",
    "pyplot.title('Modes Symétriques / Antisymétriques');\n",
    "pyplot.xlabel('$Re(c)$');\n",
    "pyplot.ylabel('$Im(c)$');\n",
    "pyplot.ylim([-2,1])\n",
    "pyplot.legend(loc=3);\n",
    "pyplot.show()\n",
    "\n",
    "pyplot.figure(figsize=(8,5));\n",
    "pyplot.plot(y[1:-1],numpy.real(vecp[:,m]), '-', label='real');\n",
    "pyplot.plot(y[1:-1],numpy.imag(vecp[:,m]), '-', label='imag');\n",
    "pyplot.title(\"Vecteur propre #{:d}, c = {:.3f}\".format(m,c[m]));\n",
    "pyplot.xlabel('$y$');\n",
    "pyplot.ylabel('$v(y)$');\n",
    "pyplot.legend(loc=3);\n",
    "pyplot.show()\n",
    "\n",
    "print(indices)"
   ]
  },
  {
   "cell_type": "markdown",
   "metadata": {},
   "source": [
    "En répètant le test sur plusieurs couples (Re,alpha), on vérifie ainsi que ce sont bien les modes symétriques qui engendrent les instabilités"
   ]
  },
  {
   "cell_type": "code",
   "execution_count": null,
   "metadata": {},
   "outputs": [],
   "source": [
    "alpha = numpy.linspace(0.2,1.2,20)\n",
    "Re = numpy.linspace(100,50100,20)\n",
    "N = 200\n",
    "\n",
    "c = numpy.zeros((len(Re),len(alpha),N-2)).astype(complex)\n",
    "vecp = numpy.zeros((len(Re),len(alpha),N,N-2)).astype(complex)\n",
    "\n",
    "for i in range(len(Re)):\n",
    "    print(\"loop {:d} of {:d}\".format(i+1,len(Re)))\n",
    "    for j in range(len(alpha)):\n",
    "        [A,B] = buildAB(Re[i], alpha[j], N)\n",
    "        c[i,j,:] = scipy.linalg.eig(A,B)[0]"
   ]
  },
  {
   "cell_type": "code",
   "execution_count": null,
   "metadata": {},
   "outputs": [],
   "source": [
    "instabilityMap = numpy.zeros((len(Re),len(alpha)))\n",
    "\n",
    "for i in range(len(Re)):\n",
    "    for j in range(len(alpha)):\n",
    "        cUnstable = c[i,j,numpy.where((numpy.imag(c[i,j,:])>0) & (numpy.imag(c[i,j,:])<0.3))]\n",
    "        vecpUnstable = vecp[i,j,:,numpy.where((numpy.imag(c[i,j,:])>0) & (numpy.imag(c[i,j,:])<0.3))]\n",
    "        if cUnstable.size>0:\n",
    "            if checkIfSymmetric(vecpUnstable[0,0]):\n",
    "                instabilityMap[i,j] = 1\n",
    "            else:\n",
    "                instabilityMap[i,j] = 2\n",
    "                             \n",
    "#print(instabilityMap)\n",
    "\n",
    "Res0 = numpy.empty((1))\n",
    "alphas0 = numpy.empty((1))\n",
    "Res1 = numpy.empty((1))\n",
    "alphas1 = numpy.empty((1))\n",
    "Res2 = numpy.empty((1))\n",
    "alphas2 = numpy.empty((1))\n",
    "\n",
    "for i in range(len(Re)):\n",
    "    for j in range(len(alpha)):\n",
    "        if instabilityMap[i,j]==0:\n",
    "            Res0 = numpy.concatenate((Res0,[Re[i]]), axis=0)\n",
    "            alphas0 = numpy.concatenate((alphas0,[alpha[j]]), axis=0)\n",
    "        if instabilityMap[i,j]==1:\n",
    "            Res1 = numpy.concatenate((Res1,[Re[i]]), axis=0)\n",
    "            alphas1 = numpy.concatenate((alphas1,[alpha[j]]), axis=0)\n",
    "        if instabilityMap[i,j]==2:\n",
    "            Res2 = numpy.concatenate((Res2,[Re[i]]), axis=0)\n",
    "            alphas2 = numpy.concatenate((alphas2,[alpha[j]]), axis=0)"
   ]
  },
  {
   "cell_type": "code",
   "execution_count": null,
   "metadata": {},
   "outputs": [],
   "source": [
    "pyplot.figure(figsize=(8,6));\n",
    "pyplot.plot(Res0, alphas0, '.', label='Stable');\n",
    "pyplot.plot(Res1, alphas1, 'o', label='Instable, Sym');\n",
    "pyplot.plot(Res2, alphas2, 'o', label='Instable, Antisym');\n",
    "pyplot.title('Diagramme d\\'instabilité');\n",
    "pyplot.xlabel('$Re$')\n",
    "pyplot.ylabel('$alpha$')\n",
    "pyplot.xlim([Re[0], Re[-1]])\n",
    "pyplot.ylim([alpha[0], alpha[-1]])\n",
    "pyplot.legend(loc=3);\n",
    "pyplot.show()"
   ]
  },
  {
   "cell_type": "markdown",
   "metadata": {},
   "source": [
    "## Conclusion"
   ]
  },
  {
   "cell_type": "markdown",
   "metadata": {},
   "source": [
    "Nous avons dans ce notebook étudié la stabilité d'un écoulement de Poiseuille à partir des modes propres de l'équation d'Orr-Sommerfeld. L'observation de la partie imaginaire des valeurs propres associés à ces modes nous a permis de dresser une carte des instabilités en fonction du nombre de Reynolds et du nombre d'onde du mode de perturbation. Nous avons vérifié que les modes instables étaient bien tous des modes symétriques."
   ]
  }
 ],
 "metadata": {
  "kernelspec": {
   "display_name": "Python 3",
   "language": "python",
   "name": "python3"
  },
  "language_info": {
   "codemirror_mode": {
    "name": "ipython",
    "version": 3
   },
   "file_extension": ".py",
   "mimetype": "text/x-python",
   "name": "python",
   "nbconvert_exporter": "python",
   "pygments_lexer": "ipython3",
   "version": "3.6.4"
  }
 },
 "nbformat": 4,
 "nbformat_minor": 2
}
