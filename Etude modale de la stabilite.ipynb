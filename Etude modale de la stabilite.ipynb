{
 "cells": [
  {
   "cell_type": "markdown",
   "metadata": {},
   "source": [
    "# Etude modale d'instabilités hydrodynamiques dans un écoulement de type Poiseuille"
   ]
  },
  {
   "cell_type": "markdown",
   "metadata": {},
   "source": [
    "## Table des matières"
   ]
  },
  {
   "cell_type": "markdown",
   "metadata": {},
   "source": [
    "- Introduction\n",
    "- Equations et conditions aux bords\n",
    "- Discrétisation et implémentations des conditions aux bords\n",
    "- Ecriture et vérification des opérateurs discrétisés\n",
    "- Recherche des modes propres: pour un couple ($Re$, $\\alpha$)\n",
    "- Recherche des modes propres: comparaison avec une valeur de référence et convergence\n",
    "- Discrétisation de type *forward* et *backward* pour les dérivées au bord\n",
    "- Convergence du calcul des modes propres pour la discrétisation forward des conditions aux bords\n",
    "- Recherche des modes propres: diagramme de stabilité selon ($Re$, $\\alpha$)\n",
    "- Modes symétriques et antisymétriques\n",
    "- Conclusions"
   ]
  },
  {
   "cell_type": "markdown",
   "metadata": {},
   "source": [
    "## Introduction"
   ]
  },
  {
   "cell_type": "markdown",
   "metadata": {},
   "source": [
    "## Equations et conditions aux bords"
   ]
  },
  {
   "cell_type": "markdown",
   "metadata": {},
   "source": [
    "Nous étudions ici un fluide incompressible et visqueux qui s'écoule dans un tube imperméable en deux dimensions selon un profil de vitesse de  Poiseuille, ayant la forme suivante:\n",
    "\n",
    "$$ U(y) = 1-y^2 $$\n",
    "\n",
    "Nous considérerons que les perturbations $\\tilde{v}(x,y,t)$ sur la vitesse se décomposent comme suit:\n",
    "\n",
    "$$ \\tilde{v}(x,y,t) = \\frac 12 \\left[ v(y)\\, e^{i\\alpha(x-ct)} + v(y)^{*}\\, e^{-i\\alpha^{*}(x-c^{*}t)} \\right] $$\n",
    "\n",
    "Comme nous étudions les instabilités temporelles nous prendrons $\\alpha \\in \\mathbb R$. La condition de stabilité sera alors $\\text{Im}(c) \\leq 0$.\n",
    "\n",
    "La fonction $v(y)$ de ces perturbations doivent obéir à l'équation d'Orr-Sommerfeld:\n",
    "\n",
    "$$ \\underbrace{\\left[ U(D^2-\\alpha^2) - U'' - \\frac{1}{i\\alpha \\, Re}(D^2-\\alpha^2)^2 \\right]}_A v = c \\underbrace{(D^2-\\alpha^2)}_B v $$\n",
    "\n",
    "Ce qui défini le problème aux valeurs propres généralisé:\n",
    "\n",
    "$$ (A-cB)v = 0 $$\n",
    "\n",
    "Le tube étant imperméable, il est évident que la vitesse selon l'axe y (et en particuler la perturbation $\\tilde v(x,y)$) du fluide doit s'annuler aux bords du tube. De plus, étant donné que notre fluide est visqueux, il semble naturel que sa vitesse selon l'axe x s'anulle également près des bords, car les molécules à l'arrêt constituant le tube exercent une force sur le fluide poussant à le freiner. Ce ralentissement se transmet alors au reste du fluide par viscosité. Voir https://en.wikipedia.org/wiki/No-slip_condition. Comme la vitesse $\\tilde u(x,y)$ s'anulle au bord pour tout x, alors sa dérivée par rapport à x doit être nulle aussi, ce qui entraîne l'annulation de la dérivée en y de $\\tilde v(x,y)$ aux bords, étant donné que le fluide est incompressible:\n",
    "\n",
    "$$ \\tilde{u}_x + \\tilde{v}_y = 0 \\qquad \\text{incompressibilité}$$\n",
    "\n",
    "$$ \\tilde u(x,y) = 0 \\ \\forall x \\Rightarrow \\tilde{u}_x(x,y) = 0 \\ \\forall x \\iff \\tilde{v}_y(x,y) = 0 \\ \\forall x \\qquad y=0,L$$\n",
    "\n",
    "Il suit de la condition $\\tilde v(x,y) = 0 \\ \\forall x$ que les vitesses complexes $v(y)$ doivent s'annuler également. En effet:\n",
    "\n",
    "$$ 0 = \\tilde v(x,y) = \\frac 12 \\left[ v(y)\\, e^{i\\alpha(x-ct)} + v(y)^{*}\\, e^{-i\\alpha^{*}(x-c^{*}t)} \\right] $$\n",
    "$$ 0 = v(y)\\, e^{i\\alpha(x-ct)} + v(y)^{*}\\, e^{-i\\alpha(x-c^{*}t)} \\qquad \\alpha \\in \\mathbb R$$\n",
    "$$ v(y)^{*} = -v(y)\\, e^{i\\alpha[(x-ct)+(x-c^{*}t)]} $$\n",
    "\n",
    "Cette relation étant valable pour $x$ quelconque, il s'en suit que $v(y) = 0$. Le même raisonnement se tient pour montrer que $\\tilde v(x,y) = 0 \\ \\forall x \\Rightarrow v'(y) = 0$.\n",
    "\n",
    "Nous prendrons donc les conditions aux bords suivantes:\n",
    "    $$\\ v(y) = 0 \\ \\text{en}\\  y=0,L \\quad\\leftrightarrow\\quad \\text{imperméabilité} \\quad\\ $$ \n",
    "    $$v'(y) = 0 \\ \\text{en}\\  y=0,L \\quad\\leftrightarrow\\quad \\text{\"no slip condition\"}$$"
   ]
  },
  {
   "cell_type": "markdown",
   "metadata": {},
   "source": [
    "## Discrétisation des opérateurs et implémentations des conditions aux bords"
   ]
  },
  {
   "cell_type": "markdown",
   "metadata": {},
   "source": [
    "Nous prendrons les discrétisation centrées d'ordre 2 suivantes pour $D^2$ et $D^4$:\n",
    "\n",
    "$$ (D^2v)_i = \\frac{v_{i+1} -2 v_i + v_{i-1}}{(\\Delta y)^2} + \\mathcal O((\\Delta y)^2)$$\n",
    "\n",
    "$$ (D^4v)_i = \\frac{v_{i+2} -4v_{i+1} +6v_i - 4v_{i-1} + v_{i-2}}{(\\Delta y)^4} + \\mathcal O((\\Delta y)^2)$$\n",
    "\n",
    "Ce qui nous donne les discrétisations pour $Av$ et $Bv$:\n",
    "\n",
    "$$ (Av)_i = U(y) \\left((D^2v)_i - \\alpha^2 v_i\\right) - U''(y) v_i - \\frac{1}{i\\alpha\\,Re} \\left((D^4v)_i -2\\alpha^2(D^2v)_i + \\alpha^4 v_i\\right) $$\n",
    "\n",
    "$$ (Av)_i = U(y) \\left(\\frac{v_{i+1} -2 v_i + v_{i-1}}{(\\Delta y)^2} - \\alpha^2 v_i\\right) - U''(y) v_i - \\frac{1}{i\\alpha\\,Re} \\left(\\frac{v_{i+2} -4v_{i+1} +6v_i - 4v_{i-1} + v_{i-2}}{(\\Delta y)^4} -2\\alpha^2\\frac{v_{i+1} -2 v_i + v_{i-1}}{(\\Delta y)^2} + \\alpha^4 v_i\\right) $$\n",
    "\n",
    "$$ (Bv)_i = (D^2v)_i - \\alpha^2 v_i $$\n",
    "\n",
    "$$ (Bv)_i = \\frac{v_{i+1} -2 v_i + v_{i-1}}{(\\Delta y)^2} - \\alpha^2 v_i $$\n",
    "\n",
    "Nous implémentons les opérateurs discrétisés dans des matrices \"sparse\" qui agirons sur le vecteur colonne $v$.\n",
    "\n",
    "Remarquons qu'une implémentation directe de ces opérateurs pose problème: que faire des indices extérieurs à la grille (-2, -1, N, N+1) ? Cependant, cela serait ignorer la présence de conditions aux bords, et ce problème est résolu en ajoutant ces dernières. En effet, celles-ci vont nous permettre de prendre en compte les indices extérieurs en les exprimant à partir des indices intérieurs.\n",
    "\n",
    "Pour implémenter les conditions aux bords, il faut d'abord les discrétiser avec l'ordre d'erreur qui correspond à celui de nos opérateurs.\n",
    "\n",
    "La discrétisation de la condition $v(y) = 0 \\ y=0,L$ est très simple: $v_0 = v_N = 0$ et satisfait tout les ordres.\n",
    "Nous n'avons donc pas besoin de prendre en compte ces valeurs dans la recherche des modes propres et considérerons alors les opérateurs $D^2$ et $D^4$ comme des matrices $(N-2)\\times(N-2)$ agissant sur $(v_1,...,v_{N-2})$.\n",
    "\n",
    "La discrétisation de la condition $v'(y) = 0 \\ y=0,L$ n'est pas beaucoup plus difficile:\n",
    "\n",
    "$$ 0 = v'(y) = \\frac{v_1 - v_{-1}}{2 \\Delta y} + \\mathcal O((\\Delta y)^2) $$ \n",
    "\n",
    "Il en découle que $v_1 = v_{-1}$, nous implémentons donc cette condition en remplaçant toute référence à $v_{-1}$ dans $D^2$ et $D^4$ par une référence à $v_1$.\n",
    "\n",
    "Nous traitons les références à $v_{-2}$ de la même façon, en effet, nous pouvons montrer que la relation suivante est correcte également:\n",
    "\n",
    "$$ 0 = v'(y) = \\frac{v_2 - v_{-2}}{4 \\Delta y} + \\mathcal O((\\Delta y)^2) $$"
   ]
  },
  {
   "cell_type": "markdown",
   "metadata": {},
   "source": [
    "## Ecriture et vérification des opérateurs discrétisés"
   ]
  },
  {
   "cell_type": "code",
   "execution_count": 1,
   "metadata": {
    "collapsed": true
   },
   "outputs": [],
   "source": [
    "import numpy,scipy,scipy.linalg,time\n",
    "import matplotlib.pyplot as pyplot\n",
    "from matplotlib import rcParams, cm\n",
    "rcParams['font.family'] = 'serif'\n",
    "rcParams['font.size'] = 16"
   ]
  },
  {
   "cell_type": "markdown",
   "metadata": {},
   "source": [
    "On commence par définir le profil utilisé, ici: Poiseuille"
   ]
  },
  {
   "cell_type": "code",
   "execution_count": 2,
   "metadata": {
    "collapsed": true
   },
   "outputs": [],
   "source": [
    "def U(y):\n",
    "    return 1-y**2"
   ]
  },
  {
   "cell_type": "markdown",
   "metadata": {},
   "source": [
    "Nous implémentons les opérateurs discrétisés avec les conditions aux bords."
   ]
  },
  {
   "cell_type": "code",
   "execution_count": 3,
   "metadata": {
    "collapsed": true
   },
   "outputs": [],
   "source": [
    "def buildD2(N,dy):\n",
    "    \"\"\" Construit la matrice de l'opérateur D2 discrétisé au second ordre avec les bonnes conditions au bord\n",
    "   \n",
    "    Paramètres:\n",
    "    ----------\n",
    "    N   : Nombres de points de dicrétisation de la grille originale (avec bords)\n",
    "    dy  : espacement entre les points de la grille de discrétisation\n",
    "   \n",
    "    Renvoie:\n",
    "    -------\n",
    "    D2  : matrice sparse de l'opérateur D2\n",
    "    \"\"\"\n",
    "    \n",
    "    D2 = (scipy.eye(N-2,N-2,-1) - 2*scipy.eye(N-2,N-2,0) + scipy.eye(N-2,N-2,1))\n",
    "    \n",
    "    return D2/dy**2"
   ]
  },
  {
   "cell_type": "code",
   "execution_count": 4,
   "metadata": {
    "collapsed": true
   },
   "outputs": [],
   "source": [
    "def buildD4(N,dy):\n",
    "    \"\"\" Construit la matrice de l'opérateur D4 discrétisé au second ordre avec les bonnes conditions au bord\n",
    "   \n",
    "    Paramètres:\n",
    "    ----------\n",
    "    N   : Nombres de points de dicrétisation de la grille originale (avec bords)\n",
    "    dy  : espacement entre les points de la grille de discrétisation\n",
    "   \n",
    "    Renvoie:\n",
    "    -------\n",
    "    D4  : matrice sparse de l'opérateur D4\n",
    "    \"\"\"\n",
    "    \n",
    "    D4 = (scipy.eye(N-2,N-2,-2) - 4*scipy.eye(N-2,N-2,-1) + 6*scipy.eye(N-2,N-2,0) - 4*scipy.eye(N-2,N-2,1) + \\\n",
    "          scipy.eye(N-2,N-2,2))\n",
    "        \n",
    "    D4[0,0] = 7\n",
    "    D4[-1,-1] = 7\n",
    "    \n",
    "    return D4/dy**4"
   ]
  },
  {
   "cell_type": "markdown",
   "metadata": {},
   "source": [
    "Vérifions l'implémentation des opérateurs $D^2$ et $D^4$ dans le cas $N=7$ et un espacement $dy=1$ pour avoir les coefficients:"
   ]
  },
  {
   "cell_type": "code",
   "execution_count": 5,
   "metadata": {},
   "outputs": [
    {
     "name": "stdout",
     "output_type": "stream",
     "text": [
      "[[-2.  1.  0.  0.  0.]\n",
      " [ 1. -2.  1.  0.  0.]\n",
      " [ 0.  1. -2.  1.  0.]\n",
      " [ 0.  0.  1. -2.  1.]\n",
      " [ 0.  0.  0.  1. -2.]]\n",
      "[[ 7. -4.  1.  0.  0.]\n",
      " [-4.  6. -4.  1.  0.]\n",
      " [ 1. -4.  6. -4.  1.]\n",
      " [ 0.  1. -4.  6. -4.]\n",
      " [ 0.  0.  1. -4.  7.]]\n"
     ]
    }
   ],
   "source": [
    "N = 7\n",
    "D2 = buildD2(N,1)\n",
    "D4 = buildD4(N,1)\n",
    "\n",
    "print(D2)\n",
    "print(D4)"
   ]
  },
  {
   "cell_type": "code",
   "execution_count": 6,
   "metadata": {
    "collapsed": true
   },
   "outputs": [],
   "source": [
    "def buildAB(Re, alpha, N):\n",
    "    \"\"\" Construit les matrices A et B de l'équation d'Orr-Sommerfeld discrétisée Av = cBv\n",
    "   \n",
    "    Paramètres:\n",
    "    ----------\n",
    "    Re      : Nombre de Reynolds \n",
    "    alpha   : Nombre d'onde de la perturbation\n",
    "    N       : Nombres de points de dicrétisation de la grille originale (avec bords)\n",
    "   \n",
    "    Renvoie:\n",
    "    -------\n",
    "    A   \n",
    "    B   \n",
    "    \"\"\"\n",
    "    dy = 2.0/(N-1)\n",
    "    y = scipy.linspace(-1,1,N)\n",
    "    U0 = U(y[1:-1]) * scipy.eye(N-2,N-2)\n",
    "    U2 = -2 * scipy.eye(N-2,N-2)\n",
    "    \n",
    "    Malpha  = alpha    * scipy.eye(N-2,N-2)\n",
    "    Malpha2 = alpha**2 * scipy.eye(N-2,N-2)\n",
    "    Malpha4 = alpha**4 * scipy.eye(N-2,N-2)\n",
    "    \n",
    "    D2 = buildD2(N,dy)\n",
    "    D4 = buildD4(N,dy)\n",
    "    \n",
    "    A = numpy.dot(U0,(D2-Malpha2)) - U2 - 1/(1j*alpha*Re) * \\\n",
    "        ( D4 - 2* numpy.dot(D2,Malpha2) + Malpha4 )\n",
    "    B = D2 - Malpha2\n",
    "    \n",
    "    return [A,B]"
   ]
  },
  {
   "cell_type": "markdown",
   "metadata": {},
   "source": [
    "Nous copions ces fonctions dans le fichier \"operateurs.py\" pour pouvoir les importer dans d'autres notebooks."
   ]
  },
  {
   "cell_type": "markdown",
   "metadata": {},
   "source": [
    "## Recherche des modes propres: pour un couple ($Re$, $\\alpha$)"
   ]
  },
  {
   "cell_type": "code",
   "execution_count": 13,
   "metadata": {},
   "outputs": [
    {
     "name": "stdout",
     "output_type": "stream",
     "text": [
      "0.006886720657348633\n",
      "0.13428854942321777\n"
     ]
    }
   ],
   "source": [
    "Re = 10000\n",
    "alpha = 1\n",
    "N = 200 # points de la grille avec bords\n",
    "\n",
    "start = time.time()\n",
    "\n",
    "[A,B] = buildAB(Re, alpha, N)\n",
    "stop = time.time()\n",
    "print(stop-start)\n",
    "\n",
    "[c,vecp] = scipy.linalg.eig(A,B)\n",
    "stop = time.time()\n",
    "print(stop-start)"
   ]
  },
  {
   "cell_type": "markdown",
   "metadata": {},
   "source": [
    "Les valeurs numériques des valeurs propres instables ou près de l'instabilité sont les suivantes:"
   ]
  },
  {
   "cell_type": "code",
   "execution_count": 14,
   "metadata": {},
   "outputs": [
    {
     "name": "stdout",
     "output_type": "stream",
     "text": [
      "Valeurs propres:\n",
      "[ 0.23698809+0.00363921j  0.27647953-0.05153308j  0.96468704-0.03516839j\n",
      "  0.96469868-0.03518738j  0.93654776-0.06320595j  0.93658313-0.06325488j\n",
      "  0.90848995-0.09123325j  0.90856334-0.09132064j]\n",
      "Indices correspondants:\n",
      "(array([ 0,  1,  5,  6, 10, 11, 14, 15]),)\n"
     ]
    }
   ],
   "source": [
    "print(\"Valeurs propres:\")\n",
    "print(c[numpy.where(numpy.imag(c)>-0.1)])\n",
    "print(\"Indices correspondants:\")\n",
    "print(numpy.where(numpy.imag(c)>-0.1))"
   ]
  },
  {
   "cell_type": "code",
   "execution_count": 15,
   "metadata": {},
   "outputs": [
    {
     "data": {
      "image/png": "[encoded data removed]",
      "text/plain": [
       "<matplotlib.figure.Figure at 0x7f63d470a9b0>"
      ]
     },
     "metadata": {},
     "output_type": "display_data"
    }
   ],
   "source": [
    "y = scipy.linspace(-1,1,N)\n",
    "\n",
    "pyplot.figure(figsize=(8,5));\n",
    "pyplot.plot(numpy.real(c),numpy.imag(c), '.', label='vps');\n",
    "indices = numpy.where(numpy.imag(c)>0)\n",
    "pyplot.plot(numpy.real(c[indices]),numpy.imag(c[indices]), '+', label=\"Im(c)>0\");\n",
    "pyplot.title('Valeurs propres');\n",
    "pyplot.xlabel('$Re(c)$');\n",
    "pyplot.ylabel('$Im(c)$');\n",
    "pyplot.legend(loc=1);\n",
    "pyplot.show()"
   ]
  },
  {
   "cell_type": "markdown",
   "metadata": {},
   "source": [
    "Remarquons qu'un très grand nombre de modes propres a été trouvé. Tous les modes calculés ne sont pas valides physiquement et il faut faire le tri parmi les valeurs propres trouvées. Nous pouvons identifier les valeurs non physiques en affinant la discrétisation. En effet, celles-ci dépendent de la discrétisation effectuée et se retrouvent donc plus au même endroit pour un nombre de points différents. Nous reproduisons ci-dessous le calcul pour $N=400$ et observons que beaucoup de valeurs propres se sont déplacées. $<$ identifier les régions $>$"
   ]
  },
  {
   "cell_type": "code",
   "execution_count": 16,
   "metadata": {},
   "outputs": [
    {
     "name": "stdout",
     "output_type": "stream",
     "text": [
      "0.023500442504882812\n",
      "0.821932315826416\n"
     ]
    }
   ],
   "source": [
    "Re = 10000\n",
    "alpha = 1\n",
    "N = 400 # on prend plus de points\n",
    "\n",
    "start = time.time()\n",
    "\n",
    "[A,B] = buildAB(Re, alpha, N)\n",
    "stop = time.time()\n",
    "print(stop-start)\n",
    "\n",
    "[c,vecp] = scipy.linalg.eig(A,B)\n",
    "stop = time.time()\n",
    "print(stop-start)"
   ]
  },
  {
   "cell_type": "code",
   "execution_count": 17,
   "metadata": {},
   "outputs": [
    {
     "data": {
      "image/png": "[encoded data removed]",
      "text/plain": [
       "<matplotlib.figure.Figure at 0x7f63d46f8ba8>"
      ]
     },
     "metadata": {},
     "output_type": "display_data"
    }
   ],
   "source": [
    "y = scipy.linspace(-1,1,N)\n",
    "\n",
    "pyplot.figure(figsize=(8,5));\n",
    "pyplot.plot(numpy.real(c),numpy.imag(c), '.', label='vps');\n",
    "indices = numpy.where(numpy.imag(c)>0)\n",
    "pyplot.plot(numpy.real(c[indices]),numpy.imag(c[indices]), '+', label=\"Im(c)>0\");\n",
    "pyplot.title('Valeurs propres');\n",
    "pyplot.xlabel('$Re(c)$');\n",
    "pyplot.ylabel('$Im(c)$');\n",
    "pyplot.legend(loc=1);\n",
    "pyplot.show()"
   ]
  },
  {
   "cell_type": "markdown",
   "metadata": {},
   "source": [
    "Un affichage limité à la région du plan qui contient les valeurs propres physiques est plus adapté:"
   ]
  },
  {
   "cell_type": "code",
   "execution_count": 18,
   "metadata": {},
   "outputs": [
    {
     "data": {
      "image/png": "[encoded data removed]",
      "text/plain": [
       "<matplotlib.figure.Figure at 0x7f63d46e4ef0>"
      ]
     },
     "metadata": {},
     "output_type": "display_data"
    }
   ],
   "source": [
    "m = 2 # indice de la valeur propre à afficher\n",
    "\n",
    "pyplot.figure(figsize=(8,5));\n",
    "pyplot.plot(numpy.real(c),numpy.imag(c), '.', label='vps');\n",
    "pyplot.plot(numpy.real(c[m]),numpy.imag(c[m]), 'o', label=\"vp #{:d}\".format(m));\n",
    "indices = numpy.where(numpy.imag(c)>0)\n",
    "pyplot.plot(numpy.real(c[indices]),numpy.imag(c[indices]), '+', label=\"Im(c)>0\");\n",
    "pyplot.title('Valeurs propres');\n",
    "pyplot.xlabel('$Re(c)$');\n",
    "pyplot.ylabel('$Im(c)$');\n",
    "pyplot.ylim([-1,0.5]) # on se limite à la région du plan qui contient les valeurs propres physiques\n",
    "pyplot.legend(loc=3);\n",
    "pyplot.show()"
   ]
  },
  {
   "cell_type": "markdown",
   "metadata": {},
   "source": [
    "Nous pouvons afficher le vecteur propre associé à la valeur propre marquée en orange. Notons que celle-ci respecte les conditions imposées aux bords."
   ]
  },
  {
   "cell_type": "code",
   "execution_count": 19,
   "metadata": {},
   "outputs": [
    {
     "data": {
      "image/png": "[encoded data removed]",
      "text/plain": [
       "<matplotlib.figure.Figure at 0x7f63d4138358>"
      ]
     },
     "metadata": {},
     "output_type": "display_data"
    }
   ],
   "source": [
    "m = 2 # indice de la valeur propre à afficher\n",
    "\n",
    "pyplot.figure(figsize=(8,5));\n",
    "pyplot.plot(y[1:-1],numpy.real(vecp[:,m]), '-', label='real');\n",
    "pyplot.plot(y[1:-1],numpy.imag(vecp[:,m]), '-', label='imag');\n",
    "pyplot.title(\"Vecteur propre #{:d}, c = {:.3f}\".format(m,c[m]));\n",
    "pyplot.xlabel('$y$');\n",
    "pyplot.ylabel('$v(y)$');\n",
    "pyplot.legend(loc=3);\n",
    "pyplot.show()"
   ]
  },
  {
   "cell_type": "markdown",
   "metadata": {},
   "source": [
    "## Recherche des modes propres: comparaison avec une valeur de référence et convergence"
   ]
  },
  {
   "cell_type": "code",
   "execution_count": 20,
   "metadata": {},
   "outputs": [
    {
     "name": "stdout",
     "output_type": "stream",
     "text": [
      "[  250.        375.        562.5       843.75     1265.625    1898.4375\n",
      "  2847.65625]\n"
     ]
    }
   ],
   "source": [
    "Ns = 250*numpy.array([1,1.5,1.5**2,1.5**3,1.5**4,1.5**5,1.5**6])\n",
    "print(Ns)"
   ]
  },
  {
   "cell_type": "code",
   "execution_count": 21,
   "metadata": {
    "scrolled": true
   },
   "outputs": [
    {
     "name": "stdout",
     "output_type": "stream",
     "text": [
      "Eigenvalues for N=250 are: \n",
      "[ 0.23718380+0.00367973j  0.27674151-0.0512998j   0.96466674-0.03516797j\n",
      "  0.96467837-0.03518708j  0.93646409-0.06320423j  0.93649944-0.06325357j\n",
      "  0.90830643-0.0912291j   0.90837982-0.09131747j]\n",
      "Execution time for N=250 is 0.223 seconds\n",
      "Eigenvalues for N=375 are: \n",
      "[ 0.23737518+0.00371492j  0.27699929-0.05107475j  0.96464678-0.03516758j\n",
      "  0.96465840-0.0351868j   0.93638188-0.06320266j  0.93641718-0.06325241j\n",
      "  0.90812623-0.0912254j   0.90819957-0.09131475j]\n",
      "Execution time for N=375 is 0.600 seconds\n",
      "Eigenvalues for N=563 are: \n",
      "[ 0.23745961+0.00372907j  0.27711356-0.05097634j  0.96463794-0.03516741j\n",
      "  0.96464955-0.03518668j  0.93634546-0.063202j    0.93638074-0.06325193j\n",
      "  0.90804643-0.09122389j  0.90811974-0.09131367j]\n",
      "Execution time for N=563 is 2.576 seconds\n",
      "Eigenvalues for N=844 are: \n",
      "[ 0.23749679+0.00373503j  0.27716400-0.05093315j  0.96463404-0.03516734j\n",
      "  0.96464564-0.03518662j  0.93632939-0.06320172j  0.93636465-0.06325173j\n",
      "  0.90801121-0.09122324j  0.90808451-0.09131322j]\n",
      "Execution time for N=844 is 8.345 seconds\n"
     ]
    },
    {
     "ename": "KeyboardInterrupt",
     "evalue": "",
     "output_type": "error",
     "traceback": [
      "\u001b[0;31m---------------------------------------------------------------------------\u001b[0m",
      "\u001b[0;31mKeyboardInterrupt\u001b[0m                         Traceback (most recent call last)",
      "\u001b[0;32m<ipython-input-21-45fcf22f6120>\u001b[0m in \u001b[0;36m<module>\u001b[0;34m()\u001b[0m\n\u001b[1;32m     10\u001b[0m \u001b[0;34m\u001b[0m\u001b[0m\n\u001b[1;32m     11\u001b[0m     \u001b[0;34m[\u001b[0m\u001b[0mA\u001b[0m\u001b[0;34m,\u001b[0m\u001b[0mB\u001b[0m\u001b[0;34m]\u001b[0m \u001b[0;34m=\u001b[0m \u001b[0mbuildAB\u001b[0m\u001b[0;34m(\u001b[0m\u001b[0mRe\u001b[0m\u001b[0;34m,\u001b[0m \u001b[0malpha\u001b[0m\u001b[0;34m,\u001b[0m \u001b[0mNs\u001b[0m\u001b[0;34m[\u001b[0m\u001b[0mi\u001b[0m\u001b[0;34m]\u001b[0m\u001b[0;34m)\u001b[0m\u001b[0;34m\u001b[0m\u001b[0m\n\u001b[0;32m---> 12\u001b[0;31m     \u001b[0;34m[\u001b[0m\u001b[0mc\u001b[0m\u001b[0;34m,\u001b[0m\u001b[0mvecp\u001b[0m\u001b[0;34m]\u001b[0m \u001b[0;34m=\u001b[0m \u001b[0mscipy\u001b[0m\u001b[0;34m.\u001b[0m\u001b[0mlinalg\u001b[0m\u001b[0;34m.\u001b[0m\u001b[0meig\u001b[0m\u001b[0;34m(\u001b[0m\u001b[0mA\u001b[0m\u001b[0;34m,\u001b[0m\u001b[0mB\u001b[0m\u001b[0;34m)\u001b[0m\u001b[0;34m\u001b[0m\u001b[0m\n\u001b[0m\u001b[1;32m     13\u001b[0m \u001b[0;34m\u001b[0m\u001b[0m\n\u001b[1;32m     14\u001b[0m     \u001b[0mprint\u001b[0m\u001b[0;34m(\u001b[0m\u001b[0;34m\"Eigenvalues for N={:d} are: \"\u001b[0m\u001b[0;34m.\u001b[0m\u001b[0mformat\u001b[0m\u001b[0;34m(\u001b[0m\u001b[0mNs\u001b[0m\u001b[0;34m[\u001b[0m\u001b[0mi\u001b[0m\u001b[0;34m]\u001b[0m\u001b[0;34m)\u001b[0m\u001b[0;34m)\u001b[0m\u001b[0;34m\u001b[0m\u001b[0m\n",
      "\u001b[0;32m~/Coding/anaconda3/lib/python3.6/site-packages/scipy/linalg/decomp.py\u001b[0m in \u001b[0;36meig\u001b[0;34m(a, b, left, right, overwrite_a, overwrite_b, check_finite, homogeneous_eigvals)\u001b[0m\n\u001b[1;32m    192\u001b[0m             \u001b[0;32mraise\u001b[0m \u001b[0mValueError\u001b[0m\u001b[0;34m(\u001b[0m\u001b[0;34m'a and b must have the same shape'\u001b[0m\u001b[0;34m)\u001b[0m\u001b[0;34m\u001b[0m\u001b[0m\n\u001b[1;32m    193\u001b[0m         return _geneig(a1, b1, left, right, overwrite_a, overwrite_b,\n\u001b[0;32m--> 194\u001b[0;31m                        homogeneous_eigvals)\n\u001b[0m\u001b[1;32m    195\u001b[0m \u001b[0;34m\u001b[0m\u001b[0m\n\u001b[1;32m    196\u001b[0m     \u001b[0mgeev\u001b[0m\u001b[0;34m,\u001b[0m \u001b[0mgeev_lwork\u001b[0m \u001b[0;34m=\u001b[0m \u001b[0mget_lapack_funcs\u001b[0m\u001b[0;34m(\u001b[0m\u001b[0;34m(\u001b[0m\u001b[0;34m'geev'\u001b[0m\u001b[0;34m,\u001b[0m \u001b[0;34m'geev_lwork'\u001b[0m\u001b[0;34m)\u001b[0m\u001b[0;34m,\u001b[0m \u001b[0;34m(\u001b[0m\u001b[0ma1\u001b[0m\u001b[0;34m,\u001b[0m\u001b[0;34m)\u001b[0m\u001b[0;34m)\u001b[0m\u001b[0;34m\u001b[0m\u001b[0m\n",
      "\u001b[0;32m~/Coding/anaconda3/lib/python3.6/site-packages/scipy/linalg/decomp.py\u001b[0m in \u001b[0;36m_geneig\u001b[0;34m(a1, b1, left, right, overwrite_a, overwrite_b, homogeneous_eigvals)\u001b[0m\n\u001b[1;32m     78\u001b[0m     \u001b[0;32mif\u001b[0m \u001b[0mggev\u001b[0m\u001b[0;34m.\u001b[0m\u001b[0mtypecode\u001b[0m \u001b[0;32min\u001b[0m \u001b[0;34m'cz'\u001b[0m\u001b[0;34m:\u001b[0m\u001b[0;34m\u001b[0m\u001b[0m\n\u001b[1;32m     79\u001b[0m         alpha, beta, vl, vr, work, info = ggev(a1, b1, cvl, cvr, lwork,\n\u001b[0;32m---> 80\u001b[0;31m                                                overwrite_a, overwrite_b)\n\u001b[0m\u001b[1;32m     81\u001b[0m         \u001b[0mw\u001b[0m \u001b[0;34m=\u001b[0m \u001b[0m_make_eigvals\u001b[0m\u001b[0;34m(\u001b[0m\u001b[0malpha\u001b[0m\u001b[0;34m,\u001b[0m \u001b[0mbeta\u001b[0m\u001b[0;34m,\u001b[0m \u001b[0mhomogeneous_eigvals\u001b[0m\u001b[0;34m)\u001b[0m\u001b[0;34m\u001b[0m\u001b[0m\n\u001b[1;32m     82\u001b[0m     \u001b[0;32melse\u001b[0m\u001b[0;34m:\u001b[0m\u001b[0;34m\u001b[0m\u001b[0m\n",
      "\u001b[0;31mKeyboardInterrupt\u001b[0m: "
     ]
    }
   ],
   "source": [
    "Ns = numpy.array([250,375,563,844,1266,1898,2848])\n",
    "values = numpy.zeros((8,len(Ns))).astype(complex)\n",
    "\n",
    "Re = 10000\n",
    "alpha = 1\n",
    "\n",
    "for i in range(len(Ns)):\n",
    "    \n",
    "    start = time.time()\n",
    "    \n",
    "    [A,B] = buildAB(Re, alpha, Ns[i])\n",
    "    [c,vecp] = scipy.linalg.eig(A,B)\n",
    "\n",
    "    print(\"Eigenvalues for N={:d} are: \".format(Ns[i]))\n",
    "    print(c[numpy.where((numpy.imag(c)>-0.1) & (numpy.imag(c)<0.5))])\n",
    "    values[:,i] = c[numpy.where((numpy.imag(c)>-0.1) & (numpy.imag(c)<0.5))][:8]\n",
    "    \n",
    "    stop = time.time()\n",
    "    print(\"Execution time for N={:d} is {:.3f} seconds\".format(Ns[i],stop-start))\n",
    "\n",
    "print(\"Specific eigenvalue for each N: \")\n",
    "print(values)"
   ]
  },
  {
   "cell_type": "markdown",
   "metadata": {},
   "source": [
    "Nous affichons dans le tableau qui suit pour quelques valeurs propres trouvées dans le livre de référence: \"Theory and computation of hydrodynamic stability\" par W.O.Criminale, T.L.Jackson et R.D.Joslin, page 80. Le couple $(Re,\\alpha)$ pour ces valeurs propres est le même que celui choisi ici: (1,10000).\n",
    "\n",
    "|  Re(c)  |  Im(c)   |\n",
    "|---------|----------|\n",
    "| 0.23753 |  0.00374 |\n",
    "| 0.96464 | -0.03519 |\n",
    "| 0.93635 | -0.06325 |\n",
    "| 0.90806 | -0.09131 |\n",
    "\n",
    "\n",
    "En regardant les valeurs les plus précises calculées dans la cellule précédante, nous constatons que les résultats obtenus convergent effectivement vers ce qui est attendu pour le même problème. Nous n'avons pas affiché de valeurs de référence pour chacune des valeurs propres calculées car seulement les modes symétriques sont mentionnés dans le livre de référence."
   ]
  },
  {
   "cell_type": "code",
   "execution_count": 48,
   "metadata": {},
   "outputs": [
    {
     "name": "stdout",
     "output_type": "stream",
     "text": [
      "[[  1.27063588e-03   5.12671372e-04   1.99333167e-04   6.80389107e-05\n",
      "    1.24076300e-05   7.26923939e-06   0.00000000e+00]\n",
      " [  1.47536131e-03   5.58801282e-04   1.97050658e-04   6.03177621e-05\n",
      "    1.29018813e-05   2.14040864e-07   0.00000000e+00]\n",
      " [  3.45688176e-07   1.91627299e-07   5.47261233e-08   4.53656387e-08\n",
      "    1.15713812e-07   1.59326057e-07   0.00000000e+00]\n",
      " [  4.84071264e-07   2.02607147e-07   8.34732800e-08   3.20075092e-08\n",
      "    9.34812847e-09   3.25637142e-10   0.00000000e+00]\n",
      " [  6.40413683e-07   7.59011687e-07   6.12108171e-07   4.40475762e-07\n",
      "    2.96867770e-07   1.85619105e-07   0.00000000e+00]\n",
      " [  1.99830880e-06   8.33388616e-07   3.55872109e-07   1.52453165e-07\n",
      "    6.39320328e-08   2.21551511e-08   0.00000000e+00]\n",
      " [  3.89241921e-07   6.32779162e-07   6.79679067e-07   5.00771010e-07\n",
      "    2.98339953e-07   1.33278431e-07   0.00000000e+00]\n",
      " [  4.56179108e-06   1.83903134e-06   7.53707685e-07   2.98305771e-07\n",
      "    9.74637849e-08   1.18945137e-08   0.00000000e+00]]\n",
      "[[ -2.23851002  -2.32471769  -2.65490222  -4.19707668  -1.32034892]\n",
      " [ -2.39444592  -2.5650888   -2.92396533  -3.8036651  -10.12243272]\n",
      " [ -1.45508158  -3.08404099  -0.46332126   2.30936034   0.78983073]\n",
      " [ -2.14805973  -2.18219374  -2.36754824  -3.03551244  -8.29051513]\n",
      " [  0.41903193  -0.52936201  -0.81273314  -0.9731259   -1.1596581 ]\n",
      " [ -2.15692158  -2.09405954  -2.09377822  -2.14330872  -2.61706613]\n",
      " [  1.19842724   0.17595326  -0.75448819  -1.27733633  -1.98991565]\n",
      " [ -2.24057834  -2.19510706  -2.28932499  -2.75890118  -5.19437952]]\n"
     ]
    }
   ],
   "source": [
    "erreurs = numpy.zeros((8,len(Ns)))\n",
    "for i in range(8):\n",
    "    erreurs[i,:] = abs(numpy.imag(values[i,:]-values[i,-1]))\n",
    "print(erreurs)\n",
    "\n",
    "ordres = numpy.zeros((8,len(Ns)-2))\n",
    "for i in range(8):\n",
    "    ordres[i,:] = (numpy.log10(erreurs[i,1:-1])-numpy.log10(erreurs[i,:-2]))/(numpy.log10(Ns[1:-1])-numpy.log10(Ns[:-2]))\n",
    "print(ordres)"
   ]
  },
  {
   "cell_type": "code",
   "execution_count": 57,
   "metadata": {
    "scrolled": false
   },
   "outputs": [
    {
     "data": {
      "image/png": "[encoded data removed]",
      "text/plain": [
       "<matplotlib.figure.Figure at 0x7f5250a100f0>"
      ]
     },
     "metadata": {},
     "output_type": "display_data"
    }
   ],
   "source": [
    "pyplot.figure(figsize=(8,6));\n",
    "for i in range(8):\n",
    "    pyplot.plot(numpy.log10(Ns[:-1]), numpy.log10(erreurs[i,:-1]), '.', label=\"{:d}\".format(i));\n",
    "pyplot.title('Convergence pour une valeur propre');\n",
    "pyplot.xlabel('$N$')\n",
    "pyplot.ylabel('Erreur sur Im(c)')\n",
    "pyplot.xlim([2,3.4])\n",
    "pyplot.grid(1,which='minor')\n",
    "pyplot.legend(loc=3)\n",
    "pyplot.show()"
   ]
  },
  {
   "cell_type": "code",
   "execution_count": 58,
   "metadata": {},
   "outputs": [
    {
     "data": {
      "image/png": "[encoded data removed]",
      "text/plain": [
       "<matplotlib.figure.Figure at 0x7f52509b0da0>"
      ]
     },
     "metadata": {},
     "output_type": "display_data"
    }
   ],
   "source": [
    "pyplot.figure(figsize=(8,6));\n",
    "for i in range(8):\n",
    "    pyplot.plot(Ns[:-3], ordres[i,:-1], '.', label=\"{:d}\".format(i));\n",
    "pyplot.title('Ordre pour une valeur propre');\n",
    "pyplot.xlabel('$N$')\n",
    "pyplot.ylabel('Ordre')\n",
    "pyplot.xlim([0,900])\n",
    "pyplot.grid(1,which='minor')\n",
    "pyplot.legend(loc=3)\n",
    "pyplot.show()"
   ]
  },
  {
   "cell_type": "markdown",
   "metadata": {},
   "source": [
    "## Discrétisation de type *forward* et *backward* pour les dérivées au bord"
   ]
  },
  {
   "cell_type": "markdown",
   "metadata": {},
   "source": [
    "Redéfinissons les opérateurs de dérivée en implémentant la condition $v'(y)=0$ avec des discrétisations de type forward et backward. L'idée est ici de ne pas faire référence à $v_{-2}$ afin de ne pas utiliser la discrétisation centrée d'ordre 2 faite avec deux points de discrétisation d'écart. En effet, la discrétisation utilisée,\n",
    "\n",
    "$$ 0 = v'(y) = \\frac{v_2 - v_{-2}}{4 \\Delta y} + \\mathcal O((\\Delta y)^2) $$\n",
    "\n",
    "pourrait converger beaucoup plus lentement, bien que du bon ordre, car le facteur d'erreur serait plus grand.\n",
    "\n",
    "La condition au bord $y=-1$ discrétisée dans le cas *forward* s'écrit:\n",
    "\n",
    "$$ 0 = v'(y) = \\frac{-\\frac 32 v_0 + 2 v_1 -\\frac 12 v_2}{\\Delta y} + \\mathcal O((\\Delta y)^2) \n",
    "    \\iff v_1 = \\frac 14 v_2 + \\mathcal O((\\Delta y)^3)   \\qquad \\text{sachant que}\\qquad v_0 = 0$$\n",
    "\n",
    "et dans le cas *backwards* en $y=1$:\n",
    "\n",
    "$$ 0 = v'(y) = \\frac{\\frac 32 v_{N-3} - 2 v_{N-2} +\\frac 12 v_{N-1}}{\\Delta y} + \\mathcal O((\\Delta y)^2) \n",
    "    \\iff v_{N-2} = \\frac 14 v_{N-3} + \\mathcal O((\\Delta y)^3)  \\qquad \\text{sachant que}\\qquad v_{N-1} = 0$$\n",
    "\n",
    "Nous allons donc réduire le problème aux valeurs propres de deux dimensions en ne calculant plus l'évolution pour $v_1$ ni $v_{N-2}$, que nous pouvons toutes deux remplacer par les expressions ci-dessus."
   ]
  },
  {
   "cell_type": "code",
   "execution_count": 3,
   "metadata": {
    "collapsed": true
   },
   "outputs": [],
   "source": [
    "def buildD2_forward(N,dy):\n",
    "    \"\"\" Construit la matrice de l'opérateur D2 discrétisé de type forward (et backward) au second ordre \n",
    "    avec les bonnes conditions au bord\n",
    "   \n",
    "    Paramètres:\n",
    "    ----------\n",
    "    N   : Nombres de points de dicrétisation de la grille originale (avec bords)\n",
    "    dy  : espacement entre les points de la grille de discrétisation\n",
    "   \n",
    "    Renvoie:\n",
    "    -------\n",
    "    D2  : matrice sparse de l'opérateur D2\n",
    "    \"\"\"\n",
    "    \n",
    "    D2 = (scipy.eye(N-4,N-4,-1) - 2*scipy.eye(N-4,N-4,0) + scipy.eye(N-4,N-4,1))\n",
    "    \n",
    "    D2[0,0] = -7/4\n",
    "    D2[-1,-1] = -7/4\n",
    "    \n",
    "    return D2/dy**2"
   ]
  },
  {
   "cell_type": "code",
   "execution_count": 4,
   "metadata": {
    "collapsed": true
   },
   "outputs": [],
   "source": [
    "def buildD4_forward(N,dy):\n",
    "    \"\"\" Construit la matrice de l'opérateur D4 discrétisé de type forward (et backward) au second ordre \n",
    "    avec les bonnes conditions au bord\n",
    "   \n",
    "    Paramètres:\n",
    "    ----------\n",
    "    N   : Nombres de points de dicrétisation de la grille originale (avec bords)\n",
    "    dy  : espacement entre les points de la grille de discrétisation\n",
    "   \n",
    "    Renvoie:\n",
    "    -------\n",
    "    D4  : matrice sparse de l'opérateur D4\n",
    "    \"\"\"\n",
    "    \n",
    "    D4 = (scipy.eye(N-4,N-4,-2) - 4*scipy.eye(N-4,N-4,-1) + 6*scipy.eye(N-4,N-4,0) - 4*scipy.eye(N-4,N-4,1) + \\\n",
    "          scipy.eye(N-4,N-4,2))\n",
    "        \n",
    "    D4[0,0] = 5\n",
    "    D4[1,0] = -15/4\n",
    "    D4[-1,-1] = 5\n",
    "    D4[-2,-1] = -15/4\n",
    "    \n",
    "    return D4/dy**4"
   ]
  },
  {
   "cell_type": "markdown",
   "metadata": {},
   "source": [
    "Vérifions l'implémentation des opérateurs $D^2$ et $D^4$ dans le cas $N=9$ et un espacement $dy=1$ pour avoir les coefficients:"
   ]
  },
  {
   "cell_type": "code",
   "execution_count": 5,
   "metadata": {},
   "outputs": [
    {
     "name": "stdout",
     "output_type": "stream",
     "text": [
      "[[-1.75  1.    0.    0.    0.  ]\n",
      " [ 1.   -2.    1.    0.    0.  ]\n",
      " [ 0.    1.   -2.    1.    0.  ]\n",
      " [ 0.    0.    1.   -2.    1.  ]\n",
      " [ 0.    0.    0.    1.   -1.75]]\n",
      "[[ 5.   -4.    1.    0.    0.  ]\n",
      " [-3.75  6.   -4.    1.    0.  ]\n",
      " [ 1.   -4.    6.   -4.    1.  ]\n",
      " [ 0.    1.   -4.    6.   -3.75]\n",
      " [ 0.    0.    1.   -4.    5.  ]]\n"
     ]
    }
   ],
   "source": [
    "N = 9\n",
    "D2 = buildD2_forward(N,1)\n",
    "D4 = buildD4_forward(N,1)\n",
    "\n",
    "print(D2)\n",
    "print(D4)"
   ]
  },
  {
   "cell_type": "code",
   "execution_count": 6,
   "metadata": {
    "collapsed": true
   },
   "outputs": [],
   "source": [
    "def buildAB_forward(Re, alpha, N):\n",
    "    \"\"\" Construit les matrices A et B de l'équation d'Orr-Sommerfeld discrétisée Av = cBv avec une implémentation \n",
    "    forward et backward des conditions aux bords\n",
    "   \n",
    "    Paramètres:\n",
    "    ----------\n",
    "    Re      : Nombre de Reynolds \n",
    "    alpha   : Nombre d'onde de la perturbation\n",
    "    N       : Nombres de points de dicrétisation de la grille originale (avec bords)\n",
    "   \n",
    "    Renvoie:\n",
    "    -------\n",
    "    A   \n",
    "    B   \n",
    "    \"\"\"\n",
    "    dy = 2.0/(N-1)\n",
    "    y = scipy.linspace(-1,1,N)\n",
    "    U0 = U(y[2:-2]) * scipy.eye(N-4,N-4)\n",
    "    U2 = -2 * scipy.eye(N-4,N-4)\n",
    "    \n",
    "    Malpha  = alpha    * scipy.eye(N-4,N-4)\n",
    "    Malpha2 = alpha**2 * scipy.eye(N-4,N-4)\n",
    "    Malpha4 = alpha**4 * scipy.eye(N-4,N-4)\n",
    "    \n",
    "    D2 = buildD2_forward(N,dy)\n",
    "    D4 = buildD4_forward(N,dy)\n",
    "    \n",
    "    A = numpy.dot(U0,(D2-Malpha2)) - U2 - 1/(1j*alpha*Re) * \\\n",
    "        ( D4 - 2* numpy.dot(D2,Malpha2) + Malpha4 )\n",
    "    B = D2 - Malpha2\n",
    "    \n",
    "    return [A,B]"
   ]
  },
  {
   "cell_type": "code",
   "execution_count": 7,
   "metadata": {},
   "outputs": [
    {
     "name": "stdout",
     "output_type": "stream",
     "text": [
      "[[ 0.1337+19.75j   -0.1056-12.j      0.0256 -0.j      0.0000 -0.j\n",
      "   0.0000 -0.j    ]\n",
      " [-0.0992-15.j      0.1601+28.9375j -0.1056-15.j      0.0256 -0.j\n",
      "   0.0000 -0.j    ]\n",
      " [ 0.0256 -0.j     -0.1056-16.j      0.1601+31.j     -0.1056-16.j\n",
      "   0.0256 -0.j    ]\n",
      " [ 0.0000 -0.j      0.0256 -0.j     -0.1056-15.j      0.1601+28.9375j\n",
      "  -0.0992-15.j    ]\n",
      " [ 0.0000 -0.j      0.0000 -0.j      0.0256 -0.j     -0.1056-12.j\n",
      "   0.1337+19.75j  ]]\n",
      "[[-29.  16.   0.   0.   0.]\n",
      " [ 16. -33.  16.   0.   0.]\n",
      " [  0.  16. -33.  16.   0.]\n",
      " [  0.   0.  16. -33.  16.]\n",
      " [  0.   0.   0.  16. -29.]]\n"
     ]
    }
   ],
   "source": [
    "N = 9\n",
    "Re = 10000\n",
    "alpha = 1\n",
    "[A,B] = buildAB_forward(Re, alpha, N)\n",
    "\n",
    "print(-1j*A)\n",
    "print(B)"
   ]
  },
  {
   "cell_type": "markdown",
   "metadata": {},
   "source": [
    "## Convergence du calcul des modes propres pour la discrétisation forward des conditions aux bords"
   ]
  },
  {
   "cell_type": "code",
   "execution_count": null,
   "metadata": {},
   "outputs": [
    {
     "name": "stdout",
     "output_type": "stream",
     "text": [
      "Eigenvalues for N=250 are: \n",
      "[ 0.23874102+0.00234408j  0.27866786-0.05309124j  0.96466677-0.03516757j\n",
      "  0.96467837-0.03518708j  0.93646412-0.06320316j  0.93649943-0.06325357j\n",
      "  0.90830637-0.0912271j   0.90837982-0.09131748j]\n",
      "[ 0.23874102 +2.34408327e-03j  0.27866786 -5.30912355e-02j\n",
      "  0.18848998 -1.80378504e-01j  0.21097525 -1.96555999e-01j\n",
      "  0.34961315 -1.27122407e-01j  0.96466677 -3.51675708e-02j\n",
      "  0.96467837 -3.51870765e-02j  0.41729704 -1.41276257e-01j\n",
      "  0.93646412 -6.32031580e-02j  0.93649943 -6.32535733e-02j\n",
      "  0.36564803 -2.36646856e-01j  0.38082424 -2.62545881e-01j\n",
      "  0.90830637 -9.12271007e-02j  0.90837982 -9.13174755e-02j\n",
      "  0.47471620 -2.11931579e-01j  0.88019054 -1.19241615e-01j\n",
      "  0.88031918 -1.19379227e-01j  0.53232484 -2.10360490e-01j\n",
      "  0.85211347 -1.47249154e-01j  0.85231716 -1.47439428e-01j\n",
      "  0.82407186 -1.75252742e-01j  0.82437349 -1.75498857e-01j\n",
      "  0.50905838 -2.85554970e-01j  0.51785408 -3.12581468e-01j\n",
      "  0.79606066 -2.03255986e-01j  0.79648815 -2.03558626e-01j\n",
      "  0.58644683 -2.70823774e-01j  0.76866142 -2.31623255e-01j\n",
      "  0.76806105 -2.31244821e-01j  0.63641344 -2.64704311e-01j\n",
      "  0.74013204 -2.58954998e-01j  0.74086338 -2.59723970e-01j\n",
      "  0.71258554 -2.87812340e-01j  0.71453563 -2.85799887e-01j\n",
      "  0.63125151 -3.25861532e-01j  0.68456518 -3.09229662e-01j\n",
      "  0.69600674 -3.17708809e-01j  0.63688703 -3.52103089e-01j\n",
      "  0.67910791 -3.38995187e-01j  0.68113556 -3.59070588e-01j\n",
      "  0.67555904 -3.82958550e-01j  0.67527464 -4.04620775e-01j\n",
      "  0.67416338 -4.26890809e-01j  0.67381656 -4.49370639e-01j\n",
      "  0.67334910 -4.72080553e-01j  0.67305985 -4.95249106e-01j\n",
      "  0.67270125 -5.18657276e-01j  0.67247171 -5.42509393e-01j\n",
      "  0.67215846 -5.66615900e-01j  0.67198014 -5.91150555e-01j\n",
      "  0.67170223 -6.15952604e-01j  0.67156714 -6.41167220e-01j\n",
      "  0.67131948 -6.66661689e-01j  0.67122060 -6.92552128e-01j\n",
      "  0.67099915 -7.18734082e-01j  0.67093042 -7.45294634e-01j\n",
      "  0.67073179 -7.72157319e-01j  0.67068805 -7.99380848e-01j\n",
      "  0.67050937 -8.26915816e-01j  0.67048622 -8.54793803e-01j\n",
      "  0.67032508 -8.82991096e-01j  0.67031881 -9.11513745e-01j\n",
      "  0.67017315 -9.40362037e-01j  0.67018064 -9.69518337e-01j\n",
      "  0.67004871 -9.99005076e-01j  0.67006735 -1.02878289e+00j\n",
      "  0.66994762 -1.05889441e+00j  0.66997523 -1.08928053e+00j\n",
      "  0.66986641 -1.12000215e+00j  0.66990118 -1.15098241e+00j\n",
      "  0.66980211 -1.18229855e+00j  0.66984254 -1.21385783e+00j\n",
      "  0.66975224 -1.24575205e+00j  0.66979707 -1.27787441e+00j\n",
      "  0.66971466 -1.31032953e+00j  0.66976286 -1.34299822e+00j\n",
      "  0.66968758 -1.37599632e+00j  0.66973829 -1.40919387e+00j\n",
      "  0.66966946 -1.44271641e+00j  0.66972198 -1.47642464e+00j\n",
      "  0.66965898 -1.51045248e+00j  0.66971273 -1.54465259e+00j\n",
      "  0.66965504 -1.57916602e+00j  0.66970954 -1.61383862e+00j\n",
      "  0.66965668 -1.64881743e+00j  0.66971154 -1.68394258e+00j\n",
      "  0.66966307 -1.71936607e+00j  0.66971798 -1.75492332e+00j\n",
      "  0.66967353 -1.79077035e+00j  0.66972823 -1.82673879e+00j\n",
      "  0.66968745 -1.86298782e+00j  0.66974173 -1.89934608e+00j\n",
      "  0.66970432 -1.93597518e+00j  0.66975801 -1.97270149e+00j\n",
      "  0.66972369 -2.00968838e+00j  0.66977668 -2.04676062e+00j\n",
      "  0.66974520 -2.08408269e+00j  0.66979737 -2.12147836e+00j\n",
      "  0.66976852 -2.15911270e+00j  0.66981981 -2.19680901e+00j\n",
      "  0.66979337 -2.23473243e+00j  0.66984372 -2.27270629e+00j\n",
      "  0.66981953 -2.31089536e+00j  0.66986891 -2.34912341e+00j\n",
      "  0.66984679 -2.38755445e+00j  0.66989518 -2.42601310e+00j\n",
      "  0.66987500 -2.46466224e+00j  0.66992238 -2.50332767e+00j\n",
      "  0.66990401 -2.54217085e+00j  0.66995040 -2.58101906e+00j\n",
      "  0.66993371 -2.62003205e+00j  0.66997912 -2.65903888e+00j\n",
      "  0.66996402 -2.69819731e+00j  0.67000846 -2.73733843e+00j\n",
      "  0.66999486 -2.77661781e+00j  0.67003837 -2.81586878e+00j\n",
      "  0.67002619 -2.85524452e+00j  0.67006880 -2.89458080e+00j\n",
      "  0.67005798 -2.93402821e+00j  0.67009973 -2.97342517e+00j\n",
      "  0.67009020 -3.01291953e+00j  0.67013113 -3.05235249e+00j\n",
      "  0.67012285 -3.09186902e+00j  0.67016302 -3.13131324e+00j\n",
      "  0.67015595 -3.17082715e+00j  0.67019542 -3.21025790e+00j\n",
      "  0.67018953 -3.24974439e+00j  0.67022835 -3.28913693e+00j\n",
      "  0.67022363 -3.32857122e+00j  0.67026188 -3.36790084e+00j\n",
      "  0.67025831 -3.40725821e+00j  0.67029605 -3.44650023e+00j\n",
      "  0.67029364 -3.48575600e+00j  0.67033095 -3.52488583e+00j\n",
      "  0.67032970 -3.56401542e+00j  0.67036668 -3.60300854e+00j\n",
      "  0.67036662 -3.64198746e+00j  0.67040335 -3.68081946e+00j\n",
      "  0.67040451 -3.71962336e+00j  0.67044110 -3.75826997e+00j\n",
      "  0.67044352 -3.79687463e+00j  0.67048008 -3.83531173e+00j\n",
      "  0.67048383 -3.87369310e+00j  0.67052048 -3.91189675e+00j\n",
      "  0.67052562 -3.95003098e+00j  0.15834832 -6.11776717e+00j\n",
      "  0.15836091 -6.11776993e+00j  0.67056251 -3.98797742e+00j\n",
      "  0.67056913 -4.02584087e+00j  0.67060640 -4.06350658e+00j\n",
      "  0.67061462 -4.10107583e+00j  0.67065244 -4.13843754e+00j\n",
      "  0.67066238 -4.17568946e+00j  0.67070094 -4.21272414e+00j\n",
      "  0.67071275 -4.24963587e+00j  0.67075227 -4.28632082e+00j\n",
      "  0.67076614 -4.32286981e+00j  0.67080684 -4.35918263e+00j\n",
      "  0.67082298 -4.39534668e+00j  0.67086515 -4.43126533e+00j\n",
      "  0.67088381 -4.46702259e+00j  0.67092776 -4.50252542e+00j\n",
      "  0.67094922 -4.53785445e+00j  0.67099529 -4.57292020e+00j\n",
      "  0.26503558 -6.06071169e+00j  0.26504757 -6.06071480e+00j\n",
      "  0.67101990 -4.60779999e+00j  0.67106851 -4.64240786e+00j\n",
      "  0.67109667 -4.67681787e+00j  0.67114827 -4.71094754e+00j\n",
      "  0.67118044 -4.74486772e+00j  0.67123558 -4.77849938e+00j\n",
      "  0.67127232 -4.81191023e+00j  0.67133161 -4.84502464e+00j\n",
      "  0.67137355 -4.87790723e+00j  0.67143773 -4.91048575e+00j\n",
      "  0.67148562 -4.94282180e+00j  0.35065961 -6.01717327e+00j\n",
      "  0.35067110 -6.01717668e+00j  0.67155553 -4.97484644e+00j\n",
      "  0.67161025 -5.00661834e+00j  0.67168687 -5.03807183e+00j\n",
      "  0.99290069 -6.19312895e+00j  0.67174947 -5.06926271e+00j\n",
      "  0.67183397 -5.10012855e+00j  0.97877466 -6.17898684e+00j\n",
      "  0.67190566 -5.13072234e+00j  0.67199938 -5.16098484e+00j\n",
      "  0.96466477 -6.16484471e+00j  0.42511889 -5.98121775e+00j\n",
      "  0.42512992 -5.98122143e+00j  0.95057105 -6.15070255e+00j\n",
      "  0.93649350 -6.13656034e+00j  0.92243215 -6.12241807e+00j\n",
      "  0.67208163 -5.19096636e+00j  0.67218616 -5.22061075e+00j\n",
      "  0.90838700 -6.10827571e+00j  0.67228065 -5.24996573e+00j\n",
      "  0.89435807 -6.09413327e+00j  0.67239788 -5.27897823e+00j\n",
      "  0.88034537 -6.07999072e+00j  0.67250664 -5.30769346e+00j\n",
      "  0.86634892 -6.06584806e+00j  0.49225704 -5.95053363e+00j\n",
      "  0.49226764 -5.95053757e+00j  0.67263877 -5.33606135e+00j\n",
      "  0.67276416 -5.36412474e+00j  0.67291380 -5.39183649e+00j\n",
      "  0.67305864 -5.41923717e+00j  0.67322885 -5.44628252e+00j\n",
      "  0.85236873 -6.05170526e+00j  0.67339645 -5.47301095e+00j\n",
      "  0.67359085 -5.49938105e+00j  0.83840481 -6.03756230e+00j\n",
      "  0.67378510 -5.52542919e+00j  0.82445718 -6.02341919e+00j\n",
      "  0.67400794 -5.55111671e+00j  0.81052585 -6.00927590e+00j\n",
      "  0.55409127 -5.92391051e+00j  0.55410147 -5.92391470e+00j\n",
      "  0.67423343 -5.57647809e+00j  0.67448968 -5.60147740e+00j\n",
      "  0.67475178 -5.62614735e+00j  0.79661083 -5.99513241e+00j\n",
      "  0.78271214 -5.98098872e+00j  0.67504724 -5.65045463e+00j\n",
      "  0.67535220 -5.67443036e+00j  0.76882979 -5.96684480e+00j\n",
      "  0.67569363 -5.69804383e+00j  0.75496377 -5.95270067e+00j\n",
      "  0.67604867 -5.72132468e+00j  0.67644385 -5.74424472e+00j\n",
      "  0.74111414 -5.93855669e+00j  0.61186783 -5.90061545e+00j\n",
      "  0.61185793 -5.90061050e+00j  0.72728390 -5.92441460e+00j\n",
      "  0.71350112 -5.91026313e+00j  0.67685730 -5.76683226e+00j\n",
      "  0.67731543 -5.78906120e+00j  0.67780229 -5.81095740e+00j\n",
      "  0.69983880 -5.89586644e+00j  0.67839204 -5.83251544e+00j\n",
      "  0.67936944 -5.85417856e+00j  0.68565391 -5.87905962e+00j\n",
      "  0.66587303 -5.88105908e+00j  0.66676700 -5.87884011e+00j]\n",
      "Execution time for N=250 is 0.227 seconds\n",
      "Eigenvalues for N=375 are: \n",
      "[ 0.23807800+0.0030716j   0.27786049-0.0519402j   0.96464681-0.03516739j\n",
      "  0.96465840-0.0351868j   0.93638193-0.06320215j  0.93641718-0.06325241j\n",
      "  0.90812625-0.09122445j  0.90819957-0.09131475j]\n",
      "[ 0.23807800 +3.07159813e-03j  0.27786049 -5.19402014e-02j\n",
      "  0.18927369 -1.81784828e-01j  0.21184769 -1.98165105e-01j\n",
      "  0.34932630 -1.25744350e-01j  0.96464681 -3.51673881e-02j\n",
      "  0.96465840 -3.51867951e-02j  0.41677565 -1.39670696e-01j\n",
      "  0.93638193 -6.32021494e-02j  0.93641718 -6.32524085e-02j\n",
      "  0.36709042 -2.37954395e-01j  0.90812625 -9.12244510e-02j\n",
      "  0.90819957 -9.13147535e-02j  0.38242864 -2.64057016e-01j\n",
      "  0.47481762 -2.10252341e-01j  0.87987667 -1.19236280e-01j\n",
      "  0.88000512 -1.19374148e-01j  0.53217655 -2.08295411e-01j\n",
      "  0.85162985 -1.47239851e-01j  0.85183339 -1.47431066e-01j\n",
      "  0.82338227 -1.75237981e-01j  0.82368398 -1.75486157e-01j\n",
      "  0.51101545 -2.86275162e-01j  0.52008948 -3.13645976e-01j\n",
      "  0.79512810 -2.03234181e-01j  0.79555682 -2.03540441e-01j\n",
      "  0.58687334 -2.68892430e-01j  0.63659633 -2.62128492e-01j\n",
      "  0.76684356 -2.31209442e-01j  0.76745220 -2.31599258e-01j\n",
      "  0.73861505 -2.58829294e-01j  0.73933076 -2.59700866e-01j\n",
      "  0.71053841 -2.87730733e-01j  0.71324236 -2.85635461e-01j\n",
      "  0.63373393 -3.25652444e-01j  0.68352561 -3.08276525e-01j\n",
      "  0.69493229 -3.18656970e-01j  0.63971812 -3.52500198e-01j\n",
      "  0.67824380 -3.41493722e-01j  0.67958662 -3.61745817e-01j\n",
      "  0.67484068 -3.86644246e-01j  0.67446803 -4.08839111e-01j\n",
      "  0.67349289 -4.31696303e-01j  0.67312181 -4.54772326e-01j\n",
      "  0.67263680 -4.78126503e-01j  0.67233097 -5.01973873e-01j\n",
      "  0.67193944 -5.26104776e-01j  0.67169523 -5.50724559e-01j\n",
      "  0.67134853 -5.75647291e-01j  0.67115712 -6.01046388e-01j\n",
      "  0.67084602 -6.26767465e-01j  0.67069902 -6.52951207e-01j\n",
      "  0.67041859 -6.79475695e-01j  0.67030890 -7.06448206e-01j\n",
      "  0.67005514 -7.33779669e-01j  0.66997650 -7.61543815e-01j\n",
      "  0.66974603 -7.89684081e-01j  0.66969318 -8.18241509e-01j\n",
      "  0.66948321 -8.47191013e-01j  0.66945163 -8.76542261e-01j\n",
      "  0.66925976 -9.06300123e-01j  0.66924567 -9.36444652e-01j\n",
      "  0.66906990 -9.67008849e-01j  0.66907010 -9.97945146e-01j\n",
      "  0.66890869 -1.02931264e+00j  0.66892054 -1.06103825e+00j\n",
      "  0.66877199 -1.09320508e+00j  0.66879328 -1.12571670e+00j\n",
      "  0.66865631 -1.15867811e+00j  0.66868518 -1.19197163e+00j\n",
      "  0.66855866 -1.22572211e+00j  0.66859359 -1.25979269e+00j\n",
      "  0.66847653 -1.29432608e+00j  0.66851624 -1.32916818e+00j\n",
      "  0.66840778 -1.36447773e+00j  0.66845123 -1.40008518e+00j\n",
      "  0.66835060 -1.43616357e+00j  0.66839692 -1.47252962e+00j\n",
      "  0.66830342 -1.50936904e+00j  0.66835189 -1.54648636e+00j\n",
      "  0.66826492 -1.58407854e+00j  0.66831494 -1.62193933e+00j\n",
      "  0.66823396 -1.66027555e+00j  0.66828504 -1.69887152e+00j\n",
      "  0.66820955 -1.73794267e+00j  0.66826130 -1.77726507e+00j\n",
      "  0.66819085 -1.81706168e+00j  0.66824293 -1.85710135e+00j\n",
      "  0.66817714 -1.89761357e+00j  0.66822927 -1.93836096e+00j\n",
      "  0.66816776 -1.97957862e+00j  0.66821974 -2.02102382e+00j\n",
      "  0.66816219 -2.06293642e+00j  0.66821382 -2.10506916e+00j\n",
      "  0.66815993 -2.14766592e+00j  0.66821106 -2.19047560e+00j\n",
      "  0.66816056 -2.23374544e+00j  0.66821109 -2.27722115e+00j\n",
      "  0.66816373 -2.32115271e+00j  0.66821356 -2.36528325e+00j\n",
      "  0.66816912 -2.40986491e+00j  0.66821817 -2.45463879e+00j\n",
      "  0.66817643 -2.49985868e+00j  0.66822465 -2.54526413e+00j\n",
      "  0.66818542 -2.59111015e+00j  0.66823276 -2.63713516e+00j\n",
      "  0.66819588 -2.68359496e+00j  0.66824231 -2.73022724e+00j\n",
      "  0.66820761 -2.77728827e+00j  0.66825311 -2.82451533e+00j\n",
      "  0.66822045 -2.87216479e+00j  0.66826500 -2.91997388e+00j\n",
      "  0.66823424 -2.96819879e+00j  0.66827784 -3.01657697e+00j\n",
      "  0.66824884 -3.06536413e+00j  0.66829148 -3.11429823e+00j\n",
      "  0.66826415 -3.16363426e+00j  0.66830584 -3.21311092e+00j\n",
      "  0.66828005 -3.26298224e+00j  0.66832079 -3.31298788e+00j\n",
      "  0.66829645 -3.36338074e+00j  0.66833625 -3.41390163e+00j\n",
      "  0.66831328 -3.46480210e+00j  0.66835214 -3.51582431e+00j\n",
      "  0.66833044 -3.56721829e+00j  0.66836839 -3.61872770e+00j\n",
      "  0.66834789 -3.67060093e+00j  0.66838494 -3.72258329e+00j\n",
      "  0.66836556 -3.77492135e+00j  0.66840172 -3.82736222e+00j\n",
      "  0.66838340 -3.88015054e+00j  0.66841869 -3.93303533e+00j\n",
      "  0.66840136 -3.98625920e+00j  0.66843580 -4.03957318e+00j\n",
      "  0.66841940 -4.09321774e+00j  0.66845301 -4.14694604e+00j\n",
      "  0.66843749 -4.20099630e+00j  0.66847028 -4.25512391e+00j\n",
      "  0.66845559 -4.30956474e+00j  0.66848758 -4.36407651e+00j\n",
      "  0.66847367 -4.41889267e+00j  0.66850489 -4.47377333e+00j\n",
      "  0.66849171 -4.52894947e+00j  0.66852218 -4.58418363e+00j\n",
      "  0.66850969 -4.63970425e+00j  0.66853942 -4.69527641e+00j\n",
      "  0.66852759 -4.75112595e+00j  0.66855659 -4.80702049e+00j\n",
      "  0.66854538 -4.86318324e+00j  0.66857369 -4.91938446e+00j\n",
      "  0.66856306 -4.97584463e+00j  0.66859068 -5.03233671e+00j\n",
      "  0.66858061 -5.08907842e+00j  0.66860757 -5.14584546e+00j\n",
      "  0.66859803 -5.20285274e+00j  0.66862434 -5.25987874e+00j\n",
      "  0.66861529 -5.31713554e+00j  0.66864097 -5.37440442e+00j\n",
      "  0.66863240 -5.43189462e+00j  0.66865747 -5.48939022e+00j\n",
      "  0.66864934 -5.54709760e+00j  0.66867381 -5.60480371e+00j\n",
      "  0.66866611 -5.66271201e+00j  0.66869001 -5.72061233e+00j\n",
      "  0.66868271 -5.77870521e+00j  0.66870605 -5.83678339e+00j\n",
      "  0.66869913 -5.89504445e+00j  0.66872192 -5.95328408e+00j\n",
      "  0.66871537 -6.01169689e+00j  0.66873764 -6.07008150e+00j\n",
      "  0.66873144 -6.12862956e+00j  0.66875319 -6.18714266e+00j\n",
      "  0.66874732 -6.24580943e+00j  0.66876857 -6.30443446e+00j\n",
      "  0.66876302 -6.36320338e+00j  0.66878379 -6.42192375e+00j\n",
      "  0.66877854 -6.48077822e+00j  0.66879884 -6.53957732e+00j\n",
      "  0.66879389 -6.59850070e+00j  0.66881374 -6.65736189e+00j\n",
      "  0.66880906 -6.71633752e+00j  0.66882847 -6.77524414e+00j\n",
      "  0.66882405 -6.83425536e+00j  0.66884304 -6.89319073e+00j\n",
      "  0.66883888 -6.95222085e+00j  0.66885746 -7.01116829e+00j\n",
      "  0.66885355 -7.07020063e+00j  0.66887173 -7.12914344e+00j\n",
      "  0.66886806 -7.18816130e+00j  0.66888585 -7.24708279e+00j\n",
      "  0.66888241 -7.30606948e+00j  0.66889983 -7.36495297e+00j\n",
      "  0.66889662 -7.42389181e+00j  0.66891368 -7.48272062e+00j\n",
      "  0.66891068 -7.54159494e+00j  0.66892740 -7.60035240e+00j\n",
      "  0.66892461 -7.65914556e+00j  0.66894100 -7.71781504e+00j\n",
      "  0.66893842 -7.77651041e+00j  0.66895449 -7.83507528e+00j\n",
      "  0.66895211 -7.89365626e+00j  0.66896788 -7.95209995e+00j\n",
      "  0.66896569 -8.01054998e+00j  0.66898117 -8.06885593e+00j\n",
      "  0.66897918 -8.12715848e+00j  0.66899437 -8.18531018e+00j\n",
      "  0.66899257 -8.24344877e+00j  0.66900750 -8.30142976e+00j\n",
      "  0.66900590 -8.35938797e+00j  0.66902057 -8.41718183e+00j\n",
      "  0.66901916 -8.47494326e+00j  0.66903360 -8.53253364e+00j\n",
      "  0.66903237 -8.59008199e+00j  0.66904658 -8.64745259e+00j\n",
      "  0.66904554 -8.70477160e+00j  0.66905955 -8.76190619e+00j\n",
      "  0.66905870 -8.81897966e+00j  0.66907251 -8.87586208e+00j\n",
      "  0.66907185 -8.93267391e+00j  0.66908548 -8.98928809e+00j\n",
      "  0.66908502 -9.04582224e+00j  0.66909848 -9.10215216e+00j\n",
      "  0.66909823 -9.15839269e+00j  0.66911154 -9.21442245e+00j\n",
      "  0.66911149 -9.27035350e+00j  0.66912466 -9.32606727e+00j\n",
      "  0.66912483 -9.38167307e+00j  0.66913789 -9.43705513e+00j\n",
      "  0.66913827 -9.49232002e+00j  0.66915124 -9.54735475e+00j\n",
      "  0.66915185 -9.60226317e+00j  0.66916473 -9.65693505e+00j\n",
      "  0.66916559 -9.71147156e+00j  0.66917841 -9.76576519e+00j\n",
      "  0.66917952 -9.81991445e+00j  0.66919231 -9.87381455e+00j\n",
      "  0.66919368 -9.92756135e+00j  0.66920646 -9.98105276e+00j\n",
      "  0.66920811 -1.00343820e+01j  0.66922090 -1.00874497e+01j\n",
      "  0.66922285 -1.01403465e+01j  0.66923568 -1.01929756e+01j\n",
      "  0.66923795 -1.02454250e+01j  0.66925085 -1.02976007e+01j\n",
      "  0.66925346 -1.03495882e+01j  0.66926646 -1.04012960e+01j\n",
      "  0.66926944 -1.04528070e+01j  0.66928258 -1.05040322e+01j\n",
      "  0.66928595 -1.05550524e+01j  0.66929926 -1.06057810e+01j\n",
      "  0.66930306 -1.06562961e+01j  0.66931659 -1.07065137e+01j\n",
      "  0.66932085 -1.07565098e+01j  0.66933465 -1.08062026e+01j\n",
      "  0.66933941 -1.08556657e+01j  0.66935352 -1.09048199e+01j\n",
      "  0.66935885 -1.09537364e+01j  0.66937333 -1.10023384e+01j\n",
      "  0.66937925 -1.10506947e+01j  0.66939417 -1.10987311e+01j\n",
      "  0.66940076 -1.11465140e+01j  0.66941618 -1.11939716e+01j\n",
      "  0.66942351 -1.12411680e+01j  0.66943950 -1.12880337e+01j\n",
      "  0.66944765 -1.13346307e+01j  0.66946431 -1.13808919e+01j\n",
      "  0.66947336 -1.14268768e+01j  0.66949079 -1.14725207e+01j\n",
      "  0.66950083 -1.15178812e+01j  0.66951915 -1.15628956e+01j\n",
      "  0.66953031 -1.16076194e+01j  0.66954963 -1.16519922e+01j\n",
      "  0.66956203 -1.16960673e+01j  0.66958250 -1.17397867e+01j\n",
      "  0.66959629 -1.17832015e+01j  0.15470419 -1.39052529e+01j\n",
      "  0.15469859 -1.39052523e+01j  0.66961808 -1.18262558e+01j\n",
      "  0.66963343 -1.18689989e+01j  0.66965671 -1.19113769e+01j\n",
      "  0.66967382 -1.19534371e+01j  0.66969882 -1.19951278e+01j\n",
      "  0.66971790 -1.20364944e+01j  0.66974485 -1.20774870e+01j\n",
      "  0.66976617 -1.21181493e+01j  0.66979536 -1.21584336e+01j\n",
      "  0.66981921 -1.21983815e+01j  0.66985096 -1.22379473e+01j\n",
      "  0.66987768 -1.22771710e+01j  0.66991237 -1.23160087e+01j\n",
      "  0.66994236 -1.23544987e+01j  0.66998041 -1.23925990e+01j\n",
      "  0.26179649 -1.38482963e+01j  0.26180185 -1.38482971e+01j\n",
      "  0.67001413 -1.24303463e+01j  0.67005605 -1.24677004e+01j\n",
      "  0.67009404 -1.25046962e+01j  0.67014040 -1.25412956e+01j\n",
      "  0.67018329 -1.25775318e+01j  0.67023478 -1.26133685e+01j\n",
      "  0.67028330 -1.26488375e+01j  0.67034072 -1.26839041e+01j\n",
      "  0.67039571 -1.27185986e+01j  0.67045998 -1.27528882e+01j\n",
      "  0.67052247 -1.27868017e+01j  0.34782149 -1.38049119e+01j\n",
      "  0.34782665 -1.38049128e+01j  0.67059469 -1.28203079e+01j\n",
      "  0.67066584 -1.28534343e+01j  0.99291642 -1.39806289e+01j\n",
      "  0.67074729 -1.28861515e+01j  0.67082849 -1.29184857e+01j\n",
      "  0.97878143 -1.39664868e+01j  0.67092068 -1.29504089e+01j\n",
      "  0.96465359 -1.39523447e+01j  0.67101358 -1.29819461e+01j\n",
      "  0.95053290 -1.39382025e+01j  0.42266464 -1.37691483e+01j\n",
      "  0.42266963 -1.37691493e+01j  0.67111829 -1.30130711e+01j\n",
      "  0.67122481 -1.30438077e+01j  0.67134414 -1.30741312e+01j\n",
      "  0.67146656 -1.31040643e+01j  0.93641938 -1.39240604e+01j\n",
      "  0.67160298 -1.31335839e+01j  0.92231302 -1.39099182e+01j\n",
      "  0.67174398 -1.31627115e+01j  0.90821382 -1.38957760e+01j\n",
      "  0.67190042 -1.31914258e+01j  0.89412179 -1.38816338e+01j\n",
      "  0.49016862 -1.37386879e+01j  0.49016380 -1.37386867e+01j\n",
      "  0.88003693 -1.38674916e+01j  0.67206317 -1.32197472e+01j\n",
      "  0.67224306 -1.32476559e+01j  0.86595924 -1.38533494e+01j\n",
      "  0.67243130 -1.32751715e+01j  0.67263869 -1.33022756e+01j\n",
      "  0.67285680 -1.33289870e+01j  0.85188872 -1.38392071e+01j\n",
      "  0.67309642 -1.33552888e+01j  0.67334954 -1.33811992e+01j\n",
      "  0.83782538 -1.38250648e+01j  0.67362697 -1.34067027e+01j\n",
      "  0.82376923 -1.38109225e+01j  0.55233172 -1.37123131e+01j\n",
      "  0.55233639 -1.37123143e+01j  0.80972025 -1.37967801e+01j\n",
      "  0.79567846 -1.37826377e+01j  0.78164387 -1.37684953e+01j\n",
      "  0.67392107 -1.34318167e+01j  0.76761645 -1.37543528e+01j\n",
      "  0.67424274 -1.34565274e+01j  0.67458478 -1.34808516e+01j\n",
      "  0.75359619 -1.37402103e+01j  0.67495819 -1.35047768e+01j\n",
      "  0.73958311 -1.37260683e+01j  0.67535615 -1.35283195e+01j\n",
      "  0.67578978 -1.35514687e+01j  0.72558098 -1.37119291e+01j\n",
      "  0.61040584 -1.36892886e+01j  0.61040131 -1.36892878e+01j\n",
      "  0.71162542 -1.36977784e+01j  0.67625300 -1.35742402e+01j\n",
      "  0.67676050 -1.35966231e+01j  0.69779961 -1.36833148e+01j\n",
      "  0.67734407 -1.36186440e+01j  0.67827597 -1.36406035e+01j\n",
      "  0.68337224 -1.36656952e+01j  0.66448735 -1.36698594e+01j\n",
      "  0.66601857 -1.36679537e+01j]\n",
      "Execution time for N=375 is 0.665 seconds\n"
     ]
    },
    {
     "name": "stdout",
     "output_type": "stream",
     "text": [
      "Eigenvalues for N=563 are: \n",
      "[ 0.23777395+0.00342736j  0.27749578-0.05138285j  0.96463796-0.03516732j\n",
      "  0.96464955-0.03518668j  0.93634549-0.06320176j  0.93638074-0.06325193j\n",
      "  0.90804646-0.09122344j  0.90811974-0.09131367j]\n",
      "[ 0.23777395 +3.42736452e-03j  0.27749578 -5.13828530e-02j\n",
      "  0.18968753 -1.82380095e-01j  0.21230972 -1.98849872e-01j\n",
      "  0.34920018 -1.25078817e-01j  0.41653837 -1.38897377e-01j\n",
      "  0.96463796 -3.51673210e-02j  0.96464955 -3.51866760e-02j\n",
      "  0.36783991 -2.38474795e-01j  0.93634549 -6.32017641e-02j\n",
      "  0.93638074 -6.32519313e-02j  0.38325830 -2.64675801e-01j\n",
      "  0.90804646 -9.12234430e-02j  0.90811974 -9.13136696e-02j\n",
      "  0.47486059 -2.09439783e-01j  0.87973769 -1.19234266e-01j\n",
      "  0.87986609 -1.19372176e-01j  0.53210297 -2.07312219e-01j\n",
      "  0.85141581 -1.47236368e-01j  0.85161932 -1.47427894e-01j\n",
      "  0.51203060 -2.86518299e-01j  0.82307722 -1.75232501e-01j\n",
      "  0.82337900 -1.75481429e-01j  0.52123373 -3.14054179e-01j\n",
      "  0.58705997 -2.67967112e-01j  0.79471572 -2.03226182e-01j\n",
      "  0.79514507 -2.03533826e-01j  0.63666624 -2.60918557e-01j\n",
      "  0.76630477 -2.31195861e-01j  0.76691789 -2.31590739e-01j\n",
      "  0.73794624 -2.58768739e-01j  0.73865292 -2.59694891e-01j\n",
      "  0.70961753 -2.87690292e-01j  0.71271111 -2.85570103e-01j\n",
      "  0.63500664 -3.25460781e-01j  0.68313486 -3.07900729e-01j\n",
      "  0.69448263 -3.19113692e-01j  0.64116491 -3.52588845e-01j\n",
      "  0.67788019 -3.42712546e-01j  0.67891751 -3.63074297e-01j\n",
      "  0.67460734 -3.88388474e-01j  0.67420142 -4.10834411e-01j\n",
      "  0.67328367 -4.33949407e-01j  0.67290264 -4.57298596e-01j\n",
      "  0.67240754 -4.80948174e-01j  0.67209532 -5.05106668e-01j\n",
      "  0.67168895 -5.29569056e-01j  0.67143876 -5.54540500e-01j\n",
      "  0.67107602 -5.79838372e-01j  0.67087917 -6.05633091e-01j\n",
      "  0.67055223 -6.31776099e-01j  0.67040020 -6.58403328e-01j\n",
      "  0.67010381 -6.85400732e-01j  0.66998937 -7.12868365e-01j\n",
      "  0.66971969 -7.40727576e-01j  0.66963653 -7.69042498e-01j\n",
      "  0.66939012 -7.97769402e-01j  0.66933289 -8.26937385e-01j\n",
      "  0.66910701 -8.56536575e-01j  0.66907118 -8.86562419e-01j\n",
      "  0.66886343 -9.17037343e-01j  0.66884516 -9.47924907e-01j\n",
      "  0.66865356 -9.79277942e-01j  0.66864966 -1.01103023e+00j\n",
      "  0.66847249 -1.04326292e+00j  0.66848028 -1.07588213e+00j\n",
      "  0.66831605 -1.10899518e+00j  0.66833331 -1.14248277e+00j\n",
      "  0.66818077 -1.17647622e+00j  0.66820564 -1.21083299e+00j\n",
      "  0.66806365 -1.24570626e+00j  0.66809461 -1.28093236e+00j\n",
      "  0.66796222 -1.31668435e+00j  0.66799800 -1.35277938e+00j\n",
      "  0.66787434 -1.38940848e+00j  0.66791389 -1.42637151e+00j\n",
      "  0.66779820 -1.46387570e+00j  0.66784066 -1.50170534e+00j\n",
      "  0.66773228 -1.54008220e+00j  0.66777693 -1.57877660e+00j\n",
      "  0.66767524 -1.61802338e+00j  0.66772150 -1.65758031e+00j\n",
      "  0.66762597 -1.69769390e+00j  0.66767336 -1.73811076e+00j\n",
      "  0.66758351 -1.77908780e+00j  0.66763162 -1.82036165e+00j\n",
      "  0.66754701 -1.86219848e+00j  0.66759552 -1.90432606e+00j\n",
      "  0.66751575 -1.94701879e+00j  0.66756441 -1.98999655e+00j\n",
      "  0.66748913 -2.03354105e+00j  0.66753771 -2.07736518e+00j\n",
      "  0.66746660 -2.12175710e+00j  0.66751492 -2.16642354e+00j\n",
      "  0.66744768 -2.21165832e+00j  0.66749561 -2.25716276e+00j\n",
      "  0.66743197 -2.30323566e+00j  0.66747939 -2.34957359e+00j\n",
      "  0.66741911 -2.39647967e+00j  0.66746593 -2.44364635e+00j\n",
      "  0.66740879 -2.49138052e+00j  0.66745494 -2.53937102e+00j\n",
      "  0.66740073 -2.58792801e+00j  0.66744616 -2.63673722e+00j\n",
      "  0.66739468 -2.68611159e+00j  0.66743935 -2.73573421e+00j\n",
      "  0.66739044 -2.78592039e+00j  0.66743431 -2.83635097e+00j\n",
      "  0.66738781 -2.88734322e+00j  0.66743087 -2.93857613e+00j\n",
      "  0.66738663 -2.99036858e+00j  0.66742885 -3.04239804e+00j\n",
      "  0.66738674 -3.09498469e+00j  0.66742812 -3.14780476e+00j\n",
      "  0.66738801 -3.20117946e+00j  0.66742856 -3.25478408e+00j\n",
      "  0.66739033 -3.30894056e+00j  0.66743003 -3.36332350e+00j\n",
      "  0.66739358 -3.41825536e+00j  0.66743245 -3.47341029e+00j\n",
      "  0.66739767 -3.52911101e+00j  0.66743572 -3.58503143e+00j\n",
      "  0.66740252 -3.64149437e+00j  0.66743975 -3.69817369e+00j\n",
      "  0.66740804 -3.75539209e+00j  0.66744448 -3.81282357e+00j\n",
      "  0.66741418 -3.87079056e+00j  0.66744982 -3.92896735e+00j\n",
      "  0.66742086 -3.98767594e+00j  0.66745573 -4.04659107e+00j\n",
      "  0.66742803 -4.10603418e+00j  0.66746214 -4.16568056e+00j\n",
      "  0.66743564 -4.22585098e+00j  0.66746901 -4.28622143e+00j\n",
      "  0.66744365 -4.34711184e+00j  0.66747629 -4.40819905e+00j\n",
      "  0.66745200 -4.46980206e+00j  0.66748393 -4.53159861e+00j\n",
      "  0.66746067 -4.59390670e+00j  0.66749190 -4.65640509e+00j\n",
      "  0.66746962 -4.71941063e+00j  0.66750017 -4.78260323e+00j\n",
      "  0.66747881 -4.84629853e+00j  0.66750870 -4.91017763e+00j\n",
      "  0.66748822 -4.97455488e+00j  0.66751746 -5.03911265e+00j\n",
      "  0.66749782 -5.10416394e+00j  0.66752643 -5.16939248e+00j\n",
      "  0.66750758 -5.23510982e+00j  0.66753558 -5.30100111e+00j\n",
      "  0.66751749 -5.36737641e+00j  0.66754489 -5.43392234e+00j\n",
      "  0.66752753 -5.50094743e+00j  0.66755435 -5.56813982e+00j\n",
      "  0.66753767 -5.63580642e+00j  0.66756392 -5.70363698e+00j\n",
      "  0.66754790 -5.77193675e+00j  0.66757359 -5.84039710e+00j\n",
      "  0.66755821 -5.90932160e+00j  0.66758336 -5.97840329e+00j\n",
      "  0.66756857 -6.04794399e+00j  0.66759319 -6.11763847e+00j\n",
      "  0.66757898 -6.18778677e+00j  0.66760309 -6.25808541e+00j\n",
      "  0.66758942 -6.32883261e+00j  0.66761303 -6.39972671e+00j\n",
      "  0.66759989 -6.47106405e+00j  0.66762301 -6.54254480e+00j\n",
      "  0.66761037 -6.61446344e+00j  0.66763302 -6.68652198e+00j\n",
      "  0.66762085 -6.75901298e+00j  0.66764303 -6.83164036e+00j\n",
      "  0.66763132 -6.90469473e+00j  0.66765306 -6.97788192e+00j\n",
      "  0.66764179 -7.05149058e+00j  0.66766308 -7.12522849e+00j\n",
      "  0.66765223 -7.19938229e+00j  0.66767310 -7.27366173e+00j\n",
      "  0.66766264 -7.34835145e+00j  0.66768309 -7.42316319e+00j\n",
      "  0.66767303 -7.49837954e+00j  0.66769307 -7.57371424e+00j\n",
      "  0.66768337 -7.64944786e+00j  0.66770301 -7.72529615e+00j\n",
      "  0.66769367 -7.80153760e+00j  0.66771292 -7.87789003e+00j\n",
      "  0.66770392 -7.95462982e+00j  0.66772279 -8.03147685e+00j\n",
      "  0.66771411 -8.10870542e+00j  0.66773262 -8.18603747e+00j\n",
      "  0.66772425 -8.26374519e+00j  0.66774240 -8.34155261e+00j\n",
      "  0.66773433 -8.41972979e+00j  0.66775212 -8.49800286e+00j\n",
      "  0.66774434 -8.57663975e+00j  0.66776179 -8.65536870e+00j\n",
      "  0.66775429 -8.73445549e+00j  0.66777140 -8.81363048e+00j\n",
      "  0.66776416 -8.89315730e+00j  0.66778095 -8.97276844e+00j\n",
      "  0.66777397 -9.05272536e+00j  0.66779044 -9.13276270e+00j\n",
      "  0.66778370 -9.21313973e+00j  0.66779985 -9.29359326e+00j\n",
      "  0.66779335 -9.37438037e+00j  0.66780920 -9.45524002e+00j\n",
      "  0.66780292 -9.53642712e+00j  0.66781848 -9.61768278e+00j\n",
      "  0.66781241 -9.69925972e+00j  0.66782768 -9.78090122e+00j\n",
      "  0.66782183 -9.86285780e+00j  0.66783681 -9.94487493e+00j\n",
      "  0.66783116 -1.00272009e+01j  0.66784586 -1.01095834e+01j\n",
      "  0.66784040 -1.01922685e+01j  0.66785483 -1.02750060e+01j\n",
      "  0.66784956 -1.03580399e+01j  0.66786373 -1.04411221e+01j\n",
      "  0.66785863 -1.05244943e+01j  0.66787254 -1.06079108e+01j\n",
      "  0.66786762 -1.06916110e+01j  0.66788128 -1.07753513e+01j\n",
      "  0.66787652 -1.08593690e+01j  0.66788993 -1.09434227e+01j\n",
      "  0.66788534 -1.10277473e+01j  0.66789850 -1.11121037e+01j\n",
      "  0.66789406 -1.11967248e+01j  0.66790699 -1.12813735e+01j\n",
      "  0.66790270 -1.13662803e+01j  0.66791540 -1.14512106e+01j\n",
      "  0.66791125 -1.15363927e+01j  0.66792372 -1.16215940e+01j\n",
      "  0.66791971 -1.17070406e+01j  0.66793196 -1.17925021e+01j\n",
      "  0.66792808 -1.18782025e+01j  0.66794011 -1.19639137e+01j\n",
      "  0.66793637 -1.20498572e+01j  0.66794819 -1.21358071e+01j\n",
      "  0.66794456 -1.22219830e+01j  0.66795618 -1.23081610e+01j\n",
      "  0.66795267 -1.23945583e+01j  0.66796408 -1.24809536e+01j\n",
      "  0.66796069 -1.25675617e+01j  0.66797190 -1.26541633e+01j\n",
      "  0.66796862 -1.27409712e+01j  0.66797964 -1.28277684e+01j\n",
      "  0.66797647 -1.29147653e+01j  0.66798730 -1.30017471e+01j\n",
      "  0.66798423 -1.30889221e+01j  0.66799487 -1.31760777e+01j\n",
      "  0.66799190 -1.32634198e+01j  0.66800236 -1.33507381e+01j\n",
      "  0.66799949 -1.34382365e+01j  0.66800977 -1.35257067e+01j\n",
      "  0.66800699 -1.36133503e+01j  0.66801710 -1.37009613e+01j\n",
      "  0.66801441 -1.37887391e+01j  0.66802434 -1.38764800e+01j\n",
      "  0.66802174 -1.39643811e+01j  0.66803151 -1.40522408e+01j\n",
      "  0.66802899 -1.41402541e+01j  0.66803860 -1.42282216e+01j\n",
      "  0.66803616 -1.43163362e+01j  0.66804560 -1.44044005e+01j\n",
      "  0.66804325 -1.44926051e+01j  0.66805253 -1.45807551e+01j\n",
      "  0.66805025 -1.46690389e+01j  0.66805939 -1.47572635e+01j\n",
      "  0.66805718 -1.48456153e+01j  0.66806616 -1.49339035e+01j\n",
      "  0.66806403 -1.50223122e+01j  0.66807286 -1.51106528e+01j\n",
      "  0.66807080 -1.51991074e+01j  0.66807948 -1.52874895e+01j\n",
      "  0.66807749 -1.53759788e+01j  0.66808603 -1.54643911e+01j\n",
      "  0.66808410 -1.55529041e+01j  0.66809251 -1.56413356e+01j\n",
      "  0.66809064 -1.57298611e+01j  0.66809891 -1.58183007e+01j\n",
      "  0.66809710 -1.59068276e+01j  0.66810524 -1.59952642e+01j\n",
      "  0.66810349 -1.60837815e+01j  0.66811150 -1.61722039e+01j\n",
      "  0.66810981 -1.62607004e+01j  0.66811769 -1.63490975e+01j\n",
      "  0.66811605 -1.64375622e+01j  0.66812381 -1.65259230e+01j\n",
      "  0.66812223 -1.66143447e+01j  0.66812986 -1.67026580e+01j\n",
      "  0.66812833 -1.67910257e+01j  0.66813584 -1.68792805e+01j\n",
      "  0.66813437 -1.69675830e+01j  0.66814176 -1.70557681e+01j\n",
      "  0.66814033 -1.71439944e+01j  0.66814761 -1.72320989e+01j\n",
      "  0.66814624 -1.73202378e+01j  0.66815340 -1.74082505e+01j\n",
      "  0.66815207 -1.74962911e+01j  0.66815912 -1.75842009e+01j\n",
      "  0.66815784 -1.76721322e+01j  0.66816479 -1.77599281e+01j\n",
      "  0.66816355 -1.78477389e+01j  0.66817039 -1.79354099e+01j\n",
      "  0.66816920 -1.80230893e+01j  0.66817593 -1.81106244e+01j\n",
      "  0.66817478 -1.81981613e+01j  0.66818142 -1.82855494e+01j\n",
      "  0.66818031 -1.83729329e+01j  0.66818684 -1.84601632e+01j\n",
      "  0.66818577 -1.85473822e+01j  0.66819221 -1.86344436e+01j\n",
      "  0.66819118 -1.87214873e+01j  0.66819753 -1.88083689e+01j\n",
      "  0.66819654 -1.88952264e+01j  0.66820279 -1.89819173e+01j\n",
      "  0.66820184 -1.90685775e+01j  0.66820800 -1.91550668e+01j\n",
      "  0.66820709 -1.92415190e+01j  0.66821316 -1.93277959e+01j\n",
      "  0.66821228 -1.94140292e+01j  0.66821827 -1.95000827e+01j\n",
      "  0.66821743 -1.95860863e+01j  0.66822333 -1.96719057e+01j\n",
      "  0.66822253 -1.97576688e+01j  0.66822835 -1.98432433e+01j\n",
      "  0.66822758 -1.99287552e+01j  0.66823332 -2.00140740e+01j\n",
      "  0.66823258 -2.00993239e+01j  0.66823824 -2.01843764e+01j\n",
      "  0.66823754 -2.02693535e+01j  0.66824313 -2.03541290e+01j\n",
      "  0.66824246 -2.04388228e+01j  0.66824797 -2.05233105e+01j\n",
      "  0.66824734 -2.06077104e+01j  0.66825278 -2.06918998e+01j\n",
      "  0.66825218 -2.07759951e+01j  0.66825755 -2.08598756e+01j\n",
      "  0.66825699 -2.09436558e+01j  0.66826228 -2.10272170e+01j\n",
      "  0.66826175 -2.11106715e+01j  0.66826699 -2.11939027e+01j\n",
      "  0.66826649 -2.12770212e+01j  0.66827166 -2.13599121e+01j\n",
      "  0.66827119 -2.14426840e+01j  0.66827630 -2.15252241e+01j\n",
      "  0.66827587 -2.16076392e+01j  0.66828092 -2.16898181e+01j\n",
      "  0.66828052 -2.17718660e+01j  0.66828551 -2.18536735e+01j\n",
      "  0.66828515 -2.19353439e+01j  0.66829008 -2.20167696e+01j\n",
      "  0.66828975 -2.20980522e+01j  0.66829463 -2.21790860e+01j\n",
      "  0.66829434 -2.22599707e+01j  0.66829917 -2.23406024e+01j\n",
      "  0.66829891 -2.24210790e+01j  0.66830369 -2.25012985e+01j\n",
      "  0.66830347 -2.25813569e+01j  0.66830820 -2.26611541e+01j\n",
      "  0.66830801 -2.27407843e+01j  0.66831271 -2.28201492e+01j\n",
      "  0.66831255 -2.28993412e+01j  0.66831720 -2.29782638e+01j\n",
      "  0.66831709 -2.30570078e+01j  0.66832170 -2.31354782e+01j\n",
      "  0.66832163 -2.32137642e+01j  0.66832620 -2.32917727e+01j\n",
      "  0.66832617 -2.33695909e+01j  0.66833071 -2.34471275e+01j\n",
      "  0.66833072 -2.35244682e+01j  0.66833523 -2.36015234e+01j\n",
      "  0.66833528 -2.36783769e+01j  0.66833976 -2.37549409e+01j\n",
      "  0.66833986 -2.38312976e+01j  0.66834431 -2.39073608e+01j\n",
      "  0.66834446 -2.39832112e+01j  0.66834889 -2.40587641e+01j\n",
      "  0.66834908 -2.41340986e+01j  0.66835350 -2.42091318e+01j\n",
      "  0.66835374 -2.42839410e+01j  0.66835814 -2.43584451e+01j\n",
      "  0.66835844 -2.44327196e+01j  0.66836283 -2.45066852e+01j\n",
      "  0.66836318 -2.45804158e+01j  0.66836756 -2.46538337e+01j\n",
      "  0.66836797 -2.47270112e+01j  0.66837235 -2.47998722e+01j\n",
      "  0.66837282 -2.48724874e+01j  0.66837721 -2.49447824e+01j\n",
      "  0.66837774 -2.50168263e+01j  0.66838213 -2.50885462e+01j\n",
      "  0.66838273 -2.51600098e+01j  0.66838713 -2.52311457e+01j\n",
      "  0.66838781 -2.53020200e+01j  0.66839223 -2.53725630e+01j\n",
      "  0.66839298 -2.54428393e+01j  0.66839742 -2.55127806e+01j\n",
      "  0.66839825 -2.55824500e+01j  0.66840273 -2.56517809e+01j\n",
      "  0.66840365 -2.57208348e+01j  0.66840816 -2.57895466e+01j\n",
      "  0.66840917 -2.58579764e+01j  0.66841372 -2.59260606e+01j\n",
      "  0.66841483 -2.59938578e+01j  0.66841944 -2.60613059e+01j\n",
      "  0.66842066 -2.61284621e+01j  0.66842532 -2.61952657e+01j\n",
      "  0.66842665 -2.62617725e+01j  0.66843139 -2.63279233e+01j\n",
      "  0.66843284 -2.63937725e+01j  0.66843766 -2.64592623e+01j\n",
      "  0.66843924 -2.65244457e+01j  0.66844415 -2.65892664e+01j\n",
      "  0.66844587 -2.66537759e+01j  0.66845088 -2.67179195e+01j\n",
      "  0.66845276 -2.67817472e+01j  0.66845788 -2.68452057e+01j\n",
      "  0.66845993 -2.69083437e+01j  0.66846518 -2.69711093e+01j\n",
      "  0.66846741 -2.70335498e+01j  0.66847281 -2.70956147e+01j\n",
      "  0.66847523 -2.71573501e+01j  0.66848079 -2.72187067e+01j\n",
      "  0.66848342 -2.72797293e+01j  0.66848916 -2.73403701e+01j\n",
      "  0.66849203 -2.74006725e+01j  0.66849797 -2.74605900e+01j\n",
      "  0.66850109 -2.75201648e+01j  0.66850725 -2.75793516e+01j\n",
      "  0.66851064 -2.76381916e+01j  0.66851705 -2.76966406e+01j\n",
      "  0.66852075 -2.77547385e+01j  0.66852744 -2.78124426e+01j\n",
      "  0.66853146 -2.78697914e+01j  0.66853846 -2.79267436e+01j\n",
      "  0.66854285 -2.79833364e+01j  0.66855018 -2.80395297e+01j\n",
      "  0.66855497 -2.80953597e+01j  0.66856269 -2.81507874e+01j\n",
      "  0.66856791 -2.82058480e+01j  0.66857605 -2.82605034e+01j\n",
      "  0.66858175 -2.83147879e+01j  0.66859036 -2.83686646e+01j\n",
      "  0.66859660 -2.84221665e+01j  0.66860574 -2.84752580e+01j\n",
      "  0.66861256 -2.85279711e+01j  0.66862228 -2.85802713e+01j\n",
      "  0.66862976 -2.86321893e+01j  0.66864013 -2.86836919e+01j\n",
      "  0.66864833 -2.87348089e+01j  0.66865943 -2.87855081e+01j\n",
      "  0.66866843 -2.88358180e+01j  0.66868035 -2.88857079e+01j\n",
      "  0.66869024 -2.89352052e+01j  0.66870307 -2.89842800e+01j\n",
      "  0.66871396 -2.90329590e+01j  0.66872782 -2.90812133e+01j\n",
      "  0.66873982 -2.91290686e+01j  0.66875482 -2.91764970e+01j\n",
      "  0.66876807 -2.92235233e+01j  0.66878437 -2.92701207e+01j\n",
      "  0.66879902 -2.93163129e+01j  0.66881677 -2.93620743e+01j\n",
      "  0.66883299 -2.94074276e+01j  0.15222677 -3.15020160e+01j\n",
      "  0.15222925 -3.15020162e+01j  0.66885239 -2.94523481e+01j\n",
      "  0.66887038 -2.94968577e+01j  0.66889163 -2.95409328e+01j\n",
      "  0.66891163 -2.95845943e+01j  0.66893498 -2.96278196e+01j\n",
      "  0.66895724 -2.96706287e+01j  0.66898298 -2.97130000e+01j\n",
      "  0.66900781 -2.97549527e+01j  0.66903626 -2.97964661e+01j\n",
      "  0.66906400 -2.98375587e+01j  0.66909554 -2.98782105e+01j\n",
      "  0.66912661 -2.99184394e+01j  0.66916168 -2.99582264e+01j\n",
      "  0.66919655 -2.99975885e+01j  0.66923565 -3.00365075e+01j\n",
      "  0.25954146 -3.14450797e+01j  0.25954384 -3.14450800e+01j\n",
      "  0.66927486 -3.00749999e+01j  0.66931859 -3.01130483e+01j\n",
      "  0.66936278 -3.01506684e+01j  0.66941184 -3.01878438e+01j\n",
      "  0.66946176 -3.02245894e+01j  0.66951694 -3.02608899e+01j\n",
      "  0.66957347 -3.02967595e+01j  0.66963573 -3.03321835e+01j\n",
      "  0.66969988 -3.03671756e+01j  0.66977033 -3.04017221e+01j\n",
      "  0.34577605 -3.14017419e+01j  0.34577376 -3.14017416e+01j\n",
      "  0.66984331 -3.04358361e+01j  0.66992325 -3.04695046e+01j\n",
      "  0.67000649 -3.05027402e+01j  0.67009746 -3.05355308e+01j\n",
      "  0.99292339 -3.15774289e+01j  0.67019262 -3.05678885e+01j\n",
      "  0.67029644 -3.05998019e+01j  0.97878442 -3.15632868e+01j\n",
      "  0.42081630 -3.13660421e+01j  0.42081408 -3.13660418e+01j\n",
      "  0.96464862 -3.15491447e+01j  0.67040549 -3.06312827e+01j\n",
      "  0.67052428 -3.06623205e+01j  0.95051598 -3.15350025e+01j\n",
      "  0.67064954 -3.06929263e+01j  0.67078584 -3.07230906e+01j\n",
      "  0.67093005 -3.07528242e+01j  0.93638651 -3.15208604e+01j\n",
      "  0.67108682 -3.07821182e+01j  0.92226021 -3.15067182e+01j\n",
      "  0.67125321 -3.08109832e+01j  0.67143396 -3.08394111e+01j\n",
      "  0.90813708 -3.14925761e+01j  0.48850086 -3.13356581e+01j\n",
      "  0.48849871 -3.13356577e+01j  0.89401712 -3.14784340e+01j\n",
      "  0.87990033 -3.14642918e+01j  0.67162632 -3.08674123e+01j\n",
      "  0.86578671 -3.14501496e+01j  0.67183517 -3.08949795e+01j\n",
      "  0.67205797 -3.09221227e+01j  0.67229974 -3.09488356e+01j\n",
      "  0.85167626 -3.14360075e+01j  0.67255820 -3.09751281e+01j\n",
      "  0.83756898 -3.14218653e+01j  0.67283854 -3.10009947e+01j\n",
      "  0.67313875 -3.10264452e+01j  0.82346488 -3.14077231e+01j\n",
      "  0.55083894 -3.13093732e+01j  0.55084102 -3.13093736e+01j\n",
      "  0.80936394 -3.13935810e+01j  0.79526619 -3.13794388e+01j\n",
      "  0.78117160 -3.13652966e+01j  0.76708019 -3.13511544e+01j\n",
      "  0.67346422 -3.10514750e+01j  0.75299189 -3.13370122e+01j\n",
      "  0.67381323 -3.10760937e+01j  0.67419134 -3.11002977e+01j\n",
      "  0.73890670 -3.13228705e+01j  0.67459728 -3.11240968e+01j\n",
      "  0.72482846 -3.13087323e+01j  0.67503686 -3.11474881e+01j\n",
      "  0.67550905 -3.11704812e+01j  0.71079591 -3.12945845e+01j\n",
      "  0.60906636 -3.12864479e+01j  0.60906839 -3.12864478e+01j\n",
      "  0.67602315 -3.11930731e+01j  0.69691142 -3.12801126e+01j\n",
      "  0.67661527 -3.12152821e+01j  0.67756281 -3.12373917e+01j\n",
      "  0.68258369 -3.12623430e+01j  0.66331034 -3.12670728e+01j\n",
      "  0.66482835 -3.12653363e+01j]\n",
      "Execution time for N=563 is 2.945 seconds\n"
     ]
    },
    {
     "name": "stdout",
     "output_type": "stream",
     "text": [
      "Eigenvalues for N=844 are: \n",
      "[ 0.23763722+0.00359562j  0.27733375-0.05112113j  0.96463405-0.0351673j\n",
      "  0.96464564-0.03518662j  0.93632941-0.06320161j  0.93636465-0.06325173j\n",
      "  0.90801123-0.09122304j  0.90808451-0.09131321j]\n",
      "[ 0.23763722 +3.59562080e-03j  0.27733375 -5.11211276e-02j\n",
      "  0.18988770 -1.82631310e-01j  0.21253361 -1.99139884e-01j\n",
      "  0.34914656 -1.24766747e-01j  0.96463405 -3.51672953e-02j\n",
      "  0.41643342 -1.38534723e-01j  0.96464564 -3.51866245e-02j\n",
      "  0.93632941 -6.32016095e-02j  0.93636465 -6.32517281e-02j\n",
      "  0.36819721 -2.38680639e-01j  0.38365377 -2.64926307e-01j\n",
      "  0.90801123 -9.12230370e-02j  0.90808451 -9.13132149e-02j\n",
      "  0.47488120 -2.09057336e-01j  0.87967635 -1.19233456e-01j\n",
      "  0.87980475 -1.19371360e-01j  0.53206993 -2.06853638e-01j\n",
      "  0.85132137 -1.47234971e-01j  0.85152488 -1.47426595e-01j\n",
      "  0.51251250 -2.86593129e-01j  0.82294264 -1.75230313e-01j\n",
      "  0.82324451 -1.75479510e-01j  0.52177497 -3.14204172e-01j\n",
      "  0.79453388 -2.03222994e-01j  0.79496345 -2.03531226e-01j\n",
      "  0.58714319 -2.67532979e-01j  0.63669607 -2.60357938e-01j\n",
      "  0.76606690 -2.31190234e-01j  0.76668240 -2.31587429e-01j\n",
      "  0.73765111 -2.58741741e-01j  0.73835433 -2.59691698e-01j\n",
      "  0.70920105 -2.87681888e-01j  0.71249124 -2.85533320e-01j\n",
      "  0.63561478 -3.25317708e-01j  0.68301557 -3.07726275e-01j\n",
      "  0.69429561 -3.19349257e-01j  0.64187392 -3.52587056e-01j\n",
      "  0.67768990 -3.43314637e-01j  0.67859437 -3.63685888e-01j\n",
      "  0.67454510 -3.89152548e-01j  0.67413045 -4.11725991e-01j\n",
      "  0.67322611 -4.34980534e-01j  0.67284052 -4.58447163e-01j\n",
      "  0.67234160 -4.82219876e-01j  0.67202811 -5.06521701e-01j\n",
      "  0.67161576 -5.31136206e-01j  0.67136306 -5.56264416e-01j\n",
      "  0.67099454 -5.81731034e-01j  0.67079668 -6.07704582e-01j\n",
      "  0.67046249 -6.34038305e-01j  0.67030867 -6.60864919e-01j\n",
      "  0.67000617 -6.88075395e-01j  0.66989067 -7.15766005e-01j\n",
      "  0.66961425 -7.43863578e-01j  0.66952966 -7.72426489e-01j\n",
      "  0.66927661 -8.01417923e-01j  0.66921823 -8.30860717e-01j\n",
      "  0.66898572 -8.60753110e-01j  0.66894866 -8.91082737e-01j\n",
      "  0.66873418 -9.21881235e-01j  0.66871468 -9.53103394e-01j\n",
      "  0.66851633 -9.84812445e-01j  0.66851119 -1.01693226e+00j\n",
      "  0.66832725 -1.04955551e+00j  0.66833375 -1.08257730e+00j\n",
      "  0.66816271 -1.11611757e+00j  0.66817864 -1.15004496e+00j\n",
      "  0.66801928 -1.18450453e+00j  0.66804278 -1.21934057e+00j\n",
      "  0.66789394 -1.25472110e+00j  0.66792348 -1.29046824e+00j\n",
      "  0.66778422 -1.32677096e+00j  0.66781854 -1.36343117e+00j\n",
      "  0.66768799 -1.40065687e+00j  0.66772603 -1.43823164e+00j\n",
      "  0.66760345 -1.47638074e+00j  0.66764436 -1.51487115e+00j\n",
      "  0.66752906 -1.55394374e+00j  0.66757212 -1.59335050e+00j\n",
      "  0.66746352 -1.63334638e+00j  0.66750814 -1.67366986e+00j\n",
      "  0.66740570 -1.71458858e+00j  0.66745140 -1.75582882e+00j\n",
      "  0.66735464 -1.79766969e+00j  0.66740104 -1.83982647e+00j\n",
      "  0.66730951 -1.88258858e+00j  0.66735629 -1.92566143e+00j\n",
      "  0.66726961 -1.96934368e+00j  0.66731650 -2.01333188e+00j\n",
      "  0.66723432 -2.05793300e+00j  0.66728111 -2.10283563e+00j\n",
      "  0.66720311 -2.14835420e+00j  0.66724962 -2.19417014e+00j\n",
      "  0.66717551 -2.24060457e+00j  0.66722160 -2.28733251e+00j\n",
      "  0.66715111 -2.33468110e+00j  0.66719668 -2.38231959e+00j\n",
      "  0.66712957 -2.43058048e+00j  0.66717453 -2.47912790e+00j\n",
      "  0.66711058 -2.52829913e+00j  0.66715486 -2.57775372e+00j\n",
      "  0.66709387 -2.62783323e+00j  0.66713742 -2.67819309e+00j\n",
      "  0.66707920 -2.72917869e+00j  0.66712199 -2.78044182e+00j\n",
      "  0.66706636 -2.83233123e+00j  0.66710835 -2.88449549e+00j\n",
      "  0.66705516 -2.93728635e+00j  0.66709635 -2.99034949e+00j\n",
      "  0.66704545 -3.04403933e+00j  0.66708581 -3.09799902e+00j\n",
      "  0.66703708 -3.15258529e+00j  0.66707661 -3.20743908e+00j\n",
      "  0.66702992 -3.26291915e+00j  0.66706863 -3.31866450e+00j\n",
      "  0.66702386 -3.37503566e+00j  0.66706174 -3.43166995e+00j\n",
      "  0.66701879 -3.48892941e+00j  0.66705585 -3.54644992e+00j\n",
      "  0.66701462 -3.60459484e+00j  0.66705087 -3.66299878e+00j\n",
      "  0.66701127 -3.72202621e+00j  0.66704673 -3.78131071e+00j\n",
      "  0.66700867 -3.84121765e+00j  0.66704335 -3.90137976e+00j\n",
      "  0.66700676 -3.96216315e+00j  0.66704067 -4.02319985e+00j\n",
      "  0.66700546 -4.08485656e+00j  0.66703862 -4.14676474e+00j\n",
      "  0.66700474 -4.20929157e+00j  0.66703716 -4.27206809e+00j\n",
      "  0.66700453 -4.33546178e+00j  0.66703624 -4.39910340e+00j\n",
      "  0.66700480 -4.46336063e+00j  0.66703582 -4.52786406e+00j\n",
      "  0.66700551 -4.59298145e+00j  0.66703584 -4.65834333e+00j\n",
      "  0.66700663 -4.72431744e+00j  0.66703629 -4.79053435e+00j\n",
      "  0.66700811 -4.85736167e+00j  0.66703712 -4.92443014e+00j\n",
      "  0.66700993 -4.99210713e+00j  0.66703831 -5.06002360e+00j\n",
      "  0.66701206 -5.12854665e+00j  0.66703983 -5.19730753e+00j\n",
      "  0.66701448 -5.26667297e+00j  0.66704166 -5.33627461e+00j\n",
      "  0.66701716 -5.40647872e+00j  0.66704376 -5.47691739e+00j\n",
      "  0.66702009 -5.54795640e+00j  0.66704613 -5.61922835e+00j\n",
      "  0.66702325 -5.69109843e+00j  0.66704873 -5.76319982e+00j\n",
      "  0.66702661 -5.83589710e+00j  0.66705156 -5.90882406e+00j\n",
      "  0.66703016 -5.98234460e+00j  0.66705460 -6.05609321e+00j\n",
      "  0.66703389 -6.13043303e+00j  0.66705782 -6.20499929e+00j\n",
      "  0.66703778 -6.28015436e+00j  0.66706122 -6.35553425e+00j\n",
      "  0.66704182 -6.43150049e+00j  0.66706479 -6.50768991e+00j\n",
      "  0.66704600 -6.58446319e+00j  0.66706851 -6.66145801e+00j\n",
      "  0.66705031 -6.73903415e+00j  0.66707236 -6.81683019e+00j\n",
      "  0.66705473 -6.89520496e+00j  0.66707635 -6.97379798e+00j\n",
      "  0.66705927 -7.05296710e+00j  0.66708046 -7.13235281e+00j\n",
      "  0.66706390 -7.21231197e+00j  0.66708468 -7.29248604e+00j\n",
      "  0.66706862 -7.37323085e+00j  0.66708900 -7.45418892e+00j\n",
      "  0.66707343 -7.53571497e+00j  0.66709342 -7.61745258e+00j\n",
      "  0.66707831 -7.69975541e+00j  0.66709792 -7.78226811e+00j\n",
      "  0.66708327 -7.86534320e+00j  0.66710251 -7.94862646e+00j\n",
      "  0.66708829 -8.03246927e+00j  0.66710717 -8.11651852e+00j\n",
      "  0.66709337 -8.20112443e+00j  0.66711189 -8.28593507e+00j\n",
      "  0.66709850 -8.37129945e+00j  0.66711668 -8.45686681e+00j\n",
      "  0.66710368 -8.54298496e+00j  0.66712153 -8.62930434e+00j\n",
      "  0.66710890 -8.71617154e+00j  0.66712643 -8.80323820e+00j\n",
      "  0.66711416 -8.89084965e+00j  0.66713137 -8.97865880e+00j\n",
      "  0.66711946 -9.06700970e+00j  0.66713636 -9.15555649e+00j\n",
      "  0.66712478 -9.24464197e+00j  0.66714139 -9.33392153e+00j\n",
      "  0.66713014 -9.42373668e+00j  0.66714645 -9.51374410e+00j\n",
      "  0.66713552 -9.60428398e+00j  0.66715155 -9.69501428e+00j\n",
      "  0.66714092 -9.78627389e+00j  0.66715667 -9.87772209e+00j\n",
      "  0.66714633 -9.96969640e+00j  0.66716181 -1.00618574e+01j\n",
      "  0.66715177 -1.01545414e+01j  0.66716698 -1.02474101e+01j\n",
      "  0.66715721 -1.03407986e+01j  0.66717217 -1.04343700e+01j\n",
      "  0.66716266 -1.05284578e+01j  0.66717737 -1.06227267e+01j\n",
      "  0.66716812 -1.07175086e+01j  0.66718258 -1.08124697e+01j\n",
      "  0.66717359 -1.09079406e+01j  0.66718781 -1.10035887e+01j\n",
      "  0.66717906 -1.10997433e+01j  0.66719304 -1.11960731e+01j\n",
      "  0.66718453 -1.12929060e+01j  0.66719828 -1.13899121e+01j\n",
      "  0.66718999 -1.14874180e+01j  0.66720352 -1.15850952e+01j\n",
      "  0.66719546 -1.16832687e+01j  0.66720877 -1.17816114e+01j\n",
      "  0.66720092 -1.18804471e+01j  0.66721401 -1.19794500e+01j\n",
      "  0.66720637 -1.20789424e+01j  0.66721926 -1.21786000e+01j\n",
      "  0.66721181 -1.22787435e+01j  0.66722450 -1.23790503e+01j\n",
      "  0.66721725 -1.24798395e+01j  0.66722973 -1.25807898e+01j\n",
      "  0.66722267 -1.26822191e+01j  0.66723496 -1.27838074e+01j\n",
      "  0.66722808 -1.28858712e+01j  0.66724018 -1.29880919e+01j\n",
      "  0.66723348 -1.30907844e+01j  0.66724539 -1.31936318e+01j\n",
      "  0.66723886 -1.32969475e+01j  0.66725059 -1.34004159e+01j\n",
      "  0.66724423 -1.35043490e+01j  0.66725578 -1.36084326e+01j\n",
      "  0.66724958 -1.37129773e+01j  0.66726095 -1.38176705e+01j\n",
      "  0.66725491 -1.39228211e+01j  0.66726611 -1.40281179e+01j\n",
      "  0.66726023 -1.41338685e+01j  0.66727126 -1.42397631e+01j\n",
      "  0.66726552 -1.43461079e+01j  0.66727639 -1.44525945e+01j\n",
      "  0.66727080 -1.45595275e+01j  0.66728150 -1.46666002e+01j\n",
      "  0.66727605 -1.47741155e+01j  0.66728660 -1.48817683e+01j\n",
      "  0.66728128 -1.49898600e+01j  0.66729167 -1.50980869e+01j\n",
      "  0.66728649 -1.52067490e+01j  0.66729673 -1.53155440e+01j\n",
      "  0.66729167 -1.54247704e+01j  0.66730176 -1.55341276e+01j\n",
      "  0.66729683 -1.56439123e+01j  0.66730678 -1.57538254e+01j\n",
      "  0.66730197 -1.58641623e+01j  0.66731177 -1.59746253e+01j\n",
      "  0.66730708 -1.60855083e+01j  0.66731674 -1.61965151e+01j\n",
      "  0.66731216 -1.63079380e+01j  0.66732169 -1.64194824e+01j\n",
      "  0.66731722 -1.65314390e+01j  0.66732661 -1.66435148e+01j\n",
      "  0.66732226 -1.67559990e+01j  0.66733151 -1.68685999e+01j\n",
      "  0.66732726 -1.69816054e+01j  0.66733639 -1.70947252e+01j\n",
      "  0.66733224 -1.72082457e+01j  0.66734124 -1.73218781e+01j\n",
      "  0.66733719 -1.74359073e+01j  0.66734607 -1.75500461e+01j\n",
      "  0.66734211 -1.76645776e+01j  0.66735086 -1.77792163e+01j\n",
      "  0.66734701 -1.78942439e+01j  0.66735564 -1.80093762e+01j\n",
      "  0.66735187 -1.81248933e+01j  0.66736038 -1.82405128e+01j\n",
      "  0.66735671 -1.83565132e+01j  0.66736510 -1.84726135e+01j\n",
      "  0.66736151 -1.85890906e+01j  0.66736980 -1.87056651e+01j\n",
      "  0.66736629 -1.88226125e+01j  0.66737446 -1.89396549e+01j\n",
      "  0.66737104 -1.90570661e+01j  0.66737910 -1.91745698e+01j\n",
      "  0.66737576 -1.92924382e+01j  0.66738371 -1.94103967e+01j\n",
      "  0.66738044 -1.95287158e+01j  0.66738829 -1.96471225e+01j\n",
      "  0.66738510 -1.97658858e+01j  0.66739284 -1.98847341e+01j\n",
      "  0.66738973 -2.00039349e+01j  0.66739737 -2.01232182e+01j\n",
      "  0.66739432 -2.02428500e+01j  0.66740186 -2.03625616e+01j\n",
      "  0.66739889 -2.04826177e+01j  0.66740633 -2.06027510e+01j\n",
      "  0.66740343 -2.07232246e+01j  0.66741076 -2.08437730e+01j\n",
      "  0.66740793 -2.09646575e+01j  0.66741517 -2.10856142e+01j\n",
      "  0.66741240 -2.12069029e+01j  0.66741955 -2.13282611e+01j\n",
      "  0.66741684 -2.14499473e+01j  0.66742390 -2.15717003e+01j\n",
      "  0.66742126 -2.16937771e+01j  0.66742822 -2.18159182e+01j\n",
      "  0.66742564 -2.19383789e+01j  0.66743251 -2.20609012e+01j\n",
      "  0.66742999 -2.21837390e+01j  0.66743677 -2.23066358e+01j\n",
      "  0.66743430 -2.24298437e+01j  0.66744100 -2.25531081e+01j\n",
      "  0.66743859 -2.26766795e+01j  0.66744520 -2.28003045e+01j\n",
      "  0.66744285 -2.29242324e+01j  0.66744938 -2.30482113e+01j\n",
      "  0.66744707 -2.31724888e+01j  0.66745352 -2.32968146e+01j\n",
      "  0.66745126 -2.34214348e+01j  0.66745763 -2.35461007e+01j\n",
      "  0.66745543 -2.36710566e+01j  0.66746171 -2.37960555e+01j\n",
      "  0.66745956 -2.39213403e+01j  0.66746577 -2.40466653e+01j\n",
      "  0.66746366 -2.41722720e+01j  0.66746979 -2.42979161e+01j\n",
      "  0.66746773 -2.44238376e+01j  0.66747378 -2.45497938e+01j\n",
      "  0.66747177 -2.46760232e+01j  0.66747775 -2.48022846e+01j\n",
      "  0.66747578 -2.49288147e+01j  0.66748168 -2.50553742e+01j\n",
      "  0.66747976 -2.51821981e+01j  0.66748559 -2.53090486e+01j\n",
      "  0.66748370 -2.54361593e+01j  0.66748946 -2.55632938e+01j\n",
      "  0.66748762 -2.56906841e+01j  0.66749331 -2.58180954e+01j\n",
      "  0.66749151 -2.59457584e+01j  0.66749713 -2.60734395e+01j\n",
      "  0.66749536 -2.62013678e+01j  0.66750091 -2.63293116e+01j\n",
      "  0.66749919 -2.64574983e+01j  0.66750467 -2.65856976e+01j\n",
      "  0.66750299 -2.67141356e+01j  0.66750840 -2.68425833e+01j\n",
      "  0.66750675 -2.69712653e+01j  0.66751210 -2.70999542e+01j\n",
      "  0.66751049 -2.72288731e+01j  0.66751578 -2.73577961e+01j\n",
      "  0.66751420 -2.74869447e+01j  0.66751942 -2.76160946e+01j\n",
      "  0.66751787 -2.77454658e+01j  0.66752303 -2.78748354e+01j\n",
      "  0.66752152 -2.80044218e+01j  0.66752662 -2.81340039e+01j\n",
      "  0.66752514 -2.82637985e+01j  0.66753018 -2.83935858e+01j\n",
      "  0.66752873 -2.85235813e+01j  0.66753371 -2.86535667e+01j\n",
      "  0.66753229 -2.87837558e+01j  0.66753721 -2.89139319e+01j\n",
      "  0.66753582 -2.90443074e+01j  0.66754068 -2.91746671e+01j\n",
      "  0.66753933 -2.93052218e+01j  0.66754413 -2.94357577e+01j\n",
      "  0.66754280 -2.95664842e+01j  0.66754755 -2.96971891e+01j\n",
      "  0.66754625 -2.98280803e+01j  0.66755094 -2.99589469e+01j\n",
      "  0.66754966 -3.00899953e+01j  0.66755430 -3.02210164e+01j\n",
      "  0.66755305 -3.03522148e+01j  0.66755764 -3.04833829e+01j\n",
      "  0.66755642 -3.06147241e+01j  0.66756094 -3.07460320e+01j\n",
      "  0.66755975 -3.08775085e+01j  0.66756423 -3.10089489e+01j\n",
      "  0.66756306 -3.11405535e+01j  0.66756748 -3.12721191e+01j\n",
      "  0.66756634 -3.14038444e+01j  0.66757071 -3.15355277e+01j\n",
      "  0.66756959 -3.16673665e+01j  0.66757391 -3.17991603e+01j\n",
      "  0.66757281 -3.19311051e+01j  0.66757709 -3.20630020e+01j\n",
      "  0.66757601 -3.21950455e+01j  0.66758024 -3.23270382e+01j\n",
      "  0.66757918 -3.24591731e+01j  0.66758336 -3.25912542e+01j\n",
      "  0.66758233 -3.27234731e+01j  0.66758646 -3.28556353e+01j\n",
      "  0.66758545 -3.29879307e+01j  0.66758953 -3.31201666e+01j\n",
      "  0.66758854 -3.32525313e+01j  0.66759257 -3.33848335e+01j\n",
      "  0.66759161 -3.35172601e+01j  0.66759559 -3.36496212e+01j\n",
      "  0.66759465 -3.37821023e+01j  0.66759859 -3.39145150e+01j\n",
      "  0.66759766 -3.40470433e+01j  0.66760156 -3.41795001e+01j\n",
      "  0.66760065 -3.43120681e+01j  0.66760451 -3.44445617e+01j\n",
      "  0.66760362 -3.45771621e+01j  0.66760743 -3.47096851e+01j\n",
      "  0.66760656 -3.48423104e+01j  0.66761032 -3.49748554e+01j\n",
      "  0.66760947 -3.51074984e+01j  0.66761320 -3.52400580e+01j\n",
      "  0.66761236 -3.53727111e+01j  0.66761605 -3.55052780e+01j\n",
      "  0.66761523 -3.56379339e+01j  0.66761887 -3.57705006e+01j\n",
      "  0.66761807 -3.59031520e+01j  0.66762167 -3.60357111e+01j\n",
      "  0.66762088 -3.61683505e+01j  0.66762445 -3.63008947e+01j\n",
      "  0.66762368 -3.64335147e+01j  0.66762720 -3.65660365e+01j\n",
      "  0.66762645 -3.66986298e+01j  0.66762993 -3.68311219e+01j\n",
      "  0.66762919 -3.69636810e+01j  0.66763264 -3.70961360e+01j\n",
      "  0.66763191 -3.72286536e+01j  0.66763532 -3.73610641e+01j\n",
      "  0.66763461 -3.74935327e+01j  0.66763798 -3.76258913e+01j\n",
      "  0.66763729 -3.77583037e+01j  0.66764062 -3.78906031e+01j\n",
      "  0.66763994 -3.80229518e+01j  0.66764324 -3.81551844e+01j\n",
      "  0.66764257 -3.82874621e+01j  0.66764583 -3.84196208e+01j\n",
      "  0.66764518 -3.85518200e+01j  0.66764841 -3.86838973e+01j\n",
      "  0.66764777 -3.88160107e+01j  0.66765096 -3.89479992e+01j\n",
      "  0.66765033 -3.90800196e+01j  0.66765349 -3.92119120e+01j\n",
      "  0.66765287 -3.93438318e+01j  0.66765600 -3.94756207e+01j\n",
      "  0.66765539 -3.96074326e+01j  0.66765848 -3.97391107e+01j\n",
      "  0.66765789 -3.98708075e+01j  0.66766095 -4.00023674e+01j\n",
      "  0.66766037 -4.01339416e+01j  0.66766339 -4.02653760e+01j\n",
      "  0.66766283 -4.03968204e+01j  0.66766582 -4.05281220e+01j\n",
      "  0.66766526 -4.06594291e+01j  0.66766822 -4.07905905e+01j\n",
      "  0.66766768 -4.09217532e+01j  0.66767060 -4.10527671e+01j\n",
      "  0.66767007 -4.11837780e+01j  0.66767297 -4.13146371e+01j\n",
      "  0.66767245 -4.14454888e+01j  0.66767531 -4.15761859e+01j\n",
      "  0.66767480 -4.17068712e+01j  0.66767763 -4.18373989e+01j\n",
      "  0.66767713 -4.19679105e+01j  0.66767994 -4.20982615e+01j\n",
      "  0.66767945 -4.22285922e+01j  0.66768222 -4.23587593e+01j\n",
      "  0.66768174 -4.24889017e+01j  0.66768449 -4.26188776e+01j\n",
      "  0.66768402 -4.27488245e+01j  0.66768674 -4.28786020e+01j\n",
      "  0.66768628 -4.30083462e+01j  0.66768896 -4.31379180e+01j\n",
      "  0.66768851 -4.32674523e+01j  0.66769117 -4.33968112e+01j\n",
      "  0.66769073 -4.35261283e+01j  0.66769337 -4.36552671e+01j\n",
      "  0.66769293 -4.37843598e+01j  0.66769554 -4.39132712e+01j\n",
      "  0.66769511 -4.40421323e+01j  0.66769769 -4.41708093e+01j\n",
      "  0.66769728 -4.42994317e+01j  0.66769983 -4.44278670e+01j\n",
      "  0.66769942 -4.45562434e+01j  0.66770195 -4.46844298e+01j\n",
      "  0.66770155 -4.48125531e+01j  0.66770405 -4.49404836e+01j\n",
      "  0.66770366 -4.50683467e+01j  0.66770614 -4.51960140e+01j\n",
      "  0.66770576 -4.53236098e+01j  0.66770821 -4.54510068e+01j\n",
      "  0.66770783 -4.55783281e+01j  0.66771026 -4.57054478e+01j\n",
      "  0.66770989 -4.58324875e+01j  0.66771229 -4.59593228e+01j\n",
      "  0.66771193 -4.60860739e+01j  0.66771431 -4.62126176e+01j\n",
      "  0.66771396 -4.63390730e+01j  0.66771631 -4.64653181e+01j\n",
      "  0.66771597 -4.65914707e+01j  0.66771830 -4.67174102e+01j\n",
      "  0.66771796 -4.68432531e+01j  0.66772027 -4.69688800e+01j\n",
      "  0.66771994 -4.70944060e+01j  0.66772222 -4.72197132e+01j\n",
      "  0.66772190 -4.73449155e+01j  0.66772416 -4.74698960e+01j\n",
      "  0.66772385 -4.75947675e+01j  0.66772609 -4.77194145e+01j\n",
      "  0.66772578 -4.78439482e+01j  0.66772800 -4.79682546e+01j\n",
      "  0.66772770 -4.80924437e+01j  0.66772989 -4.82164026e+01j\n",
      "  0.66772960 -4.83402401e+01j  0.66773177 -4.84638445e+01j\n",
      "  0.66773149 -4.85873235e+01j  0.66773364 -4.87105666e+01j\n",
      "  0.66773336 -4.88336803e+01j  0.66773549 -4.89565552e+01j\n",
      "  0.66773522 -4.90792966e+01j  0.66773733 -4.92017965e+01j\n",
      "  0.66773706 -4.93241589e+01j  0.66773916 -4.94462769e+01j\n",
      "  0.66773890 -4.95682533e+01j  0.66774097 -4.96899827e+01j\n",
      "  0.66774071 -4.98115664e+01j  0.66774277 -4.99329003e+01j\n",
      "  0.66774252 -5.00540846e+01j  0.66774455 -5.01750162e+01j\n",
      "  0.66774431 -5.02957942e+01j  0.66774633 -5.04163169e+01j\n",
      "  0.66774609 -5.05366820e+01j  0.66774809 -5.06567889e+01j\n",
      "  0.66774786 -5.07767344e+01j  0.66774984 -5.08964189e+01j\n",
      "  0.66774962 -5.10159380e+01j  0.66775158 -5.11351934e+01j\n",
      "  0.66775136 -5.12542795e+01j  0.66775330 -5.13730992e+01j\n",
      "  0.66775309 -5.14917457e+01j  0.66775502 -5.16101230e+01j\n",
      "  0.66775481 -5.17283232e+01j  0.66775672 -5.18462516e+01j\n",
      "  0.66775652 -5.19639990e+01j  0.66775842 -5.20814718e+01j\n",
      "  0.66775823 -5.21987598e+01j  0.66776010 -5.23157705e+01j\n",
      "  0.66775992 -5.24325926e+01j  0.66776177 -5.25491347e+01j\n",
      "  0.66776160 -5.26654843e+01j  0.66776344 -5.27815513e+01j\n",
      "  0.66776327 -5.28974220e+01j  0.66776509 -5.30130074e+01j\n",
      "  0.66776493 -5.31283927e+01j  0.66776674 -5.32434901e+01j\n",
      "  0.66776658 -5.33583836e+01j  0.66776838 -5.34729865e+01j\n",
      "  0.66776822 -5.35873818e+01j  0.66777001 -5.37014839e+01j\n",
      "  0.66776986 -5.38153746e+01j  0.66777163 -5.39289695e+01j\n",
      "  0.66777149 -5.40423493e+01j  0.66777325 -5.41554306e+01j\n",
      "  0.66777311 -5.42682931e+01j  0.66777485 -5.43808547e+01j\n",
      "  0.66777473 -5.44931936e+01j  0.66777645 -5.46052290e+01j\n",
      "  0.66777633 -5.47170382e+01j  0.66777805 -5.48285413e+01j\n",
      "  0.66777793 -5.49398144e+01j  0.66777964 -5.50507789e+01j\n",
      "  0.66777953 -5.51615098e+01j  0.66778122 -5.52719295e+01j\n",
      "  0.66778112 -5.53821121e+01j  0.66778280 -5.54919809e+01j\n",
      "  0.66778271 -5.56016089e+01j  0.66778438 -5.57109207e+01j\n",
      "  0.66778429 -5.58199881e+01j  0.66778595 -5.59287367e+01j\n",
      "  0.66778587 -5.60372374e+01j  0.66778752 -5.61454168e+01j\n",
      "  0.66778745 -5.62533447e+01j  0.66778909 -5.63609489e+01j\n",
      "  0.66778902 -5.64682981e+01j  0.66779065 -5.65753211e+01j\n",
      "  0.66779059 -5.66820855e+01j  0.66779221 -5.67885213e+01j\n",
      "  0.66779217 -5.68946951e+01j  0.66779378 -5.70005378e+01j\n",
      "  0.66779374 -5.71061150e+01j  0.66779534 -5.72113586e+01j\n",
      "  0.66779531 -5.73163333e+01j  0.66779690 -5.74209721e+01j\n",
      "  0.66779688 -5.75253385e+01j  0.66779847 -5.76293666e+01j\n",
      "  0.66779846 -5.77331189e+01j  0.66780004 -5.78365304e+01j\n",
      "  0.66780003 -5.79396629e+01j  0.66780161 -5.80424521e+01j\n",
      "  0.66780161 -5.81449589e+01j  0.66780318 -5.82471202e+01j\n",
      "  0.66780320 -5.83489957e+01j  0.66780476 -5.84505233e+01j\n",
      "  0.66780479 -5.85517617e+01j  0.66780635 -5.86526500e+01j\n",
      "  0.66780639 -5.87532458e+01j  0.66780794 -5.88534891e+01j\n",
      "  0.66780799 -5.89534367e+01j  0.66780954 -5.90530295e+01j\n",
      "  0.66780960 -5.91523233e+01j  0.66781115 -5.92512600e+01j\n",
      "  0.66781123 -5.93498945e+01j  0.66781278 -5.94481696e+01j\n",
      "  0.66781286 -5.95461393e+01j  0.66781441 -5.96437474e+01j\n",
      "  0.66781451 -5.97410469e+01j  0.66781606 -5.98379825e+01j\n",
      "  0.66781617 -5.99346063e+01j  0.66781772 -6.00308640e+01j\n",
      "  0.66781784 -6.01268067e+01j  0.66781939 -6.02223812e+01j\n",
      "  0.66781954 -6.03176376e+01j  0.66782109 -6.04125236e+01j\n",
      "  0.66782125 -6.05070884e+01j  0.66782281 -6.06012805e+01j\n",
      "  0.66782298 -6.06951484e+01j  0.66782454 -6.07886414e+01j\n",
      "  0.66782474 -6.08818072e+01j  0.66782630 -6.09745960e+01j\n",
      "  0.66782651 -6.10670545e+01j  0.66782809 -6.11591338e+01j\n",
      "  0.66782832 -6.12508799e+01j  0.66782990 -6.13422448e+01j\n",
      "  0.66783015 -6.14332733e+01j  0.66783174 -6.15239186e+01j\n",
      "  0.66783202 -6.16142246e+01j  0.66783362 -6.17041452e+01j\n",
      "  0.66783392 -6.17937237e+01j  0.66783553 -6.18829147e+01j\n",
      "  0.66783586 -6.19717606e+01j  0.66783748 -6.20602170e+01j\n",
      "  0.66783783 -6.21483254e+01j  0.66783947 -6.22360424e+01j\n",
      "  0.66783985 -6.23234085e+01j  0.66784151 -6.24103811e+01j\n",
      "  0.66784192 -6.24970000e+01j  0.66784359 -6.25832234e+01j\n",
      "  0.66784403 -6.26690904e+01j  0.66784573 -6.27545599e+01j\n",
      "  0.66784620 -6.28396701e+01j  0.66784792 -6.29243809e+01j\n",
      "  0.66784843 -6.30087297e+01j  0.66785018 -6.30926772e+01j\n",
      "  0.66785072 -6.31762599e+01j  0.66785250 -6.32594393e+01j\n",
      "  0.66785308 -6.33422513e+01j  0.66785489 -6.34246582e+01j\n",
      "  0.66785551 -6.35066949e+01j  0.66785735 -6.35883245e+01j\n",
      "  0.66785803 -6.36695815e+01j  0.66785990 -6.37504295e+01j\n",
      "  0.66786062 -6.38309021e+01j  0.66786254 -6.39109640e+01j\n",
      "  0.66786331 -6.39906479e+01j  0.66786527 -6.40699192e+01j\n",
      "  0.66786610 -6.41488100e+01j  0.66786811 -6.42272864e+01j\n",
      "  0.66786900 -6.43053798e+01j  0.66787106 -6.43830570e+01j\n",
      "  0.66787201 -6.44603486e+01j  0.66787413 -6.45372223e+01j\n",
      "  0.66787515 -6.46137080e+01j  0.66787732 -6.46897739e+01j\n",
      "  0.66787842 -6.47654494e+01j  0.66788066 -6.48407035e+01j\n",
      "  0.66788183 -6.49155647e+01j  0.66788415 -6.49900027e+01j\n",
      "  0.66788541 -6.50640455e+01j  0.66788781 -6.51376635e+01j\n",
      "  0.66788915 -6.52108838e+01j  0.66789164 -6.52836777e+01j\n",
      "  0.66789308 -6.53560716e+01j  0.66789566 -6.54280374e+01j\n",
      "  0.66789721 -6.54996009e+01j  0.66789989 -6.55707347e+01j\n",
      "  0.66790156 -6.56414639e+01j  0.66790435 -6.57117619e+01j\n",
      "  0.66790614 -6.57816531e+01j  0.66790905 -6.58511114e+01j\n",
      "  0.66791098 -6.59201606e+01j  0.66791402 -6.59887755e+01j\n",
      "  0.66791610 -6.60569792e+01j  0.66791928 -6.61247470e+01j\n",
      "  0.66792151 -6.61921014e+01j  0.66792486 -6.62590185e+01j\n",
      "  0.66792726 -6.63255200e+01j  0.66793077 -6.63915827e+01j\n",
      "  0.66793336 -6.64572278e+01j  0.66793706 -6.65224326e+01j\n",
      "  0.66793985 -6.65872178e+01j  0.66794376 -6.66515613e+01j\n",
      "  0.66794677 -6.67154832e+01j  0.66795090 -6.67789620e+01j\n",
      "  0.66795416 -6.68420171e+01j  0.66795853 -6.69046278e+01j\n",
      "  0.66796205 -6.69668129e+01j  0.66796670 -6.70285522e+01j\n",
      "  0.66797050 -6.70898641e+01j  0.66797545 -6.71507288e+01j\n",
      "  0.66797957 -6.72111642e+01j  0.66798483 -6.72711512e+01j\n",
      "  0.66798930 -6.73307071e+01j  0.66799493 -6.73898133e+01j\n",
      "  0.66799978 -6.74484866e+01j  0.66800579 -6.75067090e+01j\n",
      "  0.66801106 -6.75644967e+01j  0.66801751 -6.76218324e+01j\n",
      "  0.66802325 -6.76787316e+01j  0.66803018 -6.77351777e+01j\n",
      "  0.66803642 -6.77911857e+01j  0.66804388 -6.78467394e+01j\n",
      "  0.66805068 -6.79018534e+01j  0.66805873 -6.79565120e+01j\n",
      "  0.66806616 -6.80107294e+01j  0.66807486 -6.80644903e+01j\n",
      "  0.66808298 -6.81178085e+01j  0.66809240 -6.81706692e+01j\n",
      "  0.66810129 -6.82230857e+01j  0.66811152 -6.82750438e+01j\n",
      "  0.66812127 -6.83265562e+01j  0.66813239 -6.83776093e+01j\n",
      "  0.66814309 -6.84282154e+01j  0.66815521 -6.84783614e+01j\n",
      "  0.66816698 -6.85280590e+01j  0.66818022 -6.85772956e+01j\n",
      "  0.66819318 -6.86260827e+01j  0.66820768 -6.86744080e+01j\n",
      "  0.66822197 -6.87222826e+01j  0.66823788 -6.87696947e+01j\n",
      "  0.66825367 -6.88166550e+01j  0.66827117 -6.88631523e+01j\n",
      "  0.15057046 -7.09824814e+01j  0.15057156 -7.09824815e+01j\n",
      "  0.66828865 -6.89091966e+01j  0.66830793 -6.89547773e+01j\n",
      "  0.66832732 -6.89999042e+01j  0.66834862 -6.90445670e+01j\n",
      "  0.66837016 -6.90887751e+01j  0.66839374 -6.91325186e+01j\n",
      "  0.66841772 -6.91758067e+01j  0.66844390 -6.92186299e+01j\n",
      "  0.66847064 -6.92609970e+01j  0.66849977 -6.93028990e+01j\n",
      "  0.66852966 -6.93443443e+01j  0.66856214 -6.93853244e+01j\n",
      "  0.66859563 -6.94258473e+01j  0.66863194 -6.94659051e+01j\n",
      "  0.25800378 -7.09255388e+01j  0.25800484 -7.09255389e+01j\n",
      "  0.66866953 -6.95055055e+01j  0.66871024 -6.95446407e+01j\n",
      "  0.66875253 -6.95833184e+01j  0.66879828 -6.96215313e+01j\n",
      "  0.66884597 -6.96592865e+01j  0.66889751 -6.96965775e+01j\n",
      "  0.66895143 -6.97334109e+01j  0.66900963 -6.97697807e+01j\n",
      "  0.66907073 -6.98056934e+01j  0.34434679 -7.08822078e+01j\n",
      "  0.34434781 -7.08822079e+01j  0.66913665 -6.98411432e+01j\n",
      "  0.99292647 -7.10579289e+01j  0.66920604 -6.98761365e+01j\n",
      "  0.66928089 -6.99106680e+01j  0.97878574 -7.10437868e+01j\n",
      "  0.66935991 -6.99447438e+01j  0.96464642 -7.10296447e+01j\n",
      "  0.66944512 -6.99783591e+01j  0.66953531 -7.00115199e+01j\n",
      "  0.95050851 -7.10155025e+01j  0.41949142 -7.08465234e+01j\n",
      "  0.41949241 -7.08465235e+01j  0.66963257 -7.00442217e+01j\n",
      "  0.66973577 -7.00764704e+01j  0.93637200 -7.10013604e+01j\n",
      "  0.92223690 -7.09872183e+01j  0.66984707 -7.01082620e+01j\n",
      "  0.90810321 -7.09730761e+01j  0.89397093 -7.09589340e+01j\n",
      "  0.66996544 -7.01396024e+01j  0.87984005 -7.09447918e+01j\n",
      "  0.67009312 -7.01704878e+01j  0.86571058 -7.09306497e+01j\n",
      "  0.48727392 -7.08161612e+01j  0.48727487 -7.08161613e+01j\n",
      "  0.67022920 -7.02009242e+01j  0.67037604 -7.02309084e+01j\n",
      "  0.67053284 -7.02604461e+01j  0.67070208 -7.02895346e+01j\n",
      "  0.67088314 -7.03181798e+01j  0.85158252 -7.09165076e+01j\n",
      "  0.67107863 -7.03463795e+01j  0.83745587 -7.09023654e+01j\n",
      "  0.67128810 -7.03741395e+01j  0.82333063 -7.08882233e+01j\n",
      "  0.67151433 -7.04014581e+01j  0.80920680 -7.08740811e+01j\n",
      "  0.54970617 -7.07899040e+01j  0.54970524 -7.07899038e+01j\n",
      "  0.79508437 -7.08599390e+01j  0.78096336 -7.08457968e+01j\n",
      "  0.67175709 -7.04283412e+01j  0.67201935 -7.04547878e+01j\n",
      "  0.67230107 -7.04808039e+01j  0.67260546 -7.05063890e+01j\n",
      "  0.76684374 -7.08316547e+01j  0.67293281 -7.05315493e+01j\n",
      "  0.75272549 -7.08175126e+01j  0.67328651 -7.05562849e+01j\n",
      "  0.73860854 -7.08033710e+01j  0.67366700 -7.05806022e+01j\n",
      "  0.72449643 -7.07892330e+01j  0.67407802 -7.06045021e+01j\n",
      "  0.71042868 -7.07750884e+01j  0.60801753 -7.07670105e+01j\n",
      "  0.60801660 -7.07670097e+01j  0.67452050 -7.06279910e+01j\n",
      "  0.67499853 -7.06510701e+01j  0.67551643 -7.06737455e+01j\n",
      "  0.69652603 -7.07606316e+01j  0.67611664 -7.06960262e+01j\n",
      "  0.67709573 -7.07182035e+01j  0.68234734 -7.07429755e+01j\n",
      "  0.66240187 -7.07476635e+01j  0.66374684 -7.07459810e+01j]\n",
      "Execution time for N=844 is 8.761 seconds\n"
     ]
    },
    {
     "name": "stdout",
     "output_type": "stream",
     "text": [
      "Eigenvalues for N=1266 are: \n",
      "[ 0.23757583+0.00367406j  0.27726169-0.05099973j  0.96463231-0.03516729j\n",
      "  0.96464390-0.0351866j   0.93632225-0.06320154j  0.93635750-0.06325164j\n",
      "  0.90799557-0.09122287j  0.90806884-0.09131302j]\n",
      "[ 0.23757583 +3.67406081e-03j  0.27726169 -5.09997350e-02j\n",
      "  0.18998133 -1.82739074e-01j ...,  0.67257287 -1.59489224e+02j\n",
      "  0.67331120 -1.59538364e+02j  0.67292827 -1.59514005e+02j]\n",
      "Execution time for N=1266 is 30.682 seconds\n",
      "Eigenvalues for N=1898 are: \n",
      "[ 0.23754847+0.00371j     0.27722978-0.05094432j  0.96463154-0.03516728j\n",
      "  0.96464313-0.03518659j  0.93631908-0.06320152j  0.93635432-0.0632516j\n",
      "  0.90798863-0.0912228j   0.90806189-0.09131293j]\n",
      "[ 0.14871410-359.77843383j  0.14871432-359.77843384j\n",
      "  0.25625595-359.72146658j ...,  0.66695264 -82.78231923j\n",
      "  0.66695353 -82.53145546j  0.66695161 -82.2810062j ]\n",
      "Execution time for N=1898 is 100.574 seconds\n"
     ]
    }
   ],
   "source": [
    "Ns = numpy.array([250,375,563,844,1266,1898,2848])\n",
    "values = numpy.zeros((8,len(Ns))).astype(complex)\n",
    "\n",
    "Re = 10000\n",
    "alpha = 1\n",
    "\n",
    "for i in range(len(Ns)):\n",
    "    \n",
    "    start = time.time()\n",
    "    \n",
    "    [A,B] = buildAB_forward(Re, alpha, Ns[i])\n",
    "    [c,vecp] = scipy.linalg.eig(A,B)\n",
    "\n",
    "    print(\"Eigenvalues for N={:d} are: \".format(Ns[i]))\n",
    "    print(c[numpy.where((numpy.imag(c)>-0.1) & (numpy.imag(c)<0.5))])\n",
    "    print(c)\n",
    "    values[:,i] = c[numpy.where((numpy.imag(c)>-0.1) & (numpy.imag(c)<0.5))][:8]\n",
    "    \n",
    "    stop = time.time()\n",
    "    print(\"Execution time for N={:d} is {:.3f} seconds\".format(Ns[i],stop-start))\n",
    "\n",
    "print(\"Specific eigenvalue for each N: \")\n",
    "print(values)"
   ]
  },
  {
   "cell_type": "code",
   "execution_count": 11,
   "metadata": {},
   "outputs": [
    {
     "data": {
      "image/png": "[encoded data removed]",
      "text/plain": [
       "<matplotlib.figure.Figure at 0x7f20cf435c18>"
      ]
     },
     "metadata": {},
     "output_type": "display_data"
    }
   ],
   "source": [
    "pyplot.figure(figsize=(8,5));\n",
    "pyplot.plot(numpy.real(c),numpy.imag(c), '.', label='vps');\n",
    "indices = numpy.where(numpy.imag(c)>0)\n",
    "pyplot.plot(numpy.real(c[indices]),numpy.imag(c[indices]), '+', label=\"Im(c)>0\");\n",
    "pyplot.title('Valeurs propres');\n",
    "pyplot.xlabel('$Re(c)$');\n",
    "pyplot.ylabel('$Im(c)$');\n",
    "pyplot.legend(loc=1);\n",
    "pyplot.show()"
   ]
  },
  {
   "cell_type": "code",
   "execution_count": null,
   "metadata": {
    "collapsed": true
   },
   "outputs": [],
   "source": [
    "erreurs = numpy.zeros((8,len(Ns)))\n",
    "for i in range(8):\n",
    "    erreurs[i,:] = abs(numpy.imag(values[i,:]-values[i,-1]))\n",
    "print(erreurs)\n",
    "\n",
    "ordres = numpy.zeros((8,len(Ns)-2))\n",
    "for i in range(8):\n",
    "    ordres[i,:] = (numpy.log10(erreurs[i,1:-1])-numpy.log10(erreurs[i,:-2]))/(numpy.log10(Ns[1:-1])-numpy.log10(Ns[:-2]))\n",
    "print(ordres)"
   ]
  },
  {
   "cell_type": "code",
   "execution_count": 45,
   "metadata": {},
   "outputs": [
    {
     "data": {
      "image/png": "[encoded data removed]",
      "text/plain": [
       "<matplotlib.figure.Figure at 0x7f39bbd4eb70>"
      ]
     },
     "metadata": {},
     "output_type": "display_data"
    }
   ],
   "source": [
    "pyplot.figure(figsize=(8,6));\n",
    "for i in range(8):\n",
    "    pyplot.plot(numpy.log10(Ns[:-1]), numpy.log10(erreurs[i,:-1]), '.', label=\"{:d}\".format(i));\n",
    "pyplot.title('Convergence pour une valeur propre');\n",
    "pyplot.xlabel('$N$')\n",
    "pyplot.ylabel('Erreur sur Im(c)')\n",
    "pyplot.xlim([2,3.4])\n",
    "pyplot.grid(1,which='minor')\n",
    "pyplot.legend(loc=3)\n",
    "pyplot.show()"
   ]
  },
  {
   "cell_type": "code",
   "execution_count": 46,
   "metadata": {},
   "outputs": [
    {
     "data": {
      "image/png": "[encoded data removed]",
      "text/plain": [
       "<matplotlib.figure.Figure at 0x7f39bb746e80>"
      ]
     },
     "metadata": {},
     "output_type": "display_data"
    }
   ],
   "source": [
    "pyplot.figure(figsize=(8,6));\n",
    "for i in range(8):\n",
    "    pyplot.plot(Ns[:-3], ordres[i,:-1], '.', label=\"{:d}\".format(i));\n",
    "pyplot.title('Ordre pour une valeur propre');\n",
    "pyplot.xlabel('$N$')\n",
    "pyplot.ylabel('Ordre')\n",
    "pyplot.xlim([0,900])\n",
    "pyplot.grid(1,which='minor')\n",
    "pyplot.legend(loc=3)\n",
    "pyplot.show()"
   ]
  },
  {
   "cell_type": "markdown",
   "metadata": {},
   "source": [
    "Remarquons que le convergence semble plus régulière (voir graphique des erreurs) mais pas particulièrement plus rapide."
   ]
  },
  {
   "cell_type": "markdown",
   "metadata": {},
   "source": [
    "## Recherche des modes propres: diagramme de stabilité selon ($Re$, $\\alpha$)"
   ]
  },
  {
   "cell_type": "markdown",
   "metadata": {},
   "source": [
    "Dans cette section, nous établissons un diagramme indiquant quelles combinaisons des paramètres $(Re,\\alpha)$ sont instables. \n",
    "\n",
    "Commençons par calculer les vitesses dans modes propres pour plusieurs couples $(Re,\\alpha)$."
   ]
  },
  {
   "cell_type": "code",
   "execution_count": 11,
   "metadata": {},
   "outputs": [
    {
     "name": "stdout",
     "output_type": "stream",
     "text": [
      "loop 0 of 20\n",
      "loop 1 of 20\n",
      "loop 2 of 20\n",
      "loop 3 of 20\n",
      "loop 4 of 20\n",
      "loop 5 of 20\n",
      "loop 6 of 20\n",
      "loop 7 of 20\n",
      "loop 8 of 20\n",
      "loop 9 of 20\n",
      "loop 10 of 20\n",
      "loop 11 of 20\n",
      "loop 12 of 20\n",
      "loop 13 of 20\n",
      "loop 14 of 20\n",
      "loop 15 of 20\n",
      "loop 16 of 20\n",
      "loop 17 of 20\n",
      "loop 18 of 20\n",
      "loop 19 of 20\n"
     ]
    }
   ],
   "source": [
    "alpha = numpy.linspace(0.2,1.2,20)\n",
    "Re = numpy.linspace(100,50100,20)\n",
    "N = 200 # points de la grille avec bords\n",
    "\n",
    "c = numpy.zeros((len(Re),len(alpha),N-2)).astype(complex)\n",
    "#vecp = numpy.zeros((len(Re),len(alpha),N, N)).astype(complex)\n",
    "\n",
    "for i in range(len(Re)):\n",
    "    print(\"loop {:d} of {:d}\".format(i,len(Re)))\n",
    "    for j in range(len(alpha)):\n",
    "        [A,B] = buildAB(Re[i], alpha[j], N)\n",
    "        c[i,j,:] = scipy.linalg.eig(A,B)[0]"
   ]
  },
  {
   "cell_type": "markdown",
   "metadata": {},
   "source": [
    "Nous devons ensuite déterminer quels couples donnent des modes propres instables. Dans ce but, nous cherchons pour chaque couple $(Re,\\alpha)$ s'il possède au moins un mode dont la partie imaginaire $\\text{Im}(c)$ de sa vitesse de propagation (stockée dans la variable \"$c$\") est supérieure à $0$. Nous demandons aussi que $\\text{Im}(c)<0.5$ afin de ne pas compter les deux valeurs propres non-physiques situées dans la partie supérieure du plan complexe. Il nous faudra aussi vérifier que cette condition arbitraire n'élimine pas de valeurs propres physiques et est efficace pour éliminer les valeurs propres non physiques."
   ]
  },
  {
   "cell_type": "code",
   "execution_count": 12,
   "metadata": {
    "collapsed": true
   },
   "outputs": [],
   "source": [
    "instabilityMap = numpy.zeros((len(Re),len(alpha)))\n",
    "\n",
    "for i in range(len(Re)):\n",
    "    for j in range(len(alpha)):\n",
    "        cUnstable = c[i,j,numpy.where((numpy.imag(c[i,j,:])>0) & (numpy.imag(c[i,j,:])<0.3))[0]]\n",
    "        if len(cUnstable)!=0:\n",
    "            instabilityMap[i,j] = 1\n",
    "\n",
    "\n",
    "Res0 = numpy.empty((1))\n",
    "alphas0 = numpy.empty((1))\n",
    "Res1 = numpy.empty((1))\n",
    "alphas1 = numpy.empty((1))\n",
    "\n",
    "for i in range(len(Re)):\n",
    "    for j in range(len(alpha)):\n",
    "        if instabilityMap[i,j]==0:\n",
    "            Res0 = numpy.concatenate((Res0,[Re[i]]), axis=0)\n",
    "            alphas0 = numpy.concatenate((alphas0,[alpha[j]]), axis=0)\n",
    "        if instabilityMap[i,j]==1:\n",
    "            Res1 = numpy.concatenate((Res1,[Re[i]]), axis=0)\n",
    "            alphas1 = numpy.concatenate((alphas1,[alpha[j]]), axis=0)"
   ]
  },
  {
   "cell_type": "markdown",
   "metadata": {},
   "source": [
    "Construisons deux listes des valeurs propres de partie imaginaires positives classée selon notre seuil comme physiques et non-physiques."
   ]
  },
  {
   "cell_type": "code",
   "execution_count": 13,
   "metadata": {
    "collapsed": true
   },
   "outputs": [],
   "source": [
    "csUnstablePhysical = numpy.array([])\n",
    "csUnstableNonPhysical = numpy.array([])\n",
    "\n",
    "for i in range(len(Re)):\n",
    "    for j in range(len(alpha)):\n",
    "        cUnstablePhysical = c[i,j,numpy.where((numpy.imag(c[i,j,:])>0) & (numpy.imag(c[i,j,:])<0.3))[0]]\n",
    "        cUnstableNonPhysical = c[i,j,numpy.where((numpy.imag(c[i,j,:])>0) & (numpy.imag(c[i,j,:])>=0.3))[0]]\n",
    "        csUnstablePhysical = numpy.concatenate((csUnstablePhysical,cUnstablePhysical),axis=0)\n",
    "        csUnstableNonPhysical = numpy.concatenate((csUnstableNonPhysical,cUnstableNonPhysical),axis=0)"
   ]
  },
  {
   "cell_type": "code",
   "execution_count": 14,
   "metadata": {},
   "outputs": [
    {
     "data": {
      "image/png": "[encoded data removed]",
      "text/plain": [
       "<matplotlib.figure.Figure at 0x7f145400f668>"
      ]
     },
     "metadata": {},
     "output_type": "display_data"
    }
   ],
   "source": [
    "pyplot.figure(figsize=(8,6));\n",
    "pyplot.plot(numpy.real(csUnstablePhysical), numpy.imag(csUnstablePhysical), '.', label='Physique');\n",
    "pyplot.plot(numpy.real(csUnstableNonPhysical), numpy.imag(csUnstableNonPhysical), '.', label='Non Physique');\n",
    "pyplot.title('Valeurs propres instables');\n",
    "pyplot.xlabel('$Re(c)$')\n",
    "pyplot.ylabel('$Im(c)$')\n",
    "pyplot.ylim([-0.1,1])\n",
    "pyplot.legend(loc=1);\n",
    "pyplot.show()"
   ]
  },
  {
   "cell_type": "markdown",
   "metadata": {},
   "source": [
    "Nous remarquons sur le dernier graphique que le choix de seuil à $0.3$ convient bien pour différencier les valeurs propres physiques des non-physiques."
   ]
  },
  {
   "cell_type": "code",
   "execution_count": 15,
   "metadata": {},
   "outputs": [
    {
     "data": {
      "image/png": "[encoded data removed]",
      "text/plain": [
       "<matplotlib.figure.Figure at 0x7f144ea46160>"
      ]
     },
     "metadata": {},
     "output_type": "display_data"
    }
   ],
   "source": [
    "pyplot.figure(figsize=(8,6));\n",
    "pyplot.plot(Res0, alphas0, '.', label='Stable');\n",
    "pyplot.plot(Res1, alphas1, 'o', label='Instable');\n",
    "pyplot.title('Diagramme d\\'instabilité');\n",
    "pyplot.xlabel('$Re$')\n",
    "pyplot.ylabel('$alpha$')\n",
    "pyplot.xlim([Re[0], Re[-1]])\n",
    "pyplot.ylim([alpha[0], alpha[-1]])\n",
    "pyplot.legend(loc=3);\n",
    "pyplot.show()"
   ]
  },
  {
   "cell_type": "code",
   "execution_count": 16,
   "metadata": {},
   "outputs": [
    {
     "data": {
      "image/png": "[encoded data removed]",
      "text/plain": [
       "<matplotlib.figure.Figure at 0x7f145403de10>"
      ]
     },
     "metadata": {},
     "output_type": "display_data"
    }
   ],
   "source": [
    "pyplot.figure(figsize=(8,6))\n",
    "pyplot.contourf(Re,alpha,instabilityMap.T,1,cmap=cm.viridis)\n",
    "pyplot.xlabel('$Re$')\n",
    "pyplot.ylabel('$alpha$')\n",
    "pyplot.colorbar();\n",
    "pyplot.show()"
   ]
  },
  {
   "cell_type": "markdown",
   "metadata": {},
   "source": [
    "Encore une fois, les résultats obtenus correspondent à ceux obtenus pour le même problème dans $<$insérer référence criminale$>$\n",
    "$<$insérer image$>$"
   ]
  },
  {
   "cell_type": "markdown",
   "metadata": {},
   "source": [
    "## Modes symétriques et antisymétriques"
   ]
  },
  {
   "cell_type": "markdown",
   "metadata": {},
   "source": [
    "Dans cette section, nous vérifions que les modes instables sont uniquement des modes symétriques, c-à-d pour lesquels $v(y) = v(L-y)$. \n",
    "\n",
    "Il ne devrait effectivement pas exister de modes antisymétriques instables. En effet, un tel mode voit sa dérivée seconde de la vitesse s'annuler au centre, i.e. $D^2v = 0$. Par conséquent, l'équation d'Orr-Sommerfeld se réduit à \n",
    "\n",
    "$$ -(U-c)\\alpha^2 v - U''v = \\frac{1}{i Re} \\alpha^3 v $$\n",
    "\n",
    "La condition d'instabilité dans notre choix de signe est que $\\text{Im}(c)>0$. Prenons les parties imaginaires des deux membres:\n",
    "\n",
    "$$ \\text{Im}(LHS) = \\text{Im}(c)\\ \\text{Im}(v) $$\n",
    "$$ \\text{Im}(RHS) = \\text{Im}(-i)\\ \\text{Im}(v) $$\n",
    "\n",
    "Comme $\\text{Im}(c)>0$ et $\\text{Im}(-i)=-1$ , les deux termes ne peuvent être égaux et l'existance d'un mode antisymétrique instable contredit donc l'équation d'Orr-Sommerfeld."
   ]
  },
  {
   "cell_type": "code",
   "execution_count": 20,
   "metadata": {
    "collapsed": true
   },
   "outputs": [],
   "source": [
    "def checkIfSymmetric(vecp):\n",
    "    \"\"\" Vérifie la parité d'un mode propre\n",
    "   \n",
    "    Paramètres:\n",
    "    ----------\n",
    "    vecp    : Mode propre\n",
    "   \n",
    "    Renvoie \"true\" si le mode est symétrique et \"false\" sinon\n",
    "    \"\"\"\n",
    "    \n",
    "    N = len(vecp)\n",
    "    diffSym = vecp[int(N/4)]-vecp[-1-int(N/4)] # petit si mode symétrique\n",
    "    \n",
    "    return (abs(diffSym) <= abs(vecp[int(N/2)]))"
   ]
  },
  {
   "cell_type": "code",
   "execution_count": 24,
   "metadata": {
    "collapsed": true
   },
   "outputs": [],
   "source": [
    "def categoriseModes(c,vecp):\n",
    "    \"\"\" Trie les modes propres selon leur parité\n",
    "   \n",
    "    Paramètres:\n",
    "    ----------\n",
    "    c       : Vecteur contenant les valeurs propres\n",
    "    vecp    : Vecteur contenant les modes propres associé\n",
    "   \n",
    "    Renvoie:\n",
    "    --------\n",
    "    cSym        : Vecteur contenant les valeurs propres symétriques\n",
    "    cAntiSym    : Vecteur contenant les valeurs propres anti-symétriques\n",
    "    vecpSym     : Vecteur contenant les vecteur propres symétriques associés\n",
    "    vecpAntiSym : Vecteur contenant les vecteur propres anti-symétriques associés\n",
    "    \"\"\"\n",
    "    \n",
    "    N = len(vecp[:,0])\n",
    "    cSym = numpy.array([])\n",
    "    cAntisym = numpy.array([])\n",
    "    vecpSym = numpy.array([])\n",
    "    vecpAntisym = numpy.array([])\n",
    "    \n",
    "    for i in range(len(c)):\n",
    "        \n",
    "        if (checkIfSymmetric(vecp[:,i])):\n",
    "            cSym = numpy.append(cSym, c[i])\n",
    "            vecpSym = numpy.append(vecpSym, vecp[:,i])\n",
    "        else:\n",
    "            cAntisym = numpy.append(cAntisym, c[i])\n",
    "            vecpAntisym = numpy.append(vecpAntisym, vecp[:,i])\n",
    "    \n",
    "    return [cSym,cAntisym,vecpSym, vecpAntisym]"
   ]
  },
  {
   "cell_type": "code",
   "execution_count": 22,
   "metadata": {},
   "outputs": [
    {
     "ename": "TypeError",
     "evalue": "buildD2() missing 1 required positional argument: 'dy'",
     "output_type": "error",
     "traceback": [
      "\u001b[0;31m---------------------------------------------------------------------------\u001b[0m",
      "\u001b[0;31mTypeError\u001b[0m                                 Traceback (most recent call last)",
      "\u001b[0;32m<ipython-input-22-4435a956614a>\u001b[0m in \u001b[0;36m<module>\u001b[0;34m()\u001b[0m\n\u001b[1;32m      3\u001b[0m \u001b[0mN\u001b[0m \u001b[0;34m=\u001b[0m \u001b[0;36m200\u001b[0m\u001b[0;34m\u001b[0m\u001b[0m\n\u001b[1;32m      4\u001b[0m \u001b[0;34m\u001b[0m\u001b[0m\n\u001b[0;32m----> 5\u001b[0;31m \u001b[0;34m[\u001b[0m\u001b[0mA\u001b[0m\u001b[0;34m,\u001b[0m\u001b[0mB\u001b[0m\u001b[0;34m]\u001b[0m \u001b[0;34m=\u001b[0m \u001b[0mbuildAB\u001b[0m\u001b[0;34m(\u001b[0m\u001b[0mRe\u001b[0m\u001b[0;34m,\u001b[0m \u001b[0malpha\u001b[0m\u001b[0;34m,\u001b[0m \u001b[0mN\u001b[0m\u001b[0;34m)\u001b[0m\u001b[0;34m\u001b[0m\u001b[0m\n\u001b[0m\u001b[1;32m      6\u001b[0m \u001b[0;34m[\u001b[0m\u001b[0mc\u001b[0m\u001b[0;34m,\u001b[0m\u001b[0mvecp\u001b[0m\u001b[0;34m]\u001b[0m \u001b[0;34m=\u001b[0m \u001b[0mscipy\u001b[0m\u001b[0;34m.\u001b[0m\u001b[0mlinalg\u001b[0m\u001b[0;34m.\u001b[0m\u001b[0meig\u001b[0m\u001b[0;34m(\u001b[0m\u001b[0mA\u001b[0m\u001b[0;34m,\u001b[0m\u001b[0mB\u001b[0m\u001b[0;34m)\u001b[0m\u001b[0;34m\u001b[0m\u001b[0m\n\u001b[1;32m      7\u001b[0m \u001b[0;34m[\u001b[0m\u001b[0mcSym\u001b[0m\u001b[0;34m,\u001b[0m\u001b[0mcAntisym\u001b[0m\u001b[0;34m,\u001b[0m\u001b[0mvecpSymn\u001b[0m\u001b[0;34m,\u001b[0m \u001b[0mvecpAntisym\u001b[0m\u001b[0;34m]\u001b[0m \u001b[0;34m=\u001b[0m \u001b[0mcategoriseModes\u001b[0m\u001b[0;34m(\u001b[0m\u001b[0mc\u001b[0m\u001b[0;34m,\u001b[0m\u001b[0mvecp\u001b[0m\u001b[0;34m)\u001b[0m\u001b[0;34m\u001b[0m\u001b[0m\n",
      "\u001b[0;32m<ipython-input-5-5cecd8d7a70b>\u001b[0m in \u001b[0;36mbuildAB\u001b[0;34m(Re, alpha, N)\u001b[0m\n\u001b[1;32m     22\u001b[0m     \u001b[0mMalpha4\u001b[0m \u001b[0;34m=\u001b[0m \u001b[0malpha\u001b[0m\u001b[0;34m**\u001b[0m\u001b[0;36m4\u001b[0m \u001b[0;34m*\u001b[0m \u001b[0mscipy\u001b[0m\u001b[0;34m.\u001b[0m\u001b[0meye\u001b[0m\u001b[0;34m(\u001b[0m\u001b[0mN\u001b[0m\u001b[0;34m-\u001b[0m\u001b[0;36m2\u001b[0m\u001b[0;34m,\u001b[0m\u001b[0mN\u001b[0m\u001b[0;34m-\u001b[0m\u001b[0;36m2\u001b[0m\u001b[0;34m)\u001b[0m\u001b[0;34m\u001b[0m\u001b[0m\n\u001b[1;32m     23\u001b[0m \u001b[0;34m\u001b[0m\u001b[0m\n\u001b[0;32m---> 24\u001b[0;31m     \u001b[0mD2\u001b[0m \u001b[0;34m=\u001b[0m \u001b[0mbuildD2\u001b[0m\u001b[0;34m(\u001b[0m\u001b[0mN\u001b[0m\u001b[0;34m)\u001b[0m\u001b[0;34m\u001b[0m\u001b[0m\n\u001b[0m\u001b[1;32m     25\u001b[0m     \u001b[0mD4\u001b[0m \u001b[0;34m=\u001b[0m \u001b[0mbuildD4\u001b[0m\u001b[0;34m(\u001b[0m\u001b[0mN\u001b[0m\u001b[0;34m)\u001b[0m\u001b[0;34m\u001b[0m\u001b[0m\n\u001b[1;32m     26\u001b[0m \u001b[0;34m\u001b[0m\u001b[0m\n",
      "\u001b[0;31mTypeError\u001b[0m: buildD2() missing 1 required positional argument: 'dy'"
     ]
    }
   ],
   "source": [
    "alpha = 1\n",
    "Re = 10000\n",
    "N = 200\n",
    "\n",
    "[A,B] = buildAB(Re, alpha, N)\n",
    "[c,vecp] = scipy.linalg.eig(A,B)\n",
    "[cSym,cAntisym,vecpSymn, vecpAntisym] = categoriseModes(c,vecp)"
   ]
  },
  {
   "cell_type": "code",
   "execution_count": 20,
   "metadata": {},
   "outputs": [
    {
     "data": {
      "image/png": "[encoded data removed]",
      "text/plain": [
       "<matplotlib.figure.Figure at 0x7f144ea359e8>"
      ]
     },
     "metadata": {},
     "output_type": "display_data"
    },
    {
     "data": {
      "image/png": "[encoded data removed]",
      "text/plain": [
       "<matplotlib.figure.Figure at 0x7f145403d2b0>"
      ]
     },
     "metadata": {},
     "output_type": "display_data"
    },
    {
     "name": "stdout",
     "output_type": "stream",
     "text": [
      "(array([0, 1, 2]),)\n"
     ]
    }
   ],
   "source": [
    "y = scipy.linspace(-1,1,N)\n",
    "m = 2;\n",
    "\n",
    "pyplot.figure(figsize=(8,5));\n",
    "pyplot.plot(numpy.real(cSym),numpy.imag(cSym), 'o', label='vps sym');\n",
    "pyplot.plot(numpy.real(cAntisym),numpy.imag(cAntisym), 'o', label='vps antisym');\n",
    "indices = numpy.where(numpy.imag(c)>0)\n",
    "pyplot.plot(numpy.real(c[indices]),numpy.imag(c[indices]), '+', label=\"Im(c)>0\");\n",
    "pyplot.plot(numpy.real(c[m]),numpy.imag(c[m]), '+', label=\"vp #{:d}\".format(m));\n",
    "pyplot.title('Modes Symétriques / Antisymétriques');\n",
    "pyplot.xlabel('$Re(c)$');\n",
    "pyplot.ylabel('$Im(c)$');\n",
    "pyplot.ylim([-2,1])\n",
    "pyplot.legend(loc=3);\n",
    "pyplot.show()\n",
    "\n",
    "pyplot.figure(figsize=(8,5));\n",
    "pyplot.plot(y[1:-1],numpy.real(vecp[:,m]), '-', label='real');\n",
    "pyplot.plot(y[1:-1],numpy.imag(vecp[:,m]), '-', label='imag');\n",
    "pyplot.title(\"Vecteur propre #{:d}, c = {:.3f}\".format(m,c[m]));\n",
    "pyplot.xlabel('$y$');\n",
    "pyplot.ylabel('$v(y)$');\n",
    "pyplot.legend(loc=3);\n",
    "pyplot.show()\n",
    "\n",
    "print(indices)"
   ]
  },
  {
   "cell_type": "markdown",
   "metadata": {},
   "source": [
    "En répètant le test sur plusieurs couples (Re,alpha), on vérifie ainsi que ce sont bien les modes symétriques qui engendrent les instabilités"
   ]
  },
  {
   "cell_type": "code",
   "execution_count": 21,
   "metadata": {},
   "outputs": [
    {
     "name": "stdout",
     "output_type": "stream",
     "text": [
      "loop 1 of 20\n",
      "loop 2 of 20\n",
      "loop 3 of 20\n",
      "loop 4 of 20\n",
      "loop 5 of 20\n",
      "loop 6 of 20\n",
      "loop 7 of 20\n",
      "loop 8 of 20\n",
      "loop 9 of 20\n",
      "loop 10 of 20\n",
      "loop 11 of 20\n",
      "loop 12 of 20\n",
      "loop 13 of 20\n",
      "loop 14 of 20\n",
      "loop 15 of 20\n",
      "loop 16 of 20\n",
      "loop 17 of 20\n",
      "loop 18 of 20\n",
      "loop 19 of 20\n",
      "loop 20 of 20\n"
     ]
    }
   ],
   "source": [
    "alpha = numpy.linspace(0.2,1.2,20)\n",
    "Re = numpy.linspace(100,50100,20)\n",
    "N = 200\n",
    "\n",
    "c = numpy.zeros((len(Re),len(alpha),N-2)).astype(complex)\n",
    "vecp = numpy.zeros((len(Re),len(alpha),N,N-2)).astype(complex)\n",
    "\n",
    "for i in range(len(Re)):\n",
    "    print(\"loop {:d} of {:d}\".format(i+1,len(Re)))\n",
    "    for j in range(len(alpha)):\n",
    "        [A,B] = buildAB(Re[i], alpha[j], N)\n",
    "        c[i,j,:] = scipy.linalg.eig(A,B)[0]"
   ]
  },
  {
   "cell_type": "code",
   "execution_count": 22,
   "metadata": {
    "collapsed": true
   },
   "outputs": [],
   "source": [
    "instabilityMap = numpy.zeros((len(Re),len(alpha)))\n",
    "\n",
    "for i in range(len(Re)):\n",
    "    for j in range(len(alpha)):\n",
    "        cUnstable = c[i,j,numpy.where((numpy.imag(c[i,j,:])>0) & (numpy.imag(c[i,j,:])<0.3))]\n",
    "        vecpUnstable = vecp[i,j,:,numpy.where((numpy.imag(c[i,j,:])>0) & (numpy.imag(c[i,j,:])<0.3))]\n",
    "        if cUnstable:\n",
    "            if checkIfSymmetric(cUnstable[0,0], vecpUnstable[0,0]):\n",
    "                instabilityMap[i,j] = 1\n",
    "            else:\n",
    "                instabilityMap[i,j] = 2\n",
    "                             \n",
    "#print(instabilityMap)\n",
    "\n",
    "Res0 = numpy.empty((1))\n",
    "alphas0 = numpy.empty((1))\n",
    "Res1 = numpy.empty((1))\n",
    "alphas1 = numpy.empty((1))\n",
    "Res2 = numpy.empty((1))\n",
    "alphas2 = numpy.empty((1))\n",
    "\n",
    "for i in range(len(Re)):\n",
    "    for j in range(len(alpha)):\n",
    "        if instabilityMap[i,j]==0:\n",
    "            Res0 = numpy.concatenate((Res0,[Re[i]]), axis=0)\n",
    "            alphas0 = numpy.concatenate((alphas0,[alpha[j]]), axis=0)\n",
    "        if instabilityMap[i,j]==1:\n",
    "            Res1 = numpy.concatenate((Res1,[Re[i]]), axis=0)\n",
    "            alphas1 = numpy.concatenate((alphas1,[alpha[j]]), axis=0)\n",
    "        if instabilityMap[i,j]==2:\n",
    "            Res2 = numpy.concatenate((Res2,[Re[i]]), axis=0)\n",
    "            alphas2 = numpy.concatenate((alphas2,[alpha[j]]), axis=0)"
   ]
  },
  {
   "cell_type": "code",
   "execution_count": 23,
   "metadata": {},
   "outputs": [
    {
     "ename": "SyntaxError",
     "evalue": "EOL while scanning string literal (<ipython-input-23-de537f71ae7c>, line 5)",
     "output_type": "error",
     "traceback": [
      "\u001b[0;36m  File \u001b[0;32m\"<ipython-input-23-de537f71ae7c>\"\u001b[0;36m, line \u001b[0;32m5\u001b[0m\n\u001b[0;31m    pyplot.title('Diagramme d\\'instabilité);\u001b[0m\n\u001b[0m                                            ^\u001b[0m\n\u001b[0;31mSyntaxError\u001b[0m\u001b[0;31m:\u001b[0m EOL while scanning string literal\n"
     ]
    }
   ],
   "source": [
    "pyplot.figure(figsize=(8,6));\n",
    "pyplot.plot(Res0, alphas0, '.', label='Stable');\n",
    "pyplot.plot(Res1, alphas1, 'o', label='Instable, Sym');\n",
    "pyplot.plot(Res2, alphas2, 'o', label='Instable, Antisym');\n",
    "pyplot.title('Diagramme d\\'instabilité');\n",
    "pyplot.xlabel('$Re$')\n",
    "pyplot.ylabel('$alpha$')\n",
    "pyplot.xlim([Re[0], Re[-1]])\n",
    "pyplot.ylim([alpha[0], alpha[-1]])\n",
    "pyplot.legend(loc=3);\n",
    "pyplot.show()"
   ]
  },
  {
   "cell_type": "markdown",
   "metadata": {},
   "source": [
    "## Conclusions "
   ]
  },
  {
   "cell_type": "markdown",
   "metadata": {},
   "source": []
  }
 ],
 "metadata": {
  "kernelspec": {
   "display_name": "Python 3",
   "language": "python",
   "name": "python3"
  },
  "language_info": {
   "codemirror_mode": {
    "name": "ipython",
    "version": 3
   },
   "file_extension": ".py",
   "mimetype": "text/x-python",
   "name": "python",
   "nbconvert_exporter": "python",
   "pygments_lexer": "ipython3",
   "version": "3.6.2"
  }
 },
 "nbformat": 4,
 "nbformat_minor": 2
}
