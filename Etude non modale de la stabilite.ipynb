{
 "cells": [
  {
   "cell_type": "markdown",
   "metadata": {},
   "source": [
    "# Approche non modale de la stabilité dans un écoulement de Poiseuille"
   ]
  },
  {
   "cell_type": "markdown",
   "metadata": {},
   "source": [
    "## Introduction et motivation"
   ]
  },
  {
   "cell_type": "markdown",
   "metadata": {},
   "source": [
    "Dans les notebooks précédents, nous avions étudié l'équation d'Orr-Sommerfeld que nous avions discrétisée et ramenée à un problème aux valeurs propres généralisé $A\\hat v = Bc \\hat v$ en considérant des modes propres de la forme $\\hat v = v(y)\\, e^{i\\alpha (x-ct)}$.\n",
    " \n",
    "Nous pouvons ramener ce problème aux valeurs propres à une équation d'évolution pour les modes propres. En effet, nous observons que\n",
    "\n",
    "$$ \\partial_t \\hat v = -i\\alpha c \\hat v   \\qquad   B^{-1}A \\hat v = c \\hat v $$\n",
    "\n",
    "Et donc \n",
    "\n",
    "$$ \\partial_t \\hat v = M \\hat v   \\qquad M = -i\\alpha B^{-1}A$$\n",
    "\n",
    "Dans le notebook précédant, nous avions discuté de la stabilité de l'écoulement en observant la partie imaginaire des valeurs propres de l'opérateur $M$. Dans ce notebook, nous allons effectuer une analyse plus détaillée de l'évolution des perturbations. Nous nous limiterons plus à étudier le comportement des modes propres, car une telle analyse est incomplète étant donné la nature non linéaire des équations de Navier-Stokes. \n",
    "\n",
    "L'inconvénient de l'étude modale de la stabilité vient de la non orthogonalité des vecteurs propres de l'opérateur $M$. En effet, la matrice $M$ n'est pas hermitienne et il est donc possible que ces vecteurs propres soient non orthogonaux. Cela a pour conséquence qu'une combinaison linéaire de deux vecteurs propres, i.e. dont la norme diminue dans le temps, peut voir sa norme grandir avec le temps, pendant un temps fini. Le problème posé par cette croissance temporaire de certaines perturbations est que si celle-ci devient trop importante, l'approximation linéaire des équation de Navier-Stokes sur laquelle repose l'équation d'Orr-Sommerfeld n'est plus valable et la perturbation considérée, composée que de mode stables *selon l'équation d'Orr-Sommerfeld*, pourrait devenir instable.\n",
    "\n",
    "Il est donc nécessaire de déterminer quelles sont les croissances maximales que l'on peut obtenir avec des combinaisons linéaires des modes stables afin de vérifier si celles-ci ne sont pas trop grandes pour engendrer des instablilités. Ce travail s'effectue typiquement par une décomposition en valeurs singulières (svd), qui va chercher l'élongaltion et la direction d'élongation maximale de la boule unité sous une transformation linéaire."
   ]
  },
  {
   "cell_type": "markdown",
   "metadata": {},
   "source": [
    "## Implémentation et test de la svd"
   ]
  },
  {
   "cell_type": "code",
   "execution_count": 1,
   "metadata": {
    "collapsed": true
   },
   "outputs": [],
   "source": [
    "import numpy,scipy,scipy.linalg,time\n",
    "import matplotlib.pyplot as pyplot\n",
    "from matplotlib import rcParams, cm\n",
    "rcParams['font.family'] = 'serif'\n",
    "rcParams['font.size'] = 16"
   ]
  },
  {
   "cell_type": "markdown",
   "metadata": {},
   "source": [
    "Importons les fonctions que nous avons défini afin de construire les opérateurs nécessaires."
   ]
  },
  {
   "cell_type": "code",
   "execution_count": 2,
   "metadata": {
    "collapsed": true
   },
   "outputs": [],
   "source": [
    "import operateurs"
   ]
  },
  {
   "cell_type": "code",
   "execution_count": 3,
   "metadata": {},
   "outputs": [],
   "source": [
    "N = 401 \n",
    "alpha = 0.6\n",
    "Re = 10000\n",
    "t = 1\n",
    "\n",
    "[A,B] = operateurs.buildAB_forward(Re, alpha, N)"
   ]
  },
  {
   "cell_type": "markdown",
   "metadata": {},
   "source": [
    "Calculons l'exponentielle $e^{Mt}$ à partir de la décomposition en valeurs et vecteurs propres de M."
   ]
  },
  {
   "cell_type": "code",
   "execution_count": 4,
   "metadata": {},
   "outputs": [
    {
     "name": "stdout",
     "output_type": "stream",
     "text": [
      "2.849517345428467\n",
      "[[-0.04796193+0.00102805j  0.00146956+0.00067164j]\n",
      " [-0.10054344+0.00208506j -0.00372828+0.00150026j]]\n"
     ]
    }
   ],
   "source": [
    "start = time.time()\n",
    "\n",
    "[c,vecp] = scipy.linalg.eig(A,B)\n",
    "c = -1j*alpha*c # pour avoir les valeurs propres de M = -i*alpha*B^-1*A\n",
    "vecp_inv = numpy.linalg.inv(vecp)\n",
    "\n",
    "D = scipy.eye(N-4) * numpy.exp(c*t)\n",
    "expMt = numpy.dot( numpy.dot( vecp , D) , vecp_inv )\n",
    "\n",
    "print(time.time()-start)\n",
    "print(expMt[:2,:2])"
   ]
  },
  {
   "cell_type": "markdown",
   "metadata": {},
   "source": [
    "Vérifions le calcul de l'exponentielle avec sa série de Taylor. Cette vérification ne fonctionne que pour des temps suffisament petits. Autrement, la série ne converge pas assez vite. <Notons que cette méthode n'est pas utile pour calculer précisément l'exponentielle d'une matrice à cause du fait qu'elle requiert la manipulation de très petits (ou très grands) nombres par la présence de la factorielle.>"
   ]
  },
  {
   "cell_type": "code",
   "execution_count": 5,
   "metadata": {},
   "outputs": [],
   "source": [
    "#expMt_taylor = scipy.eye(N)\n",
    "#Mit = scipy.eye(N)\n",
    "#\n",
    "#for i in range(1,10):\n",
    "#    \n",
    "#    Mit = numpy.dot(Mit,M)*t\n",
    "#    expMt_taylor = expMt_taylor + 1/numpy.math.factorial(i)*Mit\n",
    "#    \n",
    "#print(expMt_taylor[:2,:2])"
   ]
  },
  {
   "cell_type": "markdown",
   "metadata": {},
   "source": [
    "Nous faisons ensuite le calcul de la svd"
   ]
  },
  {
   "cell_type": "code",
   "execution_count": 6,
   "metadata": {},
   "outputs": [
    {
     "name": "stdout",
     "output_type": "stream",
     "text": [
      "[ 5.27193368  3.1653444   1.18171657  1.14802061  1.06273988]\n"
     ]
    }
   ],
   "source": [
    "u,s,v = scipy.linalg.svd(expMt)\n",
    "print(s[:5])"
   ]
  },
  {
   "cell_type": "markdown",
   "metadata": {},
   "source": [
    "Nous implémentons le calcul de la svd pour plusieurs points de temps dans des fichiers séparés que nous importons dans la suite de ce notebook."
   ]
  },
  {
   "cell_type": "code",
   "execution_count": 7,
   "metadata": {
    "collapsed": true
   },
   "outputs": [],
   "source": [
    "import svd"
   ]
  },
  {
   "cell_type": "code",
   "execution_count": 8,
   "metadata": {
    "scrolled": false
   },
   "outputs": [
    {
     "name": "stdout",
     "output_type": "stream",
     "text": [
      "Il n'y a pas de modes instables ni stationnaires\n",
      "Temps d'exécution: 13.618 secondes\n",
      "Valeurs singulières: \n",
      "[  1.           3.40263281   5.09059293   7.64281806  10.88948331\n",
      "  14.62445072  18.52886516  22.20956509  25.2578858   27.31530489\n",
      "  28.13541109  27.62960704  25.88561922  23.15352249  19.80168833\n",
      "  16.25219686  12.90901457  10.0896857    7.96188161   6.49428784\n",
      "   5.4943794    4.75793249   4.16842945   3.68073307   3.27333673\n",
      "   2.92532697   2.61814398   2.34136742   2.09156957   1.86734053]\n"
     ]
    }
   ],
   "source": [
    "N = 401\n",
    "alpha = 0.6\n",
    "Re = 10000\n",
    "t_vec = numpy.linspace(0,100,30)\n",
    "\n",
    "[A,B] = operateurs.buildAB(Re, alpha, N)\n",
    "#M = -1j*alpha*numpy.dot(numpy.linalg.inv(B), A)\n",
    "\n",
    "start = time.time()\n",
    "s = svd.svd_scipy_exp_eig_A_B(A, B, alpha, t_vec)\n",
    "print(\"Temps d'exécution: {:.3f} secondes\".format(time.time()-start))\n",
    "\n",
    "# valeurs singulières max pour chaque t\n",
    "print(\"Valeurs singulières: \")\n",
    "print(s[:,1])"
   ]
  },
  {
   "cell_type": "code",
   "execution_count": 9,
   "metadata": {},
   "outputs": [
    {
     "data": {
      "image/png": "[encoded data removed]",
      "text/plain": [
       "<matplotlib.figure.Figure at 0x7fd3deaf1860>"
      ]
     },
     "metadata": {},
     "output_type": "display_data"
    }
   ],
   "source": [
    "pyplot.figure(figsize=(8,6));\n",
    "pyplot.plot(t_vec, s[:,1], '.');\n",
    "pyplot.title('Valeur singulière maximale\\n au cours du temps');\n",
    "pyplot.xlabel('$t$');\n",
    "pyplot.ylabel('Valeur singulière maximale');\n",
    "pyplot.legend(loc=1);\n",
    "pyplot.grid();\n",
    "pyplot.show();"
   ]
  },
  {
   "cell_type": "markdown",
   "metadata": {},
   "source": [
    "Nous évitons de calculer l'exponentielle de $M$ à partir de sa décomposition en modes propres car cette dernière n'est pas correctement réalisée par l'ordinateur, probablement à cause de l'inversion de la matrice $B$ qui comporte des nombres très petits. Les décompositions respectives avec $M$ d'une part et $A,B$ de l'autre sont réalisées ci-dessous."
   ]
  },
  {
   "cell_type": "code",
   "execution_count": 10,
   "metadata": {},
   "outputs": [
    {
     "data": {
      "image/png": "[encoded data removed]",
      "text/plain": [
       "<matplotlib.figure.Figure at 0x7fd3d3107860>"
      ]
     },
     "metadata": {},
     "output_type": "display_data"
    },
    {
     "data": {
      "image/png": "[encoded data removed]",
      "text/plain": [
       "<matplotlib.figure.Figure at 0x7fd3d30bee80>"
      ]
     },
     "metadata": {},
     "output_type": "display_data"
    }
   ],
   "source": [
    "N = 401\n",
    "alpha = 0.6\n",
    "Re = 10000\n",
    "t_vec = numpy.linspace(0,0.5,10)\n",
    "\n",
    "[A,B] = operateurs.buildAB(Re, alpha, N)\n",
    "M = numpy.dot(numpy.linalg.inv(B), A) \n",
    "\n",
    "# Décomposition en valeur et vecteur propres avec A et B\n",
    "[c,vecp] = scipy.linalg.eig(A,B)\n",
    "\n",
    "pyplot.figure(figsize=(8,6));\n",
    "pyplot.plot(numpy.real(c), numpy.imag(c), '.');\n",
    "pyplot.title('valeurs propres avec A et B');\n",
    "pyplot.xlabel('Re(c)');\n",
    "pyplot.ylabel('Im(c)');\n",
    "pyplot.legend(loc=1);\n",
    "pyplot.grid();\n",
    "pyplot.show();\n",
    "\n",
    "# Décomposition en valeur et vecteur propres de M\n",
    "[c,vecp] = scipy.linalg.eig(M)\n",
    "\n",
    "pyplot.figure(figsize=(8,6));\n",
    "pyplot.plot(numpy.real(c), numpy.imag(c), '.');\n",
    "pyplot.title('valeurs propres avec M');\n",
    "pyplot.xlabel('Re(c)');\n",
    "pyplot.ylabel('Im(c)');\n",
    "pyplot.legend(loc=1);\n",
    "pyplot.grid();\n",
    "pyplot.show();"
   ]
  },
  {
   "cell_type": "code",
   "execution_count": null,
   "metadata": {
    "collapsed": true
   },
   "outputs": [],
   "source": []
  }
 ],
 "metadata": {
  "kernelspec": {
   "display_name": "Python 3",
   "language": "python",
   "name": "python3"
  },
  "language_info": {
   "codemirror_mode": {
    "name": "ipython",
    "version": 3
   },
   "file_extension": ".py",
   "mimetype": "text/x-python",
   "name": "python",
   "nbconvert_exporter": "python",
   "pygments_lexer": "ipython3",
   "version": "3.6.2"
  }
 },
 "nbformat": 4,
 "nbformat_minor": 2
}
