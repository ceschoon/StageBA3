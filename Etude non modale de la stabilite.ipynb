{
 "cells": [
  {
   "cell_type": "markdown",
   "metadata": {},
   "source": [
    "# Approche non modale de la stabilité dans un écoulement de Poiseuille"
   ]
  },
  {
   "cell_type": "markdown",
   "metadata": {},
   "source": [
    "## Table des matières"
   ]
  },
  {
   "cell_type": "markdown",
   "metadata": {},
   "source": [
    "- Introduction et motivation\n",
    "- Implémentation et test de la svd de $e^{Mt}$, calculée à partir des modes propres de $M$\n",
    "    - Commençons par implémenter la svd pour un instant $t$ fixé \n",
    "    - Test de la svd sur un intervalle de temps\n",
    "    - Soucis avec l'emploi de la matrice $M$\n",
    "- Calcul détaillé de l'augmentation maximale pour un (Re,$\\alpha$) donné\n",
    "    - Efficacité de la stratégie de division récursive pour la recherche d'un maximum\n",
    "- Implémentation et test de la svd de $e^{Mt}$, calculée avec Runge et Kutta\n",
    "    - Implémentation du calcul de l'exponentielle\n",
    "    - Test de la svd"
   ]
  },
  {
   "cell_type": "markdown",
   "metadata": {},
   "source": [
    "## Introduction et motivation"
   ]
  },
  {
   "cell_type": "markdown",
   "metadata": {},
   "source": [
    "Dans les notebooks précédents, nous avions étudié l'équation d'Orr-Sommerfeld que nous avions discrétisée et ramenée à un problème aux valeurs propres généralisé $A\\hat v = Bc \\hat v$ en considérant des modes propres de la forme $\\hat v = v(y)\\, e^{i\\alpha (x-ct)}$.\n",
    " \n",
    "Nous pouvons ramener ce problème aux valeurs propres à une équation d'évolution pour les modes propres. En effet, nous observons que\n",
    "\n",
    "$$ \\partial_t \\hat v = -i\\alpha c \\hat v   \\qquad   B^{-1}A \\hat v = c \\hat v $$\n",
    "\n",
    "Et donc \n",
    "\n",
    "$$ \\partial_t \\hat v = M \\hat v   \\qquad M = -i\\alpha B^{-1}A$$\n",
    "\n",
    "Dans le notebook précédant, nous avions discuté de la stabilité de l'écoulement en observant la partie imaginaire des valeurs propres de l'opérateur $M$. Dans ce notebook, nous allons effectuer une analyse plus détaillée de l'évolution des perturbations. Nous nous limiterons plus à étudier le comportement des modes propres, car une telle analyse est incomplète étant donné la nature non linéaire des équations de Navier-Stokes. \n",
    "\n",
    "L'inconvénient de l'étude modale de la stabilité vient de la non orthogonalité des vecteurs propres de l'opérateur $M$. En effet, la matrice $M$ n'est pas hermitienne et il est donc possible que ces vecteurs propres soient non orthogonaux. Cela a pour conséquence qu'une combinaison linéaire de deux vecteurs propres, i.e. dont la norme diminue dans le temps, peut voir sa norme grandir avec le temps, pendant un temps fini. Le problème posé par cette croissance temporaire de certaines perturbations est que si celle-ci devient trop importante, l'approximation linéaire des équation de Navier-Stokes sur laquelle repose l'équation d'Orr-Sommerfeld n'est plus valable et la perturbation considérée, composée que de mode stables *selon l'équation d'Orr-Sommerfeld*, pourrait devenir instable.\n",
    "\n",
    "Il est donc nécessaire de déterminer quelles sont les croissances maximales que l'on peut obtenir avec des combinaisons linéaires des modes stables afin de vérifier si celles-ci ne sont pas trop grandes pour engendrer des instablilités. Ce travail s'effectue typiquement par une décomposition en valeurs singulières (svd), qui va chercher l'élongaltion et la direction d'élongation maximale de la boule unité sous une transformation linéaire."
   ]
  },
  {
   "cell_type": "markdown",
   "metadata": {},
   "source": [
    "## Implémentation et test de la svd de $e^{Mt}$, calculée à partir des modes propres de $M$"
   ]
  },
  {
   "cell_type": "markdown",
   "metadata": {},
   "source": [
    "### Commençons par implémenter la svd pour un instant $t$ fixé "
   ]
  },
  {
   "cell_type": "code",
   "execution_count": 1,
   "metadata": {
    "collapsed": true
   },
   "outputs": [],
   "source": [
    "import numpy,scipy,scipy.linalg,time\n",
    "import matplotlib.pyplot as pyplot\n",
    "from matplotlib import rcParams, cm\n",
    "rcParams['font.family'] = 'serif'\n",
    "rcParams['font.size'] = 16"
   ]
  },
  {
   "cell_type": "markdown",
   "metadata": {},
   "source": [
    "Importons les fonctions que nous avons défini afin de construire les opérateurs nécessaires."
   ]
  },
  {
   "cell_type": "code",
   "execution_count": 2,
   "metadata": {
    "collapsed": true
   },
   "outputs": [],
   "source": [
    "import operateurs"
   ]
  },
  {
   "cell_type": "code",
   "execution_count": 3,
   "metadata": {
    "collapsed": true
   },
   "outputs": [],
   "source": [
    "N = 401 \n",
    "alpha = 0.6\n",
    "Re = 10000\n",
    "t = 1\n",
    "\n",
    "[A,B] = operateurs.buildAB_forward(Re, alpha, N)"
   ]
  },
  {
   "cell_type": "markdown",
   "metadata": {},
   "source": [
    "Calculons l'exponentielle $e^{Mt}$ à partir de la décomposition en valeurs et vecteurs propres de M."
   ]
  },
  {
   "cell_type": "code",
   "execution_count": 4,
   "metadata": {
    "collapsed": true
   },
   "outputs": [],
   "source": [
    "def expMt_modes(A,B,alpha,t):\n",
    "\n",
    "    [c,vecp] = scipy.linalg.eig(A,B)\n",
    "    c = -1j*alpha*c # pour avoir les valeurs propres de M = -i*alpha*B^-1*A\n",
    "    vecp_inv = numpy.linalg.inv(vecp)\n",
    "\n",
    "    D = scipy.eye(N-4) * numpy.exp(c*t)\n",
    "    return numpy.dot( numpy.dot( vecp , D) , vecp_inv )"
   ]
  },
  {
   "cell_type": "code",
   "execution_count": 5,
   "metadata": {},
   "outputs": [
    {
     "name": "stdout",
     "output_type": "stream",
     "text": [
      "1.4138829708099365\n",
      "[[-0.04796193+0.00102805j  0.00146956+0.00067164j]\n",
      " [-0.10054344+0.00208506j -0.00372828+0.00150026j]]\n"
     ]
    }
   ],
   "source": [
    "start = time.time()\n",
    "\n",
    "expMt = expMt_modes(A,B,alpha,t)\n",
    "\n",
    "print(time.time()-start)\n",
    "print(expMt[:2,:2])"
   ]
  },
  {
   "cell_type": "markdown",
   "metadata": {},
   "source": [
    "Nous faisons ensuite le calcul de la svd"
   ]
  },
  {
   "cell_type": "code",
   "execution_count": 6,
   "metadata": {},
   "outputs": [
    {
     "name": "stdout",
     "output_type": "stream",
     "text": [
      "[ 5.27193368  3.1653444   1.18171657  1.14802061  1.06273988]\n"
     ]
    }
   ],
   "source": [
    "u,s,v = scipy.linalg.svd(expMt)\n",
    "print(s[:5])"
   ]
  },
  {
   "cell_type": "markdown",
   "metadata": {},
   "source": [
    "### Test de la svd sur un intervalle de temps"
   ]
  },
  {
   "cell_type": "markdown",
   "metadata": {},
   "source": [
    "Nous implémentons le calcul de la svd pour plusieurs points de temps dans des fichiers séparés que nous importons ci-dessous."
   ]
  },
  {
   "cell_type": "code",
   "execution_count": 7,
   "metadata": {
    "collapsed": true
   },
   "outputs": [],
   "source": [
    "import svd"
   ]
  },
  {
   "cell_type": "code",
   "execution_count": 8,
   "metadata": {
    "scrolled": false
   },
   "outputs": [
    {
     "name": "stdout",
     "output_type": "stream",
     "text": [
      "Il n'y a pas de modes instables ni stationnaires\n",
      "Temps d'exécution: 7.238 secondes\n",
      "Valeurs singulières: \n",
      "[  1.           3.06204846   3.58970773   4.59748173   5.91593205\n",
      "   7.50431125   9.33743158  11.37950719  13.57949592  15.87226814\n",
      "  18.18166593  20.42441655  22.51458311  24.36835428  25.90893431\n",
      "  27.07123188  27.80600963  28.08316084  27.893827    27.25115486\n",
      "  26.18960288  24.76283156  23.04033552  21.10308204  19.0384972\n",
      "  16.93517243  14.8776352   12.941418    11.18845441   9.6625917\n",
      "   8.38510057   7.35130253   6.53176912   5.88128281   5.35268489\n",
      "   4.90783221   4.52135961   4.17883487   3.87270365   3.59844143\n",
      "   3.35206822   3.12924341   2.92550293   2.73692525   2.56064159\n",
      "   2.39493954   2.23900506   2.09249692   1.95515943   1.82660388]\n"
     ]
    }
   ],
   "source": [
    "N = 401\n",
    "alpha = 0.6\n",
    "Re = 10000\n",
    "t_vec = numpy.linspace(0,100,50)\n",
    "\n",
    "[A,B] = operateurs.buildAB_forward(Re, alpha, N)\n",
    "\n",
    "start = time.time()\n",
    "s = svd.svd_scipy_exp_eig_A_B(A, B, alpha, t_vec, False)\n",
    "print(\"Temps d'exécution: {:.3f} secondes\".format(time.time()-start))\n",
    "\n",
    "# valeurs singulières max pour chaque t\n",
    "print(\"Valeurs singulières: \")\n",
    "print(s[:,1])"
   ]
  },
  {
   "cell_type": "code",
   "execution_count": 9,
   "metadata": {},
   "outputs": [
    {
     "data": {
      "image/png": "[encoded data removed]",
      "text/plain": [
       "<matplotlib.figure.Figure at 0x7ff0ddf34c50>"
      ]
     },
     "metadata": {},
     "output_type": "display_data"
    }
   ],
   "source": [
    "pyplot.figure(figsize=(8,6));\n",
    "pyplot.plot(t_vec, s[:,1], '.');\n",
    "pyplot.title('Valeur singulière maximale\\n au cours du temps');\n",
    "pyplot.xlabel('$t$');\n",
    "pyplot.ylabel('Valeur singulière maximale');\n",
    "pyplot.legend(loc=1);\n",
    "pyplot.grid();\n",
    "pyplot.show();"
   ]
  },
  {
   "cell_type": "markdown",
   "metadata": {},
   "source": [
    "### Soucis avec l'emploi de la matrice $M$"
   ]
  },
  {
   "cell_type": "markdown",
   "metadata": {},
   "source": [
    "Remarquons que nous avons effectué la décomposition en modes propres de $M$ à partir du problème généralisé défini par $A$ et $B$. Nous évitons de calculer l'exponentielle de $M$ à partir de sa décomposition directe car cette dernière n'est pas correctement réalisée par l'ordinateur, probablement à cause de l'inversion de la matrice $B$ qui comporte des nombres très petits. Les décompositions respectives avec $M$ d'une part et $A,B$ de l'autre sont réalisées ci-dessous."
   ]
  },
  {
   "cell_type": "code",
   "execution_count": 10,
   "metadata": {},
   "outputs": [
    {
     "data": {
      "image/png": "[encoded data removed]",
      "text/plain": [
       "<matplotlib.figure.Figure at 0x7ff0d2549710>"
      ]
     },
     "metadata": {},
     "output_type": "display_data"
    },
    {
     "data": {
      "image/png": "[encoded data removed]",
      "text/plain": [
       "<matplotlib.figure.Figure at 0x7ff0d24f5ef0>"
      ]
     },
     "metadata": {},
     "output_type": "display_data"
    }
   ],
   "source": [
    "N = 401\n",
    "alpha = 0.6\n",
    "Re = 10000\n",
    "t_vec = numpy.linspace(0,0.5,10)\n",
    "\n",
    "[A,B] = operateurs.buildAB_forward(Re, alpha, N)\n",
    "M = numpy.dot(numpy.linalg.inv(B), A) \n",
    "\n",
    "# Décomposition en valeur et vecteur propres avec A et B\n",
    "[c,vecp] = scipy.linalg.eig(A,B)\n",
    "\n",
    "pyplot.figure(figsize=(8,6));\n",
    "pyplot.plot(numpy.real(c), numpy.imag(c), '.');\n",
    "pyplot.title('valeurs propres avec A et B');\n",
    "pyplot.xlabel('Re(c)');\n",
    "pyplot.ylabel('Im(c)');\n",
    "pyplot.legend(loc=1);\n",
    "pyplot.grid();\n",
    "pyplot.show();\n",
    "\n",
    "# Décomposition en valeur et vecteur propres de M\n",
    "[c,vecp] = scipy.linalg.eig(M)\n",
    "\n",
    "pyplot.figure(figsize=(8,6));\n",
    "pyplot.plot(numpy.real(c), numpy.imag(c), '.');\n",
    "pyplot.title('valeurs propres avec M');\n",
    "pyplot.xlabel('Re(c)');\n",
    "pyplot.ylabel('Im(c)');\n",
    "pyplot.legend(loc=1);\n",
    "pyplot.grid();\n",
    "pyplot.show();"
   ]
  },
  {
   "cell_type": "markdown",
   "metadata": {},
   "source": [
    "## Calcul détaillé de l'augmentation maximale pour un (Re,$\\alpha$) donné"
   ]
  },
  {
   "cell_type": "markdown",
   "metadata": {},
   "source": [
    "Le problème auquel nous faisons face est la recherche du maximum de la fonction $f(t)$ que défini le calcul de plus grande valeur singulière de $e^{Mt}$ en chaque $t$.\n",
    "\n",
    "Pour accélérer la recherche de ce maximum, nous allons exploiter la monotonie apparente de la fonction $f$ avant et après le maximum et employer la stratégie récursive suivante:\n",
    "- Commencer avec un intervalle suspecté de contenir le maximum\n",
    "- Diviser l'intervalle en plusieurs segments\n",
    "- Evaluer $f$ en les jonctions entre ces segments\n",
    "- Trouver le point de jonction $t_\\star$ qui maximise $f$\n",
    "- Prendre comme nouvel intervalle l'union des deux segments de part et d'autre de $t_\\star$\n",
    "- Recommencer jusqu'à atteintre la précision voulue\n",
    "\n",
    "Cette méthode est implémentée dans un fichier que nous importons ci-dessous."
   ]
  },
  {
   "cell_type": "code",
   "execution_count": 11,
   "metadata": {
    "collapsed": true
   },
   "outputs": [],
   "source": [
    "import svd_division_recursive as rd"
   ]
  },
  {
   "cell_type": "code",
   "execution_count": 12,
   "metadata": {},
   "outputs": [
    {
     "name": "stdout",
     "output_type": "stream",
     "text": [
      "Il n'y a pas de modes instables ni stationnaires\n",
      "Il n'y a pas de modes instables ni stationnaires\n",
      "Il n'y a pas de modes instables ni stationnaires\n",
      "Il n'y a pas de modes instables ni stationnaires\n",
      "Il n'y a pas de modes instables ni stationnaires\n",
      "Il n'y a pas de modes instables ni stationnaires\n",
      "Il n'y a pas de modes instables ni stationnaires\n",
      "Il n'y a pas de modes instables ni stationnaires\n",
      "Il n'y a pas de modes instables ni stationnaires\n",
      "Temps d'exécution: 14.550 secondes\n",
      "Résultats: \n",
      "Valeur singulière maximale: 28.0851862381\n",
      "Instant de perturbation maximale: 34.8828938678 +/- 0.00508052634253\n"
     ]
    }
   ],
   "source": [
    "N = 401\n",
    "alpha = 0.6\n",
    "Re = 10000\n",
    "tmin = 0\n",
    "tmax = 100\n",
    "target_prec = 0.01\n",
    "\n",
    "[A,B] = operateurs.buildAB_forward(Re, alpha, N)\n",
    "\n",
    "start = time.time()\n",
    "s_max,t_max,err_tmax = rd.svd_division_recursive_A_B(svd.svd_scipy_exp_eig_A_B, A, B, alpha, tmin, tmax, target_prec, 6)\n",
    "print(\"Temps d'exécution: {:.3f} secondes\".format(time.time()-start))\n",
    "\n",
    "print(\"Résultats: \")\n",
    "print(\"Valeur singulière maximale:\",s_max)\n",
    "print(\"Instant de perturbation maximale:\",t_max, \"+/-\", err_tmax)"
   ]
  },
  {
   "cell_type": "markdown",
   "metadata": {},
   "source": [
    "La valeur trouvée semble bien correspondre à ce que nous avions obtenu précédemment."
   ]
  },
  {
   "cell_type": "markdown",
   "metadata": {},
   "source": [
    "### Efficacité de la stratégie de division récursive pour la recherche d'un maximum"
   ]
  },
  {
   "cell_type": "markdown",
   "metadata": {},
   "source": [
    "Nous montrons ci-dessous l'efficacité de plusieurs stratégies de recherche de maximum en calculant la précision que nous pouvons atteindre en $N$ calculs de svd. Nous ne tenons pas en compte le calcul de l'exponentielle ou plutôt supposons que celui-ci requiert le même investissement en temps pour n'importe quel instant $t$. \n",
    "\n",
    "La précision considérée est la taille de l'intervalle contenant le maximum après $N$ calculs par rapport à sa taille initiale.\n",
    "\n",
    "Les stratégies que nous testons sont les suivantes:\n",
    "- Stratégie \"force brute\": Evaluation en pleins de points répartits uniformément dans l'intervalle initialement choisi. La précision diminue à peu près comme l'inverse de N\n",
    "- Stratégie \"division récursive\", expliquée plus haut, que nous testons pour plusieurs nombres de segments."
   ]
  },
  {
   "cell_type": "code",
   "execution_count": 13,
   "metadata": {},
   "outputs": [
    {
     "data": {
      "image/png": "[encoded data removed]",
      "text/plain": [
       "<matplotlib.figure.Figure at 0x7ff0d244e898>"
      ]
     },
     "metadata": {},
     "output_type": "display_data"
    }
   ],
   "source": [
    "N = range(2,200)\n",
    "\n",
    "def incertinv(N):\n",
    "    return 2/(N-1)\n",
    "\n",
    "def incertexp(N,d):\n",
    "    it = int(N/(d+1))  # une itération est composée de d+1 évaluations de la fonction à maximiser\n",
    "    return (2/d)**it\n",
    "\n",
    "vinv = numpy.vectorize(incertinv)\n",
    "vexp = numpy.vectorize(incertexp)\n",
    "\n",
    "pyplot.figure(figsize=(8,6));\n",
    "pyplot.loglog(N, vinv(N), '.-', label='inverse');\n",
    "pyplot.loglog(N, vexp(N,3), '.-', label='exp d=3');\n",
    "pyplot.loglog(N, vexp(N,6), '.-', label='exp d=6');\n",
    "pyplot.loglog(N, vexp(N,10), '.-', label='exp d=10');\n",
    "pyplot.title('Incertitude suivant le nombre d\\'évaluations');\n",
    "pyplot.xlabel('N');\n",
    "pyplot.ylabel('incertitude');\n",
    "pyplot.legend(loc=3);\n",
    "pyplot.grid();\n",
    "pyplot.show();"
   ]
  },
  {
   "cell_type": "markdown",
   "metadata": {},
   "source": [
    "Nous constatons sans surprise que la stratégie récursive est la plus efficace, avec un maximum d'efficacité autour d'une division en 6 segments. C'est donc la stratégie que nous avons utilisé dès que nous en avons l'occasion."
   ]
  },
  {
   "cell_type": "markdown",
   "metadata": {},
   "source": [
    "## Implémentation et test de la svd de $e^{Mt}$, calculée avec Runge et Kutta"
   ]
  },
  {
   "cell_type": "markdown",
   "metadata": {},
   "source": [
    "### Implémentation du calcul de l'exponentielle"
   ]
  },
  {
   "cell_type": "markdown",
   "metadata": {},
   "source": [
    "L'inconvénient avec le calcul de $e^{Mt}$ à partir des valeurs et vecteurs propres de $M$ est que cette méthode est limitée au cas où $M$ est indépendante du temps. Si $M$ varie dans le temps, en particulier si le profil de vitesse $U(y,t)$ dépend du temps, alors la décomposition en modes propres de $M(t)$ est à refaire pour chaque instant $t$.\n",
    "\n",
    "Heureusement, il existe une manière plus efficace de calculer l'exponentielle $e^{Mt}$ sans refaire systématiquement la décomposition en modes propres. Cette méthode consiste à intégrer avec l'algorithme de Runge et Kutta une équation différentielle dont $e^{Mt}$ est la solution. Il facile de construire une telle équation en remarquant que:\n",
    "\n",
    "$$ \\frac{d}{dt} e^{Mt} = M e^{Mt} $$\n",
    "\n",
    "Nous voyons donc que $e^{Mt}$ est solution du problème de Cauchy suivant:\n",
    "\n",
    "$$ \\dot L(t) = M L(t) \\qquad L(0) = \\mathbb{1}$$\n",
    "\n",
    "Nous réécrivons l'équation différentielle sous la forme\n",
    "\n",
    "$$ \\dot L(t) = f(t,L)  \\qquad f(t,L) = M(t)L $$\n",
    "\n",
    "Nous allons dans ce qui suit implémenter cette méthode et commencer par la tester avec le profil $U(y,t) = 1-y^2$ indépendant du temps pour pouvoir comparer les résultat avec la méthode utilisant les modes propres de $M$. L'intégrateur choisi sera Runge et Kutta d'ordre 4."
   ]
  },
  {
   "cell_type": "code",
   "execution_count": 14,
   "metadata": {
    "collapsed": true
   },
   "outputs": [],
   "source": [
    "import operateurs_t"
   ]
  },
  {
   "cell_type": "code",
   "execution_count": 15,
   "metadata": {
    "collapsed": true
   },
   "outputs": [],
   "source": [
    "def U_statique(y,t):\n",
    "    return 1-y**2\n",
    "\n",
    "def f(t,L,Re,alpha,N):\n",
    "    \n",
    "    [A,B] = operateurs_t.buildAB_forward(Re, alpha, N, U_statique, t)\n",
    "    B_inv = numpy.linalg.inv(B)\n",
    "    M = -1j*alpha*numpy.dot(B_inv,A)\n",
    "    \n",
    "    return numpy.dot(M,L)"
   ]
  },
  {
   "cell_type": "markdown",
   "metadata": {},
   "source": [
    "Nous commençons par calculer l'exponentielle $e^{Mt}$ en un temps $t$ donné."
   ]
  },
  {
   "cell_type": "code",
   "execution_count": 16,
   "metadata": {},
   "outputs": [],
   "source": [
    "N = 401\n",
    "alpha = 0.6\n",
    "Re = 10000\n",
    "t_max = 10\n",
    "dt = 0.1\n",
    "\n",
    "nt = int(t_max/dt)+1\n",
    "\n",
    "t = 0\n",
    "L = scipy.eye(N-4)\n",
    "\n",
    "for i in range(1,nt+1):\n",
    "    \n",
    "    # La matrice L=exp(Mt) est avancé de dt dans le temps avec RK4\n",
    "    k1 = dt*f(t,L,Re,alpha,N)\n",
    "    k2 = dt*f(t+dt/2,L+k1/2,Re,alpha,N)\n",
    "    k3 = dt*f(t+dt/2,L+k2/2,Re,alpha,N)\n",
    "    k4 = dt*f(t+dt,L+k3,Re,alpha,N)\n",
    "    \n",
    "    t = t+dt\n",
    "    L = L + 1/6*(k1+2*k2+2*k3+k4)"
   ]
  },
  {
   "cell_type": "markdown",
   "metadata": {},
   "source": [
    "Nous pouvons ensuite comparer le résultat avec celui donné par la méthode aux modes propres implémentée plus haut."
   ]
  },
  {
   "cell_type": "code",
   "execution_count": 17,
   "metadata": {},
   "outputs": [
    {
     "name": "stdout",
     "output_type": "stream",
     "text": [
      "10.09999999999998\n",
      "L [[-0.00294632+0.00141452j -0.00176832+0.00106436j]\n",
      " [-0.00656012+0.00306141j -0.00394453+0.00231681j]]\n",
      "L_modes [[-0.00294632+0.00141452j -0.00176832+0.00106436j]\n",
      " [-0.00656012+0.00306141j -0.00394453+0.00231681j]]\n"
     ]
    }
   ],
   "source": [
    "print(t)\n",
    "print(\"L_RK4\",L[:2,:2])\n",
    "\n",
    "L_modes = expMt_modes(A,B,alpha,t)\n",
    "print(\"L_modes\",L_modes[:2,:2])"
   ]
  },
  {
   "cell_type": "markdown",
   "metadata": {},
   "source": [
    "Nous remarquons que nous pouvons obtenir des résultats très proches (indistinguables avec le nombre de décimales affiché par défaut) pour des $dt$ suffisamment petits. Typiquement $\\leq 0.1$ dans notre example. Cependant, l'exponentielle calculée par RK4 diverge rapidement pour des pas de temps supérieur à une certaine valeur critique, située entre $0.1$ et $0.2$ dans notre cas. Il doit probablement y avoir une certaine condition de convergence que nous pourrions imposer au pas de temps $dt$."
   ]
  },
  {
   "cell_type": "markdown",
   "metadata": {},
   "source": [
    "### Test de la svd"
   ]
  },
  {
   "cell_type": "markdown",
   "metadata": {},
   "source": [
    "Ci-dessous, nous réalisons la svd pour plusieurs temps en utilisant RK4. La méthode est implémentée dans le fichier \"svd_t\" que nous importons ci-dessous."
   ]
  },
  {
   "cell_type": "code",
   "execution_count": 18,
   "metadata": {},
   "outputs": [],
   "source": [
    "import svd_t"
   ]
  },
  {
   "cell_type": "code",
   "execution_count": 19,
   "metadata": {
    "collapsed": true
   },
   "outputs": [],
   "source": [
    "def U_statique(y,t):\n",
    "    return 1-y**2"
   ]
  },
  {
   "cell_type": "code",
   "execution_count": 20,
   "metadata": {},
   "outputs": [
    {
     "name": "stdout",
     "output_type": "stream",
     "text": [
      "Temps d'exécution: 340.545 secondes\n"
     ]
    }
   ],
   "source": [
    "N = 401\n",
    "alpha = 0.6\n",
    "Re = 10000\n",
    "t_max = 100\n",
    "dt = 0.1\n",
    "step = 20 # nous réalisons le calcul de la svd qu'une fois sur 20\n",
    "\n",
    "start = time.time()\n",
    "st,t_vec = svd_t.svd_scipy_RK4(Re,alpha,N,t_max,dt,step,U_statique)\n",
    "print(\"Temps d'exécution: {:.3f} secondes\".format(time.time()-start))"
   ]
  },
  {
   "cell_type": "code",
   "execution_count": 21,
   "metadata": {},
   "outputs": [
    {
     "data": {
      "image/png": "[encoded data removed]",
      "text/plain": [
       "<matplotlib.figure.Figure at 0x7ff0d23920b8>"
      ]
     },
     "metadata": {},
     "output_type": "display_data"
    }
   ],
   "source": [
    "pyplot.figure(figsize=(8,6));\n",
    "pyplot.plot(t_vec, st[:,1], '.');\n",
    "pyplot.title('Valeur singulière maximale\\n au cours du temps');\n",
    "pyplot.xlabel('$t$');\n",
    "pyplot.ylabel('Valeur singulière maximale');\n",
    "pyplot.legend(loc=1);\n",
    "pyplot.grid();\n",
    "pyplot.show();"
   ]
  },
  {
   "cell_type": "markdown",
   "metadata": {},
   "source": [
    "Nous vérifions que la courbe de la valeur singulière maximale avec le temps est cohérente avec celle utilisant la décomposition en modes propres."
   ]
  },
  {
   "cell_type": "markdown",
   "metadata": {},
   "source": [
    "$$\\ $$\n",
    "$$\\ $$\n",
    "$$\\ $$\n",
    "\n",
    "*La cellule qui suit permet l'importation immédiate de tout les fichiers externes nécessaires pour ce notebook.*"
   ]
  },
  {
   "cell_type": "code",
   "execution_count": 22,
   "metadata": {
    "collapsed": true
   },
   "outputs": [],
   "source": [
    "import numpy,scipy,scipy.linalg,time\n",
    "import matplotlib.pyplot as pyplot\n",
    "from matplotlib import rcParams, cm\n",
    "rcParams['font.family'] = 'serif'\n",
    "rcParams['font.size'] = 16\n",
    "\n",
    "import operateurs\n",
    "import operateurs_t\n",
    "import svd\n",
    "import svd_division_recursive as rd\n",
    "import svd_t"
   ]
  }
 ],
 "metadata": {
  "kernelspec": {
   "display_name": "Python 3",
   "language": "python",
   "name": "python3"
  },
  "language_info": {
   "codemirror_mode": {
    "name": "ipython",
    "version": 3
   },
   "file_extension": ".py",
   "mimetype": "text/x-python",
   "name": "python",
   "nbconvert_exporter": "python",
   "pygments_lexer": "ipython3",
   "version": "3.6.2"
  }
 },
 "nbformat": 4,
 "nbformat_minor": 2
}
