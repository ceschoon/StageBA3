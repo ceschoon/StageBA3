{
 "cells": [
  {
   "cell_type": "markdown",
   "metadata": {},
   "source": [
    "# Approche non modale de la stabilité dans un écoulement de Poiseuille"
   ]
  },
  {
   "cell_type": "markdown",
   "metadata": {},
   "source": [
    "## Table des matières"
   ]
  },
  {
   "cell_type": "markdown",
   "metadata": {},
   "source": [
    "- Introduction et motivation\n",
    "- Implémentation et test de la svd de $e^{Mt}$, calculée à partir des modes propres de $M$\n",
    "    - Commençons par implémenter la svd pour un instant $t$ fixé \n",
    "    - Test de la svd sur un intervalle de temps\n",
    "- Calcul détaillé de l'augmentation maximale pour un (Re,$\\alpha$) donné\n",
    "    - Efficacité de la stratégie de division récursive pour la recherche d'un maximum\n",
    "- Implémentation et test de la svd de $e^{Mt}$, calculée avec Runge et Kutta\n",
    "    - Implémentation du calcul de l'exponentielle\n",
    "    - Test de la svd\n",
    "- Implémentation sur gpu avec tensorflow\n",
    "- Comparaison des vitesses d'exécution entre numpy et tensorflow\n",
    "- Implémentation sur gpu en C avec magma\n",
    "- Comparaison des vitesses d'exécution entre numpy et magma"
   ]
  },
  {
   "cell_type": "markdown",
   "metadata": {},
   "source": [
    "## Introduction et motivation"
   ]
  },
  {
   "cell_type": "markdown",
   "metadata": {},
   "source": [
    "Dans les notebooks précédents, nous avions étudié l'équation d'Orr-Sommerfeld que nous avions discrétisée et ramenée à un problème aux valeurs propres généralisé $A\\hat v = Bc \\hat v$ en considérant des modes propres de la forme $\\hat v = v(y)\\, e^{i\\alpha (x-ct)}$.\n",
    " \n",
    "Nous pouvons ramener ce problème aux valeurs propres à une équation d'évolution pour les modes propres. En effet, nous observons que\n",
    "\n",
    "$$ \\partial_t \\hat v = -i\\alpha c \\hat v   \\qquad   B^{-1}A \\hat v = c \\hat v $$\n",
    "\n",
    "Et donc \n",
    "\n",
    "$$ \\partial_t \\hat v = M \\hat v   \\qquad M = -i\\alpha B^{-1}A$$\n",
    "\n",
    "Dans le notebook précédant, nous avions discuté de la stabilité de l'écoulement en observant la partie imaginaire des valeurs propres de l'opérateur $M$. Dans ce notebook, nous allons effectuer une analyse plus détaillée de l'évolution des perturbations. Nous nous limiterons plus à étudier le comportement des modes propres, car une telle analyse est incomplète étant donné la nature non linéaire des équations de Navier-Stokes. \n",
    "\n",
    "L'inconvénient de l'étude modale de la stabilité vient de la non orthogonalité des vecteurs propres de l'opérateur $M$. En effet, la matrice $M$ n'est pas hermitienne et il est donc possible que ces vecteurs propres soient non orthogonaux. Cela a pour conséquence qu'une combinaison linéaire de deux vecteurs propres, dont la norme diminue dans le temps, peut voir sa norme grandir pendant un temps fini. Un problème avec cette croissance temporaire de certaines perturbations se pose lorsque celle-ci devient trop importante. L'approximation linéaire des équation de Navier-Stokes sur laquelle repose l'équation d'Orr-Sommerfeld n'est alors plus valable et la perturbation considérée, composée que de mode stables *selon l'équation d'Orr-Sommerfeld*, pourrait devenir instable.\n",
    "\n",
    "Il est donc nécessaire de déterminer quelles sont les croissances maximales que l'on peut obtenir avec des combinaisons linéaires des modes stables afin de vérifier si celles-ci ne sont pas trop grandes pour engendrer des instablilités. Ce travail s'effectue typiquement par une décomposition en valeurs singulières (svd), qui va chercher l'élongaltion et la direction d'élongation maximale de la boule unité sous une transformation linéaire."
   ]
  },
  {
   "cell_type": "markdown",
   "metadata": {},
   "source": [
    "## Implémentation et test de la svd de $e^{Mt}$, calculée à partir des modes propres de $M$"
   ]
  },
  {
   "cell_type": "markdown",
   "metadata": {},
   "source": [
    "### Commençons par implémenter la svd pour un instant $t$ fixé "
   ]
  },
  {
   "cell_type": "code",
   "execution_count": null,
   "metadata": {},
   "outputs": [],
   "source": [
    "import numpy,scipy,scipy.linalg,time,pandas\n",
    "import matplotlib.pyplot as pyplot\n",
    "from matplotlib import rcParams, cm\n",
    "rcParams['font.family'] = 'serif'\n",
    "rcParams['font.size'] = 16"
   ]
  },
  {
   "cell_type": "markdown",
   "metadata": {},
   "source": [
    "Importons les fonctions que nous avons défini afin de construire les opérateurs nécessaires."
   ]
  },
  {
   "cell_type": "code",
   "execution_count": null,
   "metadata": {},
   "outputs": [],
   "source": [
    "import operateurs"
   ]
  },
  {
   "cell_type": "code",
   "execution_count": null,
   "metadata": {},
   "outputs": [],
   "source": [
    "N = 401 \n",
    "alpha = 0.6\n",
    "Re = 10000\n",
    "t = 1\n",
    "\n",
    "[A,B] = operateurs.buildAB_forward(Re, alpha, N)"
   ]
  },
  {
   "cell_type": "markdown",
   "metadata": {},
   "source": [
    "Calculons l'exponentielle $e^{Mt}$ à partir de la décomposition en valeurs et vecteurs propres de M. Lors de cette phase de construction, nous affichons les variables pour pouvoir vérifier les résultats."
   ]
  },
  {
   "cell_type": "code",
   "execution_count": null,
   "metadata": {},
   "outputs": [],
   "source": [
    "def expMt_modes(A,B,alpha,t):\n",
    "\n",
    "    [c,vecp] = scipy.linalg.eig(A,B)\n",
    "    c = -1j*alpha*c # pour avoir les valeurs propres de M = -i*alpha*B^-1*A\n",
    "    vecp_inv = numpy.linalg.inv(vecp)\n",
    "\n",
    "    D = scipy.eye(N-4) * numpy.exp(c*t)\n",
    "    return numpy.dot( numpy.dot( vecp , D) , vecp_inv )"
   ]
  },
  {
   "cell_type": "code",
   "execution_count": null,
   "metadata": {},
   "outputs": [],
   "source": [
    "expMt = expMt_modes(A,B,alpha,t)\n",
    "print(expMt[:2,:2])"
   ]
  },
  {
   "cell_type": "markdown",
   "metadata": {},
   "source": [
    "Nous faisons ensuite le calcul de la svd"
   ]
  },
  {
   "cell_type": "code",
   "execution_count": null,
   "metadata": {},
   "outputs": [],
   "source": [
    "u,s,v = scipy.linalg.svd(expMt)\n",
    "print(s[:5])"
   ]
  },
  {
   "cell_type": "markdown",
   "metadata": {},
   "source": [
    "### Test de la svd sur un intervalle de temps"
   ]
  },
  {
   "cell_type": "markdown",
   "metadata": {},
   "source": [
    "Nous implémentons le calcul de la svd pour plusieurs points de temps dans des fichiers séparés que nous importons ci-dessous."
   ]
  },
  {
   "cell_type": "code",
   "execution_count": null,
   "metadata": {},
   "outputs": [],
   "source": [
    "import svd"
   ]
  },
  {
   "cell_type": "code",
   "execution_count": null,
   "metadata": {
    "scrolled": false
   },
   "outputs": [],
   "source": [
    "N = 401\n",
    "alpha = 0.6\n",
    "Re = 10000\n",
    "t_vec = numpy.linspace(0,100,50)\n",
    "\n",
    "[A,B] = operateurs.buildAB_forward(Re, alpha, N)\n",
    "\n",
    "start = time.time()\n",
    "s = svd.svd_scipy_exp_eig_A_B(A, B, alpha, t_vec, False)\n",
    "print(\"Temps d'exécution: {:.3f} secondes\".format(time.time()-start))\n",
    "\n",
    "# valeurs singulières max pour chaque t\n",
    "print(\"Valeurs singulières: \")\n",
    "print(s[:,0])"
   ]
  },
  {
   "cell_type": "code",
   "execution_count": null,
   "metadata": {},
   "outputs": [],
   "source": [
    "pyplot.figure(figsize=(8,6));\n",
    "pyplot.plot(t_vec, s[:,0], '.');\n",
    "pyplot.title('Valeur singulière maximale\\n au cours du temps');\n",
    "pyplot.xlabel('$t$');\n",
    "pyplot.ylabel('Valeur singulière maximale');\n",
    "pyplot.grid();\n",
    "pyplot.show();"
   ]
  },
  {
   "cell_type": "markdown",
   "metadata": {},
   "source": [
    "## Calcul détaillé de l'augmentation maximale pour un (Re,$\\alpha$) donné"
   ]
  },
  {
   "cell_type": "markdown",
   "metadata": {},
   "source": [
    "Le problème auquel nous faisons face est la recherche du maximum de la fonction $f(t)$ que défini le calcul de plus grande valeur singulière de $e^{Mt}$ en chaque $t$.\n",
    "\n",
    "Pour accélérer la recherche de ce maximum, nous allons exploiter la monotonie apparente de la fonction $f$ avant et après le maximum et employer la stratégie récursive suivante:\n",
    "- Commencer avec un intervalle suspecté de contenir le maximum\n",
    "- Diviser l'intervalle en plusieurs segments\n",
    "- Evaluer $f$ en les jonctions entre ces segments\n",
    "- Trouver le point de jonction $t_\\star$ qui maximise $f$\n",
    "- Prendre comme nouvel intervalle l'union des deux segments de part et d'autre de $t_\\star$\n",
    "- Recommencer jusqu'à atteintre la précision voulue\n",
    "\n",
    "Cette méthode est implémentée dans un fichier que nous importons ci-dessous.\n",
    "\n",
    "Remarque: Selon la finesse de la grille, la fonction $f$ peut subir une augmentation locale entre $t=0$ et $t=1$. Il faut comparer le résultat de cette recherche avec le graphique de $f$ réalisé plus haut. Il serait intéressant de systématiquement vérifier l'augmentation maximale avec plus de points entre 0 et 1."
   ]
  },
  {
   "cell_type": "code",
   "execution_count": null,
   "metadata": {},
   "outputs": [],
   "source": [
    "import svd_division_recursive as rd"
   ]
  },
  {
   "cell_type": "code",
   "execution_count": null,
   "metadata": {},
   "outputs": [],
   "source": [
    "N = 401\n",
    "alpha = 0.6\n",
    "Re = 10000\n",
    "tmin = 0\n",
    "tmax = 100\n",
    "target_prec = 0.01\n",
    "\n",
    "[A,B] = operateurs.buildAB_forward(Re, alpha, N)\n",
    "\n",
    "start = time.time()\n",
    "s_max,t_max,err_tmax = rd.svd_division_recursive_A_B(svd.svd_scipy_exp_eig_A_B, A, B, alpha, tmin, tmax, target_prec, 6)\n",
    "print(\"Temps d'exécution: {:.3f} secondes\".format(time.time()-start))\n",
    "\n",
    "print(\"Résultats: \")\n",
    "print(\"Valeur singulière maximale:\",s_max)\n",
    "print(\"Instant de perturbation maximale:\",t_max, \"+/-\", err_tmax)"
   ]
  },
  {
   "cell_type": "markdown",
   "metadata": {},
   "source": [
    "La valeur trouvée semble bien correspondre à ce que nous avions obtenu précédemment."
   ]
  },
  {
   "cell_type": "markdown",
   "metadata": {},
   "source": [
    "### Efficacité de la stratégie de division récursive pour la recherche d'un maximum"
   ]
  },
  {
   "cell_type": "markdown",
   "metadata": {},
   "source": [
    "Nous montrons ci-dessous l'efficacité de plusieurs stratégies de recherche de maximum en calculant la précision que nous pouvons atteindre en effectuant au maximum $N$ calculs de svd. \n",
    "\n",
    "La précision considérée est la taille de l'intervalle contenant le maximum après $N$ calculs par rapport à sa taille initiale.\n",
    "\n",
    "Les stratégies que nous testons sont les suivantes:\n",
    "- Stratégie \"force brute\": Evaluation en pleins de points répartits uniformément dans l'intervalle initialement choisi. La précision diminue à peu près comme l'inverse de N\n",
    "- Stratégie \"division récursive\", expliquée plus haut, que nous testons pour plusieurs nombres de segments $d$."
   ]
  },
  {
   "cell_type": "code",
   "execution_count": null,
   "metadata": {},
   "outputs": [],
   "source": [
    "N = range(2,200)\n",
    "\n",
    "# incertitudes avec N calculs de svd\n",
    "def incertinv(N):\n",
    "    return 2/(N-1)\n",
    "\n",
    "def incertexp(N,d):\n",
    "    it = int(N/(d+1))  # une itération est composée de d+1 évaluations de la fonction à maximiser\n",
    "    return (2/d)**it\n",
    "\n",
    "vinv = numpy.vectorize(incertinv)\n",
    "vexp = numpy.vectorize(incertexp)\n",
    "\n",
    "pyplot.figure(figsize=(8,6));\n",
    "pyplot.loglog(N, vinv(N), '.-', label='inverse');\n",
    "pyplot.loglog(N, vexp(N,3), '.-', label='exp d=3');\n",
    "pyplot.loglog(N, vexp(N,6), '.-', label='exp d=6');\n",
    "pyplot.loglog(N, vexp(N,10), '.-', label='exp d=10');\n",
    "pyplot.title('Incertitude suivant le nombre d\\'évaluations');\n",
    "pyplot.xlabel('N');\n",
    "pyplot.ylabel('incertitude');\n",
    "pyplot.legend(loc=3);\n",
    "pyplot.grid();\n",
    "pyplot.show();"
   ]
  },
  {
   "cell_type": "markdown",
   "metadata": {},
   "source": [
    "Nous constatons sans surprise que la stratégie récursive est la plus efficace, avec un maximum d'efficacité autour d'une division en 6 segments. C'est donc la stratégie que nous avons utilisé dès que nous en avons l'occasion."
   ]
  },
  {
   "cell_type": "markdown",
   "metadata": {},
   "source": [
    "## Implémentation et test de la svd de $e^{Mt}$, calculée avec Runge et Kutta"
   ]
  },
  {
   "cell_type": "markdown",
   "metadata": {},
   "source": [
    "### Implémentation du calcul de l'exponentielle"
   ]
  },
  {
   "cell_type": "markdown",
   "metadata": {},
   "source": [
    "L'inconvénient avec le calcul de $e^{Mt}$ à partir des valeurs et vecteurs propres de $M$ est que cette méthode est limitée au cas où $M$ est indépendante du temps. Si $M$ varie dans le temps, en particulier si le profil de vitesse $U(y,t)$ dépend du temps, alors la décomposition en modes propres de $M(t)$ est à refaire pour chaque instant $t$.\n",
    "\n",
    "Heureusement, il existe une manière plus efficace de calculer l'exponentielle $e^{Mt}$ sans refaire systématiquement la décomposition en modes propres. Cette méthode consiste à intégrer avec l'algorithme de Runge et Kutta une équation différentielle dont $e^{Mt}$ est la solution. Il facile de construire une telle équation en remarquant que:\n",
    "\n",
    "$$ \\frac{d}{dt} e^{Mt} = M e^{Mt} $$\n",
    "\n",
    "Nous voyons donc que $e^{Mt}$ est solution du problème de Cauchy suivant:\n",
    "\n",
    "$$ \\dot L(t) = M L(t) \\qquad L(0) = \\mathbb{1}$$\n",
    "\n",
    "Nous réécrivons l'équation différentielle sous la forme\n",
    "\n",
    "$$ \\dot L(t) = f(t,L)  \\qquad f(t,L) = M(t)L $$\n",
    "\n",
    "Nous allons dans ce qui suit implémenter cette méthode et commencer par la tester avec le profil $U(y,t) = 1-y^2$ indépendant du temps pour pouvoir comparer les résultat avec la méthode utilisant les modes propres de $M$. L'intégrateur choisi sera Runge et Kutta d'ordre 4."
   ]
  },
  {
   "cell_type": "markdown",
   "metadata": {},
   "source": [
    "Nous importons une version adaptée du code de construction des opérateurs:"
   ]
  },
  {
   "cell_type": "code",
   "execution_count": null,
   "metadata": {},
   "outputs": [],
   "source": [
    "import operateurs_t"
   ]
  },
  {
   "cell_type": "code",
   "execution_count": null,
   "metadata": {},
   "outputs": [],
   "source": [
    "def U_statique(y,t):\n",
    "    return 1-y**2\n",
    "\n",
    "def f(t,L,Re,alpha,N):\n",
    "    \n",
    "    [A,B] = operateurs_t.buildAB_forward(Re, alpha, N, U_statique, t)\n",
    "    B_inv = numpy.linalg.inv(B)\n",
    "    M = -1j*alpha*numpy.dot(B_inv,A)\n",
    "    \n",
    "    return numpy.dot(M,L)"
   ]
  },
  {
   "cell_type": "markdown",
   "metadata": {},
   "source": [
    "Nous commençons par calculer l'exponentielle $e^{Mt}$ en un temps $t$ donné."
   ]
  },
  {
   "cell_type": "code",
   "execution_count": null,
   "metadata": {},
   "outputs": [],
   "source": [
    "N = 401\n",
    "alpha = 0.6\n",
    "Re = 10000\n",
    "t_max = 10\n",
    "dt = 0.1\n",
    "\n",
    "nt = int(t_max/dt)+1\n",
    "\n",
    "t = 0\n",
    "L = scipy.eye(N-4)\n",
    "\n",
    "for i in range(1,nt+1):\n",
    "    \n",
    "    # La matrice L=exp(Mt) est avancé de dt dans le temps avec RK4\n",
    "    k1 = dt*f(t,L,Re,alpha,N)\n",
    "    k2 = dt*f(t+dt/2,L+k1/2,Re,alpha,N)\n",
    "    k3 = dt*f(t+dt/2,L+k2/2,Re,alpha,N)\n",
    "    k4 = dt*f(t+dt,L+k3,Re,alpha,N)\n",
    "    \n",
    "    t = t+dt\n",
    "    L = L + 1/6*(k1+2*k2+2*k3+k4)"
   ]
  },
  {
   "cell_type": "markdown",
   "metadata": {},
   "source": [
    "Nous pouvons ensuite comparer le résultat avec celui donné par la méthode aux modes propres implémentée plus haut."
   ]
  },
  {
   "cell_type": "code",
   "execution_count": null,
   "metadata": {},
   "outputs": [],
   "source": [
    "print(t)\n",
    "print(\"L_RK4\",L[:2,:2])\n",
    "\n",
    "L_modes = expMt_modes(A,B,alpha,t)\n",
    "print(\"L_modes\",L_modes[:2,:2])"
   ]
  },
  {
   "cell_type": "markdown",
   "metadata": {},
   "source": [
    "Nous remarquons que nous pouvons obtenir des résultats très proches (indistinguables avec le nombre de décimales affiché par défaut) pour des $dt$ suffisamment petits. Typiquement $\\leq 0.1$ dans notre example. Cependant, l'exponentielle calculée par RK4 diverge rapidement pour des pas de temps supérieur à une certaine valeur critique, située entre $0.1$ et $0.2$ dans notre cas. Il doit probablement y avoir une certaine condition de convergence que nous pourrions imposer au pas de temps $dt$."
   ]
  },
  {
   "cell_type": "markdown",
   "metadata": {},
   "source": [
    "### Test de la svd"
   ]
  },
  {
   "cell_type": "markdown",
   "metadata": {},
   "source": [
    "Ci-dessous, nous réalisons la svd pour plusieurs temps en utilisant RK4. La méthode est implémentée dans le fichier \"svd_t\" que nous importons ci-dessous.\n",
    "\n",
    "Au passage, vérifions que les résultats pour deux discrétisations proches donnent des résultats similaires."
   ]
  },
  {
   "cell_type": "code",
   "execution_count": null,
   "metadata": {},
   "outputs": [],
   "source": [
    "import svd_t"
   ]
  },
  {
   "cell_type": "code",
   "execution_count": null,
   "metadata": {},
   "outputs": [],
   "source": [
    "def U_statique(y,t):\n",
    "    return 1-y**2"
   ]
  },
  {
   "cell_type": "code",
   "execution_count": null,
   "metadata": {},
   "outputs": [],
   "source": [
    "N = 401\n",
    "alpha = 0.6\n",
    "Re = 10000\n",
    "t_max = 100\n",
    "dt = 0.05\n",
    "step = 20 # nous réalisons le calcul de la svd qu'une fois sur step\n",
    "\n",
    "start = time.time()\n",
    "st,t_vec = svd_t.svd_scipy_RK4(Re,alpha,N,t_max,dt,step,U_statique)\n",
    "print(\"Temps d'exécution: {:.3f} secondes\".format(time.time()-start))"
   ]
  },
  {
   "cell_type": "code",
   "execution_count": null,
   "metadata": {},
   "outputs": [],
   "source": [
    "N = 601\n",
    "alpha = 0.6\n",
    "Re = 10000\n",
    "t_max = 100\n",
    "dt = 0.05\n",
    "step = 20 # nous réalisons le calcul de la svd qu'une fois sur step\n",
    "\n",
    "start = time.time()\n",
    "st2,t_vec2 = svd_t.svd_scipy_RK4(Re,alpha,N,t_max,dt,step,U_statique)\n",
    "print(\"Temps d'exécution: {:.3f} secondes\".format(time.time()-start))"
   ]
  },
  {
   "cell_type": "code",
   "execution_count": null,
   "metadata": {},
   "outputs": [],
   "source": [
    "pyplot.figure(figsize=(8,6));\n",
    "pyplot.plot(t_vec, st[:,0], '.',label=\"N=401\");\n",
    "pyplot.plot(t_vec2, st2[:,0], '.',label=\"N=601\");\n",
    "pyplot.title('Valeur singulière maximale\\n au cours du temps');\n",
    "pyplot.xlabel('$t$');\n",
    "pyplot.ylabel('Valeur singulière maximale');\n",
    "pyplot.grid();\n",
    "pyplot.show();"
   ]
  },
  {
   "cell_type": "code",
   "execution_count": null,
   "metadata": {},
   "outputs": [],
   "source": [
    "print(st[:,0])"
   ]
  },
  {
   "cell_type": "markdown",
   "metadata": {},
   "source": [
    "Nous vérifions que la courbe de la valeur singulière maximale avec le temps est cohérente avec celle utilisant la décomposition en modes propres. Les courbes pour les deux discrétisations testée sont bien proches.\n",
    "\n",
    "Ci-dessous, un morceau de code pour sauver le résultat du calcul dans un fichier."
   ]
  },
  {
   "cell_type": "code",
   "execution_count": null,
   "metadata": {},
   "outputs": [],
   "source": [
    "dataSet = list(zip(t_vec2[:,0], st2[:,0]))\n",
    "df = pandas.DataFrame(data = dataSet, columns=['Temps (s)', 'Valeur singulière Max'])\n",
    "df.to_csv('dataNumpy/data.csv',index=False,header=True)"
   ]
  },
  {
   "cell_type": "markdown",
   "metadata": {},
   "source": [
    "## Implémentation sur gpu avec tensorflow"
   ]
  },
  {
   "cell_type": "markdown",
   "metadata": {},
   "source": [
    "Nous allons dans cette section utiliser le module \"tensorflow\" pour effectuer le calcul de l'exponentielle sur une carte graphique (gpu). L'implémentation des méthodes est réalisée dans le fichier que nous importons ci-dessous."
   ]
  },
  {
   "cell_type": "code",
   "execution_count": null,
   "metadata": {},
   "outputs": [],
   "source": [
    "import svd_t_tf"
   ]
  },
  {
   "cell_type": "code",
   "execution_count": null,
   "metadata": {},
   "outputs": [],
   "source": [
    "N = 401\n",
    "alpha = 0.6\n",
    "Re = 10000\n",
    "t_max = 100\n",
    "dt = 0.1\n",
    "step = 10 # nous réalisons le calcul de la svd qu'une fois sur step\n",
    "\n",
    "start = time.time()\n",
    "st,t_vec = svd_t_tf.svd_tf_RK4(Re,alpha,N,t_max,dt,step,U_statique)\n",
    "print(\"Temps d'exécution: {:.3f} secondes\".format(time.time()-start))"
   ]
  },
  {
   "cell_type": "code",
   "execution_count": null,
   "metadata": {},
   "outputs": [],
   "source": [
    "pyplot.figure(figsize=(8,6));\n",
    "pyplot.plot(t_vec, st[:,0], '.');\n",
    "pyplot.title('Valeur singulière maximale\\n au cours du temps');\n",
    "pyplot.xlabel('$t$');\n",
    "pyplot.ylabel('Valeur singulière maximale');\n",
    "pyplot.grid();\n",
    "pyplot.show();"
   ]
  },
  {
   "cell_type": "markdown",
   "metadata": {},
   "source": [
    "## Comparaison des vitesses d'exécution entre numpy et tensorflow"
   ]
  },
  {
   "cell_type": "markdown",
   "metadata": {},
   "source": [
    "Nous réalisons ici la comparaison entre les vitesses d'exécutions des codes numpy (cpu) et tensorflow (gpu) sur une machine aux caractéristiques suivantes:\n",
    "\n",
    "- carte graphique: Nvidia GTX 1080 Ti\n",
    "- processeur: Intel(R) Xeon(R) CPU E5-2690\n",
    "- OS: Ubuntu 16.04"
   ]
  },
  {
   "cell_type": "markdown",
   "metadata": {},
   "source": [
    "Comparons pour $N=401$:"
   ]
  },
  {
   "cell_type": "code",
   "execution_count": null,
   "metadata": {},
   "outputs": [],
   "source": [
    "N = 401\n",
    "alpha = 0.6\n",
    "Re = 10000\n",
    "t_max = 0.5\n",
    "dt = 0.1 # 0.5/0.1 = 5 pas de temps\n",
    "step = 10000 # pas de svd pour le test\n",
    "\n",
    "#numpy\n",
    "start = time.time()\n",
    "st,t_vec = svd_t.svd_scipy_RK4(Re,alpha,N,t_max,dt,step,U_statique)\n",
    "print(\"Temps d'exécution: {:.3f} secondes\".format(time.time()-start))\n",
    "\n",
    "#tensorflow\n",
    "start = time.time()\n",
    "st,t_vec = svd_t_tf.svd_tf_RK4(Re,alpha,N,t_max,dt,step,U_statique)\n",
    "print(\"Temps d'exécution: {:.3f} secondes\".format(time.time()-start))"
   ]
  },
  {
   "cell_type": "markdown",
   "metadata": {},
   "source": [
    "Comparons pour $N=1001$:"
   ]
  },
  {
   "cell_type": "code",
   "execution_count": null,
   "metadata": {},
   "outputs": [],
   "source": [
    "N = 1001\n",
    "alpha = 0.6\n",
    "Re = 10000\n",
    "t_max = 0.1\n",
    "dt = 0.02 # 0.1/0.02 = 5 pas de temps\n",
    "step = 10000 # pas de svd pour le test\n",
    "\n",
    "#numpy\n",
    "start = time.time()\n",
    "st,t_vec = svd_t.svd_scipy_RK4(Re,alpha,N,t_max,dt,step,U_statique)\n",
    "print(\"Temps d'exécution: {:.3f} secondes\".format(time.time()-start))\n",
    "\n",
    "#tensorflow\n",
    "start = time.time()\n",
    "st,t_vec = svd_t_tf.svd_tf_RK4(Re,alpha,N,t_max,dt,step,U_statique)\n",
    "print(\"Temps d'exécution: {:.3f} secondes\".format(time.time()-start))"
   ]
  },
  {
   "cell_type": "markdown",
   "metadata": {},
   "source": [
    "Comparons pour $N=3001$:"
   ]
  },
  {
   "cell_type": "code",
   "execution_count": null,
   "metadata": {},
   "outputs": [],
   "source": [
    "N = 2001\n",
    "alpha = 0.6\n",
    "Re = 10000\n",
    "t_max = 0.025\n",
    "dt = 0.005 # 0.025/0.005 = 5 pas de temps\n",
    "step = 10000 # pas de svd pour le test\n",
    "\n",
    "#numpy\n",
    "start = time.time()\n",
    "st,t_vec = svd_t.svd_scipy_RK4(Re,alpha,N,t_max,dt,step,U_statique)\n",
    "print(\"Temps d'exécution: {:.3f} secondes\".format(time.time()-start))\n",
    "\n",
    "#tensorflow\n",
    "start = time.time()\n",
    "st,t_vec = svd_t_tf.svd_tf_RK4(Re,alpha,N,t_max,dt,step,U_statique)\n",
    "print(\"Temps d'exécution: {:.3f} secondes\".format(time.time()-start))"
   ]
  },
  {
   "cell_type": "markdown",
   "metadata": {},
   "source": [
    "Nous remarquons que le temps mis par le code tensorflow se rapproche de celui du code numpy et s'équivalent pour des grandes matrices ($N\\geq 1000$). Les deux vitesses sont d'ailleurs suspicieusement proches et pourtant nous pouvons vérifier avec les commandes \"top\" et \"nvidia-smi\" qu'il s'agit bien du cpu qui travaille lorsque le code numpy tourne et que le gpu travaille pour le code tensorflow."
   ]
  },
  {
   "cell_type": "markdown",
   "metadata": {},
   "source": [
    "## Implémentation sur gpu en C avec magma"
   ]
  },
  {
   "cell_type": "markdown",
   "metadata": {},
   "source": [
    "Le code se trouve en annexe, dans le dossier \"svd_gpu_c\". Les résultats pour la valeur singulière maximale en fonction du temps sont renvoyés dans des fichiers .dat que nous analysons ci-dessous avec python grâce au module \"pandas\". \n",
    "\n",
    "Le fichier que nous analysons ci-dessous est le résultat de l'analyse par svd de l'écoulement caractérisé par $Re = 10000, \\alpha=0.6$ et discrétisé avec $N=401$."
   ]
  },
  {
   "cell_type": "code",
   "execution_count": null,
   "metadata": {},
   "outputs": [],
   "source": [
    "import pandas"
   ]
  },
  {
   "cell_type": "code",
   "execution_count": null,
   "metadata": {},
   "outputs": [],
   "source": [
    "dataSVD = pandas.read_csv('svd_gpu_c/data/data-Re=10000-alpha=0.6-N=401-dt=0.1.csv')\n",
    "[t,sMax] = numpy.transpose(dataSVD.as_matrix(['Temps', 'ValSingMax']))"
   ]
  },
  {
   "cell_type": "code",
   "execution_count": null,
   "metadata": {},
   "outputs": [],
   "source": [
    "pyplot.figure(figsize=(8,6));\n",
    "pyplot.plot(t, sMax, '.');\n",
    "pyplot.title('Valeur singulière maximale\\n au cours du temps');\n",
    "pyplot.xlabel('$t$');\n",
    "pyplot.ylabel('Valeur singulière maximale');\n",
    "pyplot.grid();\n",
    "pyplot.show();"
   ]
  },
  {
   "cell_type": "markdown",
   "metadata": {},
   "source": [
    "Nous vérifions ci-dessous la cohérence des calculs en c et en python en comparant les résultats pour les valeurs singulières au même instant."
   ]
  },
  {
   "cell_type": "code",
   "execution_count": null,
   "metadata": {},
   "outputs": [],
   "source": [
    "#python,numpy\n",
    "\n",
    "N = 401\n",
    "alpha = 0.6\n",
    "Re = 10000\n",
    "t_max = 100\n",
    "dt = 0.1\n",
    "step = 10 # nous réalisons le calcul de la svd qu'une fois sur step\n",
    "\n",
    "start = time.time()\n",
    "st,t_vec = svd_t.svd_scipy_RK4(Re,alpha,N,t_max,dt,step,U_statique)\n",
    "print(\"Temps d'exécution: {:.3f} secondes\".format(time.time()-start))"
   ]
  },
  {
   "cell_type": "code",
   "execution_count": null,
   "metadata": {},
   "outputs": [],
   "source": [
    "print(\"En python sur cpu: \")\n",
    "print(numpy.transpose(t_vec[-5:]))\n",
    "print(st[-5:,0])\n",
    "print(\"En C sur gpu: \")\n",
    "print(t[-5:])\n",
    "print(sMax[-5:])"
   ]
  },
  {
   "cell_type": "markdown",
   "metadata": {},
   "source": [
    "## Comparaison des vitesses d'exécution entre numpy et magma"
   ]
  },
  {
   "cell_type": "markdown",
   "metadata": {},
   "source": [
    "L'environnement dans lequel sont effectués les test est le suivant:\n",
    "- Magma 2.2.0\n",
    "- Intel MKL 2018\n",
    "- Cuda 8.0.61\n",
    "- g++ 7.2.0\n",
    "- Xubuntu 17.10\n",
    "\n",
    "La carte graphique est la NVIDIA GeForce 920M.\n",
    "Le cpu utilisé est un Intel Core i5-5200U, composé de deux coeurs physiques et pouvant exécuter 4 threads.\n",
    "\n",
    "Notons que le code numpy utilise les quatre threads disponibles alors que le code magma n'utilise qu'un cpu thread à côté du gpu."
   ]
  },
  {
   "cell_type": "markdown",
   "metadata": {},
   "source": [
    "Le tableau suivant résume les différents tests réalisés sur cette machine.\n",
    "\n",
    "| N | Re | alpha | tMax | dt | step | c/magma (gpu) | python/numpy (cpu) |\n",
    "|---|----|-------|------|----|------|---------------|--------------------|\n",
    "| 201|10000|0.6|100|0.1|10| 1m32s| 0m43s|\n",
    "| 401|10000|0.6|100|0.1|10| 6m35s| 5m13s|\n",
    "| 401|10000|0.6|  3|0.1| 5| 0m13s|  0m9s|\n",
    "|2001|10000|0.6|  3|0.1| 5|17m16s| 9m25s|\n",
    "|2001|10000|0.6|0.3|0.1| 1|  2m4s| 1m10s|\n",
    "|2001|10000|0.6|0.3|0.1|10| 1m35s| 0m48s|\n",
    "|3001|10000|0.6|0.3|0.1|10|  5m5s| 2m54s|\n",
    "|4001|10000|0.6|0.3|0.1|10|out of memory| 6m19s|\n",
    "\n",
    "Nous pouvons conclure que telle qu'elle est implémentée, la méthode ne s'exécute pas plus rapidement sur la carte graphique. Au contraire, elle est en moyenne deux fois plus lente avec le code pour gpu. \n",
    "\n",
    "Notons que lors des tests, $100\\%$ du cpu thread est utilisé par magma. Le cpu pourrait donc être le composant limitant la vitesse dans notre cas, il serait donc intéressant de faire en sorte que le code magma utilise tous les coeurs disponibles sur la machine. Le cas $N=401$ semble s'exécuter avec des vitesses similaires en magma et numpy et pourrait donc être plus rapide en magma si celui-ci pouvait utiliser tous les coeurs."
   ]
  },
  {
   "cell_type": "markdown",
   "metadata": {},
   "source": [
    "$$\\ $$\n",
    "$$\\ $$\n",
    "$$\\ $$\n",
    "\n",
    "*La cellule qui suit permet l'importation immédiate de tout les fichiers externes nécessaires pour ce notebook.*"
   ]
  },
  {
   "cell_type": "code",
   "execution_count": null,
   "metadata": {},
   "outputs": [],
   "source": [
    "import numpy,scipy,scipy.linalg,time,pandas\n",
    "import matplotlib.pyplot as pyplot\n",
    "from matplotlib import rcParams, cm\n",
    "rcParams['font.family'] = 'serif'\n",
    "rcParams['font.size'] = 16\n",
    "\n",
    "import operateurs\n",
    "import operateurs_t\n",
    "import svd\n",
    "import svd_division_recursive as rd\n",
    "import svd_t\n",
    "import svd_t_tf"
   ]
  }
 ],
 "metadata": {
  "kernelspec": {
   "display_name": "Python 3",
   "language": "python",
   "name": "python3"
  },
  "language_info": {
   "codemirror_mode": {
    "name": "ipython",
    "version": 3
   },
   "file_extension": ".py",
   "mimetype": "text/x-python",
   "name": "python",
   "nbconvert_exporter": "python",
   "pygments_lexer": "ipython3",
   "version": "3.6.4"
  }
 },
 "nbformat": 4,
 "nbformat_minor": 2
}
