{
 "cells": [
  {
   "cell_type": "code",
   "execution_count": 1,
   "metadata": {
    "collapsed": true
   },
   "outputs": [],
   "source": [
    "import tensorflow as tf\n",
    "import time,numpy\n",
    "from sys import getsizeof"
   ]
  },
  {
   "cell_type": "code",
   "execution_count": 8,
   "metadata": {},
   "outputs": [
    {
     "name": "stdout",
     "output_type": "stream",
     "text": [
      "Memory allocated: 122.131 Megabytes\n"
     ]
    }
   ],
   "source": [
    "A = numpy.random.random([4001,4001])\n",
    "#print(A)\n",
    "mem = getsizeof(A)\n",
    "print(\"Memory allocated: {:.3f} Megabytes\".format(mem/1024/1024))"
   ]
  },
  {
   "cell_type": "markdown",
   "metadata": {},
   "source": [
    "## Svd"
   ]
  },
  {
   "cell_type": "markdown",
   "metadata": {},
   "source": [
    "### Numpy, cpu"
   ]
  },
  {
   "cell_type": "code",
   "execution_count": 9,
   "metadata": {},
   "outputs": [
    {
     "name": "stdout",
     "output_type": "stream",
     "text": [
      "Temps d'exécution: 38.511 secondes\n",
      "[ 2000.96558648    36.58954407    36.52638443    36.31626498    36.30581044]\n"
     ]
    }
   ],
   "source": [
    "start = time.time()\n",
    "u,s,v = numpy.linalg.svd(A)\n",
    "print(\"Temps d'exécution: {:.3f} secondes\".format(time.time()-start))\n",
    "print(s[:5])"
   ]
  },
  {
   "cell_type": "markdown",
   "metadata": {},
   "source": [
    "### Tensorflow, cpu"
   ]
  },
  {
   "cell_type": "code",
   "execution_count": 4,
   "metadata": {},
   "outputs": [
    {
     "name": "stdout",
     "output_type": "stream",
     "text": [
      "Temps d'exécution: 2.631 secondes\n",
      "[ 500.9588133    18.07021236   18.03339389   18.01782206   17.82454317]\n"
     ]
    }
   ],
   "source": [
    "sess = tf.InteractiveSession()\n",
    "sess.as_default()\n",
    "\n",
    "with tf.device('/cpu:0'):\n",
    "    s, v, u = tf.svd(A)\n",
    "\n",
    "start = time.time()\n",
    "for i in range(1):\n",
    "    res = s.eval()\n",
    "    #res = sess.run(s)\n",
    "print(\"Temps d'exécution: {:.3f} secondes\".format(time.time()-start))\n",
    "print(res[:5])"
   ]
  },
  {
   "cell_type": "markdown",
   "metadata": {},
   "source": [
    "### Tensorflow, gpu"
   ]
  },
  {
   "cell_type": "code",
   "execution_count": 5,
   "metadata": {},
   "outputs": [
    {
     "name": "stdout",
     "output_type": "stream",
     "text": [
      "Temps d'exécution: 2.607 secondes\n",
      "[ 500.9588133    18.07021236   18.03339389   18.01782206   17.82454317]\n"
     ]
    }
   ],
   "source": [
    "sess = tf.InteractiveSession()\n",
    "sess.as_default()\n",
    "\n",
    "with tf.device('/gpu:0'):\n",
    "    s, v, u = tf.svd(A)\n",
    "\n",
    "start = time.time()\n",
    "for i in range(1):\n",
    "    res = s.eval()\n",
    "    #res = sess.run(s)\n",
    "print(\"Temps d'exécution: {:.3f} secondes\".format(time.time()-start))\n",
    "print(res[:5])"
   ]
  },
  {
   "cell_type": "markdown",
   "metadata": {},
   "source": [
    "## Multiplication de matrices"
   ]
  },
  {
   "cell_type": "markdown",
   "metadata": {},
   "source": [
    "### Numpy, cpu"
   ]
  },
  {
   "cell_type": "code",
   "execution_count": 3,
   "metadata": {},
   "outputs": [
    {
     "name": "stdout",
     "output_type": "stream",
     "text": [
      "Temps d'exécution: 0.394 secondes\n",
      "[[ 495.7560973   505.31396242  484.8570708 ]\n",
      " [ 513.00679369  502.82144201  493.17051005]\n",
      " [ 499.11819616  498.39695839  488.03615586]]\n"
     ]
    }
   ],
   "source": [
    "start = time.time()\n",
    "for i in range(1):\n",
    "    B = numpy.dot(A,A)\n",
    "print(\"Temps d'exécution: {:.3f} secondes\".format(time.time()-start))\n",
    "print(B[:3,:3])"
   ]
  },
  {
   "cell_type": "markdown",
   "metadata": {},
   "source": [
    "### Tensorflow, cpu"
   ]
  },
  {
   "cell_type": "code",
   "execution_count": 9,
   "metadata": {},
   "outputs": [
    {
     "name": "stdout",
     "output_type": "stream",
     "text": [
      "Temps d'exécution: 2.635 secondes\n",
      "/job:localhost/replica:0/task:0/device:CPU:0\n",
      "/job:localhost/replica:0/task:0/device:GPU:0\n"
     ]
    }
   ],
   "source": [
    "sess = tf.InteractiveSession()\n",
    "sess.as_default()\n",
    "\n",
    "with tf.device('/cpu:0'):\n",
    "    B = tf.matmul(A,A)\n",
    "\n",
    "start = time.time()\n",
    "for i in range(1):\n",
    "    res = sess.run(B)\n",
    "print(\"Temps d'exécution: {:.3f} secondes\".format(time.time()-start))\n",
    "\n",
    "devices = sess.list_devices()\n",
    "for d in devices:\n",
    "    print(d.name)\n",
    "sess.close()"
   ]
  },
  {
   "cell_type": "markdown",
   "metadata": {},
   "source": [
    "### Tensorflow, gpu"
   ]
  },
  {
   "cell_type": "code",
   "execution_count": 8,
   "metadata": {},
   "outputs": [
    {
     "name": "stdout",
     "output_type": "stream",
     "text": [
      "Temps d'exécution: 2.522 secondes\n",
      "/job:localhost/replica:0/task:0/device:CPU:0\n",
      "/job:localhost/replica:0/task:0/device:GPU:0\n"
     ]
    }
   ],
   "source": [
    "sess = tf.InteractiveSession()\n",
    "sess.as_default()\n",
    "\n",
    "with tf.device('/gpu:0'):\n",
    "    B = tf.matmul(A,A)\n",
    "\n",
    "start = time.time()\n",
    "for i in range(1):\n",
    "    res = sess.run(B)\n",
    "print(\"Temps d'exécution: {:.3f} secondes\".format(time.time()-start))\n",
    "\n",
    "devices = sess.list_devices()\n",
    "for d in devices:\n",
    "    print(d.name)\n",
    "sess.close()"
   ]
  },
  {
   "cell_type": "code",
   "execution_count": 16,
   "metadata": {},
   "outputs": [
    {
     "name": "stdout",
     "output_type": "stream",
     "text": [
      "Temps d'exécution (gpu): 1.144 secondes\n",
      "Temps d'exécution (cpu): 0.514 secondes\n",
      "Temps d'exécution (gpu): 0.243 secondes\n",
      "/job:localhost/replica:0/task:0/device:CPU:0\n",
      "/job:localhost/replica:0/task:0/device:GPU:0\n"
     ]
    }
   ],
   "source": [
    "sess = tf.InteractiveSession()\n",
    "sess.as_default()\n",
    "\n",
    "with tf.device('/cpu:0'):\n",
    "    B_cpu = tf.matmul(A,A)\n",
    "with tf.device('/gpu:0'):\n",
    "    B_gpu = tf.matmul(A,A)\n",
    "with tf.device('/gpu:0'):\n",
    "    B_gpu2 = tf.matmul(A,A)\n",
    "    \n",
    "start = time.time()\n",
    "for i in range(1):\n",
    "    res_gpu2 = sess.run(B_gpu2)\n",
    "print(\"Temps d'exécution (gpu): {:.3f} secondes\".format(time.time()-start))\n",
    "\n",
    "start = time.time()\n",
    "for i in range(1):\n",
    "    res_cpu = sess.run(B_cpu)\n",
    "print(\"Temps d'exécution (cpu): {:.3f} secondes\".format(time.time()-start))\n",
    "\n",
    "start = time.time()\n",
    "for i in range(1):\n",
    "    res_gpu = sess.run(B_gpu)\n",
    "print(\"Temps d'exécution (gpu): {:.3f} secondes\".format(time.time()-start))\n",
    "\n",
    "devices = sess.list_devices()\n",
    "for d in devices:\n",
    "    print(d.name)\n",
    "sess.close()"
   ]
  },
  {
   "cell_type": "code",
   "execution_count": null,
   "metadata": {
    "collapsed": true
   },
   "outputs": [],
   "source": []
  },
  {
   "cell_type": "code",
   "execution_count": null,
   "metadata": {
    "collapsed": true
   },
   "outputs": [],
   "source": []
  },
  {
   "cell_type": "code",
   "execution_count": null,
   "metadata": {
    "collapsed": true
   },
   "outputs": [],
   "source": []
  },
  {
   "cell_type": "code",
   "execution_count": 3,
   "metadata": {},
   "outputs": [
    {
     "name": "stdout",
     "output_type": "stream",
     "text": [
      "WARNING:tensorflow:From /home/cedric/Coding/anaconda3/lib/python3.6/site-packages/tensorflow/python/util/tf_should_use.py:118: initialize_all_variables (from tensorflow.python.ops.variables) is deprecated and will be removed after 2017-03-02.\n",
      "Instructions for updating:\n",
      "Use `tf.global_variables_initializer` instead.\n",
      "4.624542713165283\n"
     ]
    }
   ],
   "source": [
    "import numpy as np\n",
    "import tensorflow as tf\n",
    "import time\n",
    "\n",
    "n = 4001\n",
    "X = tf.constant(np.array(np.random.randn(n,n), dtype = np.float32), dtype = tf.float32)\n",
    "Y = tf.matmul(X, tf.transpose(X))\n",
    "\n",
    "init = tf.initialize_all_variables()\n",
    "sess = tf.Session()\n",
    "sess.run(init)\n",
    "\n",
    "a = time.time()\n",
    "sess.run(Y)\n",
    "print (time.time() - a)\n",
    "sess.close()"
   ]
  },
  {
   "cell_type": "code",
   "execution_count": 3,
   "metadata": {},
   "outputs": [
    {
     "name": "stdout",
     "output_type": "stream",
     "text": [
      "3.6510424613952637\n"
     ]
    }
   ],
   "source": [
    "import numpy as np\n",
    "import tensorflow as tf\n",
    "import time\n",
    "\n",
    "size = 8001\n",
    "x = np.array(np.random.randn(size, size), dtype = np.float32)\n",
    "\n",
    "X = tf.placeholder(tf.float32, shape=(size, size), name=None)\n",
    "Y = tf.matmul(X, X)\n",
    "\n",
    "sess = tf.Session()\n",
    "\n",
    "a = time.time()\n",
    "sess.run(Y, feed_dict={X: x})\n",
    "print (time.time() - a)"
   ]
  },
  {
   "cell_type": "code",
   "execution_count": 4,
   "metadata": {},
   "outputs": [
    {
     "name": "stdout",
     "output_type": "stream",
     "text": [
      "9.242243528366089\n"
     ]
    }
   ],
   "source": [
    "import numpy as np\n",
    "import time\n",
    "np.random.seed(1)\n",
    "n = 8001\n",
    "x = np.array(np.random.randn(n,n), dtype = np.float32)\n",
    "a = time.time(); x.dot(x); print (time.time() - a)"
   ]
  },
  {
   "cell_type": "code",
   "execution_count": null,
   "metadata": {
    "collapsed": true
   },
   "outputs": [],
   "source": []
  },
  {
   "cell_type": "code",
   "execution_count": null,
   "metadata": {
    "collapsed": true
   },
   "outputs": [],
   "source": []
  },
  {
   "cell_type": "code",
   "execution_count": 13,
   "metadata": {},
   "outputs": [
    {
     "name": "stdout",
     "output_type": "stream",
     "text": [
      "[[-0.00236777-0.37338009j  0.00117791-0.0016146j  -0.00028540+0.08546534j]\n",
      " [ 0.00038913+0.15298297j -0.00156354-0.53622346j  0.00038913+0.15298297j]\n",
      " [-0.00028540+0.08546534j  0.00117791-0.0016146j  -0.00236777-0.37338009j]]\n",
      "[[-0.00236777-0.37338009j  0.00117791-0.0016146j  -0.00028540+0.08546534j]\n",
      " [ 0.00038913+0.15298297j -0.00156354-0.53622346j  0.00038913+0.15298297j]\n",
      " [-0.00028540+0.08546534j  0.00117791-0.0016146j  -0.00236777-0.37338009j]]\n"
     ]
    }
   ],
   "source": [
    "import operateurs_t\n",
    "\n",
    "def U(y,t):\n",
    "    return 1-y**2\n",
    "\n",
    "Re = 10000\n",
    "alpha = 0.6\n",
    "N = 7\n",
    "t = 30\n",
    "\n",
    "# tensorflow\n",
    "\n",
    "[a,b] = operateurs_t.buildAB_forward(Re, alpha, N, U, t)\n",
    "A = tf.placeholder(tf.complex128, shape=(N-4, N-4))\n",
    "B = tf.placeholder(tf.complex128, shape=(N-4, N-4))\n",
    "\n",
    "with tf.device('/gpu:0'):\n",
    "    B_inv = tf.matrix_inverse(B)\n",
    "    M = tf.multiply(-1j*alpha,tf.matmul(B_inv,A))\n",
    "\n",
    "sess = tf.Session()\n",
    "numpyM = sess.run(M, feed_dict={A: a, B: b})\n",
    "\n",
    "print(numpyM)\n",
    "\n",
    "# numpy\n",
    "\n",
    "[A,B] = operateurs_t.buildAB_forward(Re, alpha, N, U, t)\n",
    "B_inv = numpy.linalg.inv(B)\n",
    "M = -1j*alpha*numpy.dot(B_inv,A)\n",
    "\n",
    "print(M)"
   ]
  },
  {
   "cell_type": "code",
   "execution_count": 38,
   "metadata": {},
   "outputs": [
    {
     "name": "stdout",
     "output_type": "stream",
     "text": [
      "[[-0.00236777-0.37338009j  0.00117791-0.0016146j  -0.00028540+0.08546534j]\n",
      " [ 0.00038913+0.15298297j -0.00156354-0.53622346j  0.00038913+0.15298297j]\n",
      " [-0.00028540+0.08546534j  0.00117791-0.0016146j  -0.00236777-0.37338009j]]\n",
      "[[-0.00236777-0.37338009j  0.00117791-0.0016146j  -0.00028540+0.08546534j]\n",
      " [ 0.00038913+0.15298297j -0.00156354-0.53622346j  0.00038913+0.15298297j]\n",
      " [-0.00028540+0.08546534j  0.00117791-0.0016146j  -0.00236777-0.37338009j]]\n"
     ]
    }
   ],
   "source": [
    "import operateurs_t\n",
    "\n",
    "def U(y,t):\n",
    "    return 1-y**2\n",
    "\n",
    "Re = 10000\n",
    "alpha = 0.6\n",
    "N = 7\n",
    "t = 30\n",
    "\n",
    "# tensorflow\n",
    "def f(t,L,Re,alpha,N,U):\n",
    "    \n",
    "    [A,B] = operateurs_t.buildAB_forward(Re, alpha, N, U, t)\n",
    "    B = B*(1+0.0j)\n",
    "\n",
    "    with tf.device('/gpu:0'):\n",
    "        B_inv = tf.matrix_inverse(B)\n",
    "        M = tf.multiply(-1j*alpha,tf.matmul(B_inv,A))\n",
    "        L_new = tf.matmul(L,M)\n",
    "    \n",
    "    sess = tf.Session()\n",
    "    L_new_n = sess.run(L_new)\n",
    "    \n",
    "    return L_new_n\n",
    "\n",
    "L = numpy.eye(N-4)*(1+0.0j)\n",
    "print(f(t,L,Re,alpha,N,U))\n",
    "\n",
    "# numpy\n",
    "\n",
    "[A,B] = operateurs_t.buildAB_forward(Re, alpha, N, U, t)\n",
    "B_inv = numpy.linalg.inv(B)\n",
    "M = -1j*alpha*numpy.dot(B_inv,A)\n",
    "\n",
    "print(M)"
   ]
  },
  {
   "cell_type": "code",
   "execution_count": 4,
   "metadata": {},
   "outputs": [
    {
     "name": "stdout",
     "output_type": "stream",
     "text": [
      "[[ 2.  0.]\n",
      " [ 2.  2.]]\n"
     ]
    }
   ],
   "source": [
    "a = 2*numpy.eye(2)\n",
    "b = numpy.eye(2)\n",
    "b[1,0] = 1\n",
    "cT = tf.matmul(a,b)\n",
    "sess = tf.Session()\n",
    "c = sess.run(cT)\n",
    "print(c)"
   ]
  },
  {
   "cell_type": "code",
   "execution_count": null,
   "metadata": {
    "collapsed": true
   },
   "outputs": [],
   "source": []
  },
  {
   "cell_type": "code",
   "execution_count": null,
   "metadata": {
    "collapsed": true
   },
   "outputs": [],
   "source": []
  },
  {
   "cell_type": "code",
   "execution_count": null,
   "metadata": {
    "collapsed": true
   },
   "outputs": [],
   "source": []
  },
  {
   "cell_type": "code",
   "execution_count": null,
   "metadata": {
    "collapsed": true
   },
   "outputs": [],
   "source": [
    "import operateurs_t,scipy,numpy\n",
    "import tensorflow as tf\n",
    "\n",
    "def U(y,t):\n",
    "    return 1-y**2\n",
    "\n",
    "Re = 10000\n",
    "alpha = 0.6\n",
    "N = 41\n",
    "t_max = 0.1\n",
    "dt = 0.1\n",
    "step = 20\n",
    "\n",
    "st,t_vec = svd_tf_RK4(Re,alpha,N,t_max,dt,step,U)\n",
    "print(st)"
   ]
  },
  {
   "cell_type": "code",
   "execution_count": 1,
   "metadata": {
    "collapsed": true
   },
   "outputs": [],
   "source": [
    "def f(t,L,Re,alpha,N,U):\n",
    "    \n",
    "    [A,B] = operateurs_t.buildAB_forward(Re, alpha, N, U, t)\n",
    "    B = B*(1+0.0j)\n",
    "\n",
    "    with tf.device('/gpu:0'):\n",
    "        B_inv = tf.matrix_inverse(B)\n",
    "        M = tf.multiply(-1j*alpha,tf.matmul(B_inv,A))\n",
    "        L_new = tf.matmul(L,M)\n",
    "    \n",
    "    sess = tf.Session()\n",
    "    sess.run(L_new)\n",
    "    \n",
    "    return L_new\n",
    "\n",
    "def svd_tf_RK4(Re,alpha,N,t_max,dt,step,U):\n",
    "\n",
    "    nt = int(t_max/dt)+1\n",
    "    st = numpy.empty((int(nt/step)+1,N-4)) # valeurs singulières\n",
    "    t_vec = numpy.empty((int(nt/step)+1,1))\n",
    "\n",
    "    t = 0\n",
    "    L = scipy.eye(N-4)*(1+0.0j)\n",
    "    t_vec[0] = 0\n",
    "    st[0,:] = 1\n",
    "    \n",
    "    sess = tf.Session()\n",
    "\n",
    "    for i in range(1,nt+1):\n",
    "    \n",
    "        # La matrice L=exp(Mt) est avancé de dt dans le temps avec RK4\n",
    "        with tf.device('/gpu:0'):\n",
    "            k1 = f(t,L,Re,alpha,N,U)\n",
    "            k2 = f(t+dt/2,tf.add(L,tf.multiply(k1,1/2*(1+0.0j))),Re,alpha,N,U)\n",
    "            k3 = f(t+dt/2,tf.add(L,tf.multiply(k2,1/2*(1+0.0j))),Re,alpha,N,U)\n",
    "            k4 = f(t+dt,tf.add(L,k3),Re,alpha,N,U)\n",
    "    \n",
    "            # L = L + dt/6*(k1+2*k2+2*k3+k4)\n",
    "            temp = tf.add(k1,tf.add(tf.multiply(2+0.0j,k2),tf.add(tf.multiply(2+0.0j,k3),k4)))\n",
    "            L = tf.add(L,tf.multiply(dt/6*(1+0.0j),temp))\n",
    "    \n",
    "        t =t+dt\n",
    "        sess.run(L)\n",
    "        \n",
    "        # Calcul de svd\n",
    "        if i%step==0:\n",
    "            with tf.device('/cpu:0'):\n",
    "                s = tf.svd(L,compute_uv=False)\n",
    "            \n",
    "            index = int(i/step)\n",
    "            s_numpy = sess.run(s)\n",
    "            st[index,:] = s_numpy\n",
    "            t_vec[index] = t\n",
    "            \n",
    "    return st,t_vec"
   ]
  },
  {
   "cell_type": "code",
   "execution_count": null,
   "metadata": {
    "collapsed": true
   },
   "outputs": [],
   "source": []
  },
  {
   "cell_type": "markdown",
   "metadata": {},
   "source": [
    "### Step by step w/ tensorflow"
   ]
  },
  {
   "cell_type": "code",
   "execution_count": 2,
   "metadata": {
    "collapsed": true
   },
   "outputs": [],
   "source": [
    "import operateurs_t,scipy,numpy\n",
    "import tensorflow as tf\n",
    "\n",
    "def U(y,t):\n",
    "    return 1-y**2"
   ]
  },
  {
   "cell_type": "code",
   "execution_count": 6,
   "metadata": {},
   "outputs": [
    {
     "name": "stdout",
     "output_type": "stream",
     "text": [
      "[[ -3.31734923e-05-0.j  -3.30539101e-05-0.j  -3.29346253e-05-0.j ...,\n",
      "   -2.21896476e-07-0.j  -1.55326235e-07-0.j  -8.87573923e-08-0.j]\n",
      " [ -3.30539101e-05-0.j  -5.78446401e-05-0.j  -5.76358907e-05-0.j ...,\n",
      "   -3.88320830e-07-0.j  -2.71822310e-07-0.j  -1.55326235e-07-0.j]\n",
      " [ -3.29346253e-05-0.j  -5.76358907e-05-0.j  -8.23376748e-05-0.j ...,\n",
      "   -5.54748680e-07-0.j  -3.88320830e-07-0.j  -2.21896476e-07-0.j]\n",
      " ..., \n",
      " [ -2.21896476e-07-0.j  -3.88320830e-07-0.j  -5.54748680e-07-0.j ...,\n",
      "   -8.23376748e-05-0.j  -5.76358907e-05-0.j  -3.29346253e-05-0.j]\n",
      " [ -1.55326235e-07-0.j  -2.71822310e-07-0.j  -3.88320830e-07-0.j ...,\n",
      "   -5.76358907e-05-0.j  -5.78446401e-05-0.j  -3.30539101e-05-0.j]\n",
      " [ -8.87573923e-08-0.j  -1.55326235e-07-0.j  -2.21896476e-07-0.j ...,\n",
      "   -3.29346253e-05-0.j  -3.30539101e-05-0.j  -3.31734923e-05-0.j]]\n"
     ]
    }
   ],
   "source": [
    "Re = 10000\n",
    "alpha = 0.6\n",
    "N = 401\n",
    "t_max = 0.1\n",
    "dt = 0.1\n",
    "step = 20\n",
    "\n",
    "t = 0.1\n",
    "L = scipy.eye(N-4)*(1+0.0j)\n",
    "\n",
    "[a,b] = operateurs_t.buildAB_forward(Re, alpha, N, U, t)\n",
    "b = b*(1+0.0j)\n",
    "A = tf.placeholder(tf.complex128, shape=(N-4, N-4))\n",
    "B = tf.placeholder(tf.complex128, shape=(N-4, N-4))\n",
    "\n",
    "with tf.device('/gpu:0'):\n",
    "    B_inv = tf.matrix_inverse(B)\n",
    "    M = tf.multiply(-1j*alpha,tf.matmul(B_inv,A))\n",
    "    L_new = tf.matmul(L,M)\n",
    "    \n",
    "sess = tf.Session()\n",
    "res = sess.run(B_inv,feed_dict={A:a, B:b})\n",
    "print(res)"
   ]
  },
  {
   "cell_type": "code",
   "execution_count": 1,
   "metadata": {
    "collapsed": true
   },
   "outputs": [],
   "source": [
    "import operateurs_t,scipy,numpy\n",
    "import tensorflow as tf\n",
    "\n",
    "def U(y,t):\n",
    "    return 1-y**2\n",
    "\n",
    "Re = 10000\n",
    "alpha = 0.6\n",
    "N = 401\n",
    "t = 0.1\n",
    "\n",
    "tf.InteractiveSession()\n",
    "\n",
    "[a,b] = operateurs_t.buildAB_forward(Re, alpha, N, U, t)\n",
    "b = b *(1+0.0j)\n",
    "\n",
    "B = tf.placeholder(tf.complex128, shape=(N-4, N-4))\n",
    "#with tf.device('/gpu:0'):\n",
    "B_inv = tf.matrix_inverse(B).eval(feed_dict={B: b})"
   ]
  },
  {
   "cell_type": "code",
   "execution_count": 14,
   "metadata": {},
   "outputs": [
    {
     "data": {
      "text/plain": [
       "array([[ 1001.,  1001.,  1001., ...,  1001.,  1001.,  1001.],\n",
       "       [ 1001.,  1001.,  1001., ...,  1001.,  1001.,  1001.],\n",
       "       [ 1001.,  1001.,  1001., ...,  1001.,  1001.,  1001.],\n",
       "       ..., \n",
       "       [ 1001.,  1001.,  1001., ...,  1001.,  1001.,  1001.],\n",
       "       [ 1001.,  1001.,  1001., ...,  1001.,  1001.,  1001.],\n",
       "       [ 1001.,  1001.,  1001., ...,  1001.,  1001.,  1001.]])"
      ]
     },
     "execution_count": 14,
     "metadata": {},
     "output_type": "execute_result"
    }
   ],
   "source": [
    "import numpy\n",
    "import tensorflow as tf\n",
    "\n",
    "sess = tf.Session()\n",
    "\n",
    "N = 401\n",
    "\n",
    "a = numpy.ones((N,N))\n",
    "A = tf.placeholder(tf.float64, shape=(N, N))\n",
    "B = A\n",
    "\n",
    "for i in range(1000):\n",
    "    B = tf.add(B,A)\n",
    "    \n",
    "sess.run(B, feed_dict={A:a})"
   ]
  },
  {
   "cell_type": "code",
   "execution_count": null,
   "metadata": {
    "collapsed": true
   },
   "outputs": [],
   "source": []
  },
  {
   "cell_type": "code",
   "execution_count": null,
   "metadata": {
    "collapsed": true
   },
   "outputs": [],
   "source": []
  },
  {
   "cell_type": "code",
   "execution_count": null,
   "metadata": {
    "collapsed": true
   },
   "outputs": [],
   "source": []
  },
  {
   "cell_type": "markdown",
   "metadata": {},
   "source": [
    "### Tensorflow learning examples"
   ]
  },
  {
   "cell_type": "code",
   "execution_count": 1,
   "metadata": {
    "collapsed": true
   },
   "outputs": [],
   "source": [
    "import numpy,scipy\n",
    "import tensorflow as tf\n",
    "import operateurs_t"
   ]
  },
  {
   "cell_type": "code",
   "execution_count": 2,
   "metadata": {
    "collapsed": true
   },
   "outputs": [],
   "source": [
    "def f(t,L,Re,alpha,N,U):\n",
    "        \n",
    "    [a,b] = operateurs_t.buildAB_forward(Re, alpha, N, U, t)\n",
    "    b = b*(1+0.0j)\n",
    "    \n",
    "    A = tf.constant(a)\n",
    "    B = tf.constant(b)\n",
    "\n",
    "    with tf.device('/gpu:0'):\n",
    "        B_inv = tf.matrix_inverse(B)\n",
    "        M = tf.multiply(-1j*alpha,tf.matmul(B_inv,A))\n",
    "        L_new = tf.matmul(L,M)\n",
    "    \n",
    "    return L_new"
   ]
  },
  {
   "cell_type": "code",
   "execution_count": 3,
   "metadata": {},
   "outputs": [
    {
     "name": "stdout",
     "output_type": "stream",
     "text": [
      "[[ -2.59798293e-02-0.10731886j   1.17316878e-02-0.01615346j\n",
      "    4.59385746e-18-0.01305278j  -2.11617397e-18-0.01021932j\n",
      "   -7.57187616e-18-0.00762327j   1.53706411e-18-0.00523659j\n",
      "    5.69046347e-18-0.00303277j  -8.03205868e-18-0.00098667j\n",
      "   -6.04246893e-18+0.00092561j   1.60157849e-17+0.00272695j\n",
      "   -1.54983096e-17+0.00443932j   5.85490427e-18+0.00608393j\n",
      "   -1.49469809e-18+0.0076814j    7.52783208e-19+0.00925184j\n",
      "    1.86430763e-04+0.01081505j  -6.99115362e-04+0.01458796j]\n",
      " [ -3.17189117e-04+0.19493702j  -1.55947496e-02-0.25437177j\n",
      "    9.02500000e-03-0.02289444j  -9.28855077e-18-0.01792457j\n",
      "   -6.15669495e-18-0.01337113j  -6.83887059e-18-0.00918492j\n",
      "    2.28422758e-17-0.00531944j  -2.17614187e-17-0.00173062j\n",
      "   -5.21754408e-18+0.00162351j   2.11256278e-17+0.00478304j\n",
      "   -1.55442977e-17+0.00778652j   3.44729569e-18+0.01067115j\n",
      "   -1.10599982e-18+0.01347308j  -1.24392619e-18+0.01622762j\n",
      "    3.26997493e-04+0.01896949j  -1.22624060e-03+0.02558712j]\n",
      " [ -8.57156418e-03+0.17885692j   1.13107504e-02+0.13259891j\n",
      "   -1.80860000e-02-0.35194099j   9.02500000e-03-0.02570132j\n",
      "   -1.15270615e-17-0.01917232j  -9.61037824e-18-0.01316988j\n",
      "    3.05375766e-17-0.00762733j  -2.66060369e-17-0.00248146j\n",
      "   -1.09877978e-17+0.00232788j   2.87949207e-17+0.00685821j\n",
      "   -2.37540086e-17+0.01116478j   7.46383915e-19+0.01530094j\n",
      "    3.24793430e-19+0.01931852j  -2.13740588e-18+0.02326814j\n",
      "    4.68868589e-04+0.02719959j  -1.75825721e-03+0.03668834j]\n",
      " [ -7.83513053e-03+0.16349027j   2.08936814e-03+0.12120656j\n",
      "    9.02500000e-03+0.10368727j  -1.80860000e-02-0.43247256j\n",
      "    9.02500000e-03-0.02505j     -3.45944843e-17-0.01720738j\n",
      "    5.85555607e-17-0.00996564j  -2.92390413e-17-0.0032422j\n",
      "   -1.62361400e-17+0.00304154j   2.91843447e-17+0.00896074j\n",
      "   -3.29392076e-17+0.01458757j   7.13665139e-18+0.01999176j\n",
      "   -5.28426481e-18+0.02524101j  -3.17548182e-18+0.03040147j\n",
      "    6.12609965e-04+0.03553818j  -2.29728737e-03+0.04793591j]\n",
      " [ -7.12995058e-03+0.14877577j   1.90132015e-03+0.11029768j\n",
      "    1.16947245e-17+0.09435518j   9.02500000e-03+0.07833897j\n",
      "   -1.80860000e-02-0.49640155j   9.02500000e-03-0.02131352j\n",
      "    3.52855565e-17-0.01234371j  -2.66802923e-17-0.00401588j\n",
      "   -1.83612392e-17+0.00376733j   1.91994106e-17+0.01109901j\n",
      "   -2.76894210e-17+0.01806855j   1.18449593e-17+0.02476232j\n",
      "   -4.48536878e-18+0.03126418j  -8.42494281e-18+0.03765607j\n",
      "    7.58794992e-04+0.04401854j  -2.84548122e-03+0.0593747j ]\n",
      " [ -6.45321143e-03+0.13465472j   1.72085638e-03+0.09982878j\n",
      "    1.46499144e-17+0.08539946j  -1.53850487e-17+0.07090343j\n",
      "    9.02500000e-03+0.05615799j  -1.80860000e-02-0.54406423j\n",
      "    9.02500000e-03-0.01477102j  -1.95548188e-17-0.00480557j\n",
      "   -3.36978161e-17+0.00450815j   3.93322375e-17+0.01328155j\n",
      "   -4.38910583e-17+0.02162161j   1.54806564e-17+0.02963166j\n",
      "   -1.64743980e-18+0.03741207j  -1.20636724e-17+0.04506087j\n",
      "    9.08006792e-04+0.05267448j  -3.40502547e-03+0.07105032j]\n",
      " [ -5.80221362e-03+0.12107079j   1.54725697e-03+0.08975809j\n",
      "    6.51128613e-18+0.07678439j  -1.16034324e-17+0.06375071j\n",
      "    1.71759510e-17+0.05049279j   9.02500000e-03+0.03684354j\n",
      "   -1.80860000e-02-0.575706j     9.02500000e-03-0.00561444j\n",
      "   -2.23807050e-17+0.00526696j   2.89315163e-17+0.01551707j\n",
      "   -4.30665005e-17+0.02526091j   1.64402697e-17+0.0346192j\n",
      "    1.88114921e-18+0.04370919j  -1.87747621e-17+0.05264542j\n",
      "    1.06084056e-03+0.06154053j  -3.97815209e-03+0.08300936j]\n",
      " [ -5.17436038e-03+0.10796981j   1.37982943e-03+0.08004543j\n",
      "   -1.12411545e-17+0.06847561j   7.10304520e-18+0.0568523j\n",
      "   -9.31563558e-19+0.045029j    -1.00095060e-17+0.03285673j\n",
      "    9.02500000e-03+0.02018297j  -1.80860000e-02-0.59148725j\n",
      "    9.02500000e-03+0.00604677j   5.07524377e-17+0.01781449j\n",
      "   -5.71226528e-17+0.02900098j   2.86068944e-17+0.03974483j\n",
      "    9.49119523e-20+0.05018066j  -2.33773979e-17+0.06043997j\n",
      "    1.21790593e-03+0.07065207j  -4.56714724e-03+0.09529951j]\n",
      " [ -4.56714724e-03+0.09529951j   1.21790593e-03+0.07065207j\n",
      "    6.14220210e-18+0.06043997j  -2.30253894e-17+0.05018066j\n",
      "    2.30393877e-17+0.03974483j  -4.12557781e-17+0.02900098j\n",
      "    3.01354213e-17+0.01781449j   9.02500000e-03+0.00604677j\n",
      "   -1.80860000e-02-0.59148725j   9.02500000e-03+0.02018297j\n",
      "   -5.73418482e-17+0.03285673j   3.91631937e-17+0.045029j\n",
      "   -1.56832823e-17+0.0568523j   -6.34200655e-18+0.06847561j\n",
      "    1.37982943e-03+0.08004543j  -5.17436038e-03+0.10796981j]\n",
      " [ -3.97815209e-03+0.08300936j   1.06084056e-03+0.06154053j\n",
      "   -2.44449231e-18+0.05264542j  -1.55424685e-17+0.04370919j\n",
      "    3.40465540e-17+0.0346192j   -4.92257662e-17+0.02526091j\n",
      "    5.17033728e-17+0.01551707j  -3.27840851e-17+0.00526696j\n",
      "    9.02500000e-03-0.00561444j  -1.80860000e-02-0.575706j\n",
      "    9.02500000e-03+0.03684354j   4.95855336e-17+0.05049279j\n",
      "   -2.75666087e-17+0.06375071j  -5.78682402e-18+0.07678439j\n",
      "    1.54725697e-03+0.08975809j  -5.80221362e-03+0.12107079j]\n",
      " [ -3.40502547e-03+0.07105032j   9.08006792e-04+0.05267448j\n",
      "   -5.87123020e-18+0.04506087j  -1.57070207e-17+0.03741207j\n",
      "    3.04052173e-17+0.02963166j  -4.65169714e-17+0.02162161j\n",
      "    2.79197269e-17+0.01328155j  -1.84416690e-17+0.00450815j\n",
      "   -7.05837601e-18-0.00480557j   9.02500000e-03-0.01477102j\n",
      "   -1.80860000e-02-0.54406423j   9.02500000e-03+0.05615799j\n",
      "   -5.28525964e-17+0.07090343j   1.21588872e-17+0.08539946j\n",
      "    1.72085638e-03+0.09982878j  -6.45321143e-03+0.13465472j]\n",
      " [ -2.84548122e-03+0.0593747j    7.58794992e-04+0.04401854j\n",
      "    5.29645848e-18+0.03765607j  -2.11871255e-17+0.03126418j\n",
      "    4.14215253e-17+0.02476232j  -5.89827433e-17+0.01806855j\n",
      "    4.85339904e-17+0.01109901j  -1.96551960e-17+0.00376733j\n",
      "   -7.35323143e-18-0.00401588j   7.83336012e-18-0.01234371j\n",
      "    9.02500000e-03-0.02131352j  -1.80860000e-02-0.49640155j\n",
      "    9.02500000e-03+0.07833897j   5.04145949e-18+0.09435518j\n",
      "    1.90132015e-03+0.11029768j  -7.12995058e-03+0.14877577j]\n",
      " [ -2.29728737e-03+0.04793591j   6.12609965e-04+0.03553818j\n",
      "    9.03638805e-18+0.03040147j  -2.11436944e-17+0.02524101j\n",
      "    2.48843311e-17+0.01999176j  -4.19577436e-17+0.01458757j\n",
      "    2.72623288e-17+0.00896074j  -9.81683972e-18+0.00304154j\n",
      "   -6.40288202e-18-0.0032422j    1.12653611e-17-0.00996564j\n",
      "   -2.40545310e-17-0.01720738j   9.02500000e-03-0.02505j\n",
      "   -1.80860000e-02-0.43247256j   9.02500000e-03+0.10368727j\n",
      "    2.08936814e-03+0.12120656j  -7.83513053e-03+0.16349027j]\n",
      " [ -1.75825721e-03+0.03668834j   4.68868589e-04+0.02719959j\n",
      "    1.45953525e-17+0.02326814j  -2.28090818e-17+0.01931852j\n",
      "    2.89302787e-17+0.01530094j  -4.15010984e-17+0.01116478j\n",
      "    2.59289667e-17+0.00685821j  -2.45617072e-18+0.00232788j\n",
      "   -6.51414243e-18-0.00248146j   2.15612619e-18-0.00762733j\n",
      "   -1.22034062e-17-0.01316988j   1.17608860e-17-0.01917232j\n",
      "    9.02500000e-03-0.02570132j  -1.80860000e-02-0.35194099j\n",
      "    1.13107504e-02+0.13259891j  -8.57156418e-03+0.17885692j]\n",
      " [ -1.22624060e-03+0.02558712j   3.26997493e-04+0.01896949j\n",
      "    6.55395064e-18+0.01622762j  -1.07938235e-17+0.01347308j\n",
      "    1.77902765e-17+0.01067115j  -2.22102059e-17+0.00778652j\n",
      "    1.75479154e-17+0.00478304j  -1.09887564e-17+0.00162351j\n",
      "    5.26558027e-19-0.00173062j  -3.51445553e-18-0.00531944j\n",
      "   -1.73113804e-18-0.00918492j   1.09489803e-17-0.01337113j\n",
      "   -2.11573644e-17-0.01792457j   9.02500000e-03-0.02289444j\n",
      "   -1.55947496e-02-0.25437177j  -3.17189117e-04+0.19493702j]\n",
      " [ -6.99115362e-04+0.01458796j   1.86430763e-04+0.01081505j\n",
      "    6.64827818e-18+0.00925184j  -8.45849963e-18+0.0076814j\n",
      "    8.62128669e-18+0.00608393j  -8.84346723e-18+0.00443932j\n",
      "    7.48545259e-18+0.00272695j  -3.03643079e-18+0.00092561j\n",
      "   -3.45362409e-18-0.00098667j  -5.34819970e-19-0.00303277j\n",
      "    4.32203569e-18-0.00523659j  -5.43054109e-18-0.00762327j\n",
      "   -5.49226728e-18-0.01021932j   3.56848356e-18-0.01305278j\n",
      "    1.17316878e-02-0.01615346j  -2.59798293e-02-0.10731886j]]\n"
     ]
    }
   ],
   "source": [
    "def U(y,t):\n",
    "    return 1-y**2\n",
    "\n",
    "Re = 10000\n",
    "alpha = 0.6\n",
    "N = 20\n",
    "\n",
    "t = 0.1\n",
    "L = tf.constant(scipy.eye(N-4)*(1+0.0j))\n",
    "\n",
    "##############################\n",
    "sess = tf.Session()\n",
    "\n",
    "res = f(t,L,Re,alpha,N,U)\n",
    "print(sess.run(res))\n",
    "\n",
    "sess.close()\n",
    "##############################"
   ]
  },
  {
   "cell_type": "code",
   "execution_count": null,
   "metadata": {
    "collapsed": true
   },
   "outputs": [],
   "source": []
  },
  {
   "cell_type": "code",
   "execution_count": null,
   "metadata": {
    "collapsed": true
   },
   "outputs": [],
   "source": []
  },
  {
   "cell_type": "code",
   "execution_count": 18,
   "metadata": {},
   "outputs": [
    {
     "name": "stdout",
     "output_type": "stream",
     "text": [
      "2000\n",
      "Exécution en secondes = 3.263012647628784\n"
     ]
    }
   ],
   "source": [
    "import numpy,scipy,time\n",
    "import tensorflow as tf\n",
    "import operateurs_t\n",
    "#############################\n",
    "def f(N):\n",
    "    B = tf.constant(scipy.eye(N))\n",
    "    with tf.device('/gpu:0'):\n",
    "        #B_inv = tf.matrix_inverse(B)\n",
    "        B_inv = tf.matmul(B,B)\n",
    "        B_inv = tf.matmul(B_inv,B)\n",
    "    return B_inv\n",
    "##############################\n",
    "N = 2000\n",
    "##############################\n",
    "sess = tf.Session()\n",
    "res = f(N)\n",
    "start = time.time()\n",
    "print(len(sess.run(res)))\n",
    "print(\"Exécution en secondes =\", time.time()-start)\n",
    "sess.close()\n",
    "##############################"
   ]
  },
  {
   "cell_type": "code",
   "execution_count": 16,
   "metadata": {},
   "outputs": [
    {
     "name": "stdout",
     "output_type": "stream",
     "text": [
      "2000\n",
      "Exécution en secondes = 0.2514970302581787\n"
     ]
    }
   ],
   "source": [
    "import numpy,scipy,time\n",
    "##############################\n",
    "def f(N):\n",
    "    b = scipy.eye(N)\n",
    "    return numpy.dot(b,b)\n",
    "##############################\n",
    "N = 2000\n",
    "##############################\n",
    "start = time.time()\n",
    "print(len(f(N)))\n",
    "print(\"Exécution en secondes =\", time.time()-start)"
   ]
  },
  {
   "cell_type": "code",
   "execution_count": null,
   "metadata": {
    "collapsed": true
   },
   "outputs": [],
   "source": []
  }
 ],
 "metadata": {
  "kernelspec": {
   "display_name": "Python 3",
   "language": "python",
   "name": "python3"
  },
  "language_info": {
   "codemirror_mode": {
    "name": "ipython",
    "version": 3
   },
   "file_extension": ".py",
   "mimetype": "text/x-python",
   "name": "python",
   "nbconvert_exporter": "python",
   "pygments_lexer": "ipython3",
   "version": "3.6.2"
  }
 },
 "nbformat": 4,
 "nbformat_minor": 2
}
