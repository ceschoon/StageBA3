{
 "cells": [
  {
   "cell_type": "code",
   "execution_count": 1,
   "metadata": {
    "collapsed": true
   },
   "outputs": [],
   "source": [
    "import tensorflow as tf\n",
    "import time,numpy\n",
    "from sys import getsizeof"
   ]
  },
  {
   "cell_type": "code",
   "execution_count": 2,
   "metadata": {},
   "outputs": [
    {
     "name": "stdout",
     "output_type": "stream",
     "text": [
      "Memory allocated: 30.548 Megabytes\n"
     ]
    }
   ],
   "source": [
    "A = numpy.random.random([2001,2001])\n",
    "#print(A)\n",
    "mem = getsizeof(A)\n",
    "print(\"Memory allocated: {:.3f} Megabytes\".format(mem/1024/1024))"
   ]
  },
  {
   "cell_type": "markdown",
   "metadata": {},
   "source": [
    "## Svd"
   ]
  },
  {
   "cell_type": "markdown",
   "metadata": {},
   "source": [
    "### Numpy, cpu"
   ]
  },
  {
   "cell_type": "code",
   "execution_count": 3,
   "metadata": {},
   "outputs": [
    {
     "name": "stdout",
     "output_type": "stream",
     "text": [
      "Temps d'exécution: 0.769 secondes\n",
      "[ 500.9588133    18.07021236   18.03339389   18.01782206   17.82454317]\n"
     ]
    }
   ],
   "source": [
    "start = time.time()\n",
    "u,s,v = numpy.linalg.svd(A)\n",
    "print(\"Temps d'exécution: {:.3f} secondes\".format(time.time()-start))\n",
    "print(s[:5])"
   ]
  },
  {
   "cell_type": "markdown",
   "metadata": {},
   "source": [
    "### Tensorflow, cpu"
   ]
  },
  {
   "cell_type": "code",
   "execution_count": 4,
   "metadata": {},
   "outputs": [
    {
     "name": "stdout",
     "output_type": "stream",
     "text": [
      "Temps d'exécution: 2.631 secondes\n",
      "[ 500.9588133    18.07021236   18.03339389   18.01782206   17.82454317]\n"
     ]
    }
   ],
   "source": [
    "sess = tf.InteractiveSession()\n",
    "sess.as_default()\n",
    "\n",
    "with tf.device('/cpu:0'):\n",
    "    s, v, u = tf.svd(A)\n",
    "\n",
    "start = time.time()\n",
    "for i in range(1):\n",
    "    res = s.eval()\n",
    "    #res = sess.run(s)\n",
    "print(\"Temps d'exécution: {:.3f} secondes\".format(time.time()-start))\n",
    "print(res[:5])"
   ]
  },
  {
   "cell_type": "markdown",
   "metadata": {},
   "source": [
    "### Tensorflow, gpu"
   ]
  },
  {
   "cell_type": "code",
   "execution_count": 5,
   "metadata": {},
   "outputs": [
    {
     "name": "stdout",
     "output_type": "stream",
     "text": [
      "Temps d'exécution: 2.607 secondes\n",
      "[ 500.9588133    18.07021236   18.03339389   18.01782206   17.82454317]\n"
     ]
    }
   ],
   "source": [
    "sess = tf.InteractiveSession()\n",
    "sess.as_default()\n",
    "\n",
    "with tf.device('/gpu:0'):\n",
    "    s, v, u = tf.svd(A)\n",
    "\n",
    "start = time.time()\n",
    "for i in range(1):\n",
    "    res = s.eval()\n",
    "    #res = sess.run(s)\n",
    "print(\"Temps d'exécution: {:.3f} secondes\".format(time.time()-start))\n",
    "print(res[:5])"
   ]
  },
  {
   "cell_type": "markdown",
   "metadata": {},
   "source": [
    "## Multiplication de matrices"
   ]
  },
  {
   "cell_type": "markdown",
   "metadata": {},
   "source": [
    "### Numpy, cpu"
   ]
  },
  {
   "cell_type": "code",
   "execution_count": 3,
   "metadata": {},
   "outputs": [
    {
     "name": "stdout",
     "output_type": "stream",
     "text": [
      "Temps d'exécution: 0.394 secondes\n",
      "[[ 495.7560973   505.31396242  484.8570708 ]\n",
      " [ 513.00679369  502.82144201  493.17051005]\n",
      " [ 499.11819616  498.39695839  488.03615586]]\n"
     ]
    }
   ],
   "source": [
    "start = time.time()\n",
    "for i in range(1):\n",
    "    B = numpy.dot(A,A)\n",
    "print(\"Temps d'exécution: {:.3f} secondes\".format(time.time()-start))\n",
    "print(B[:3,:3])"
   ]
  },
  {
   "cell_type": "markdown",
   "metadata": {},
   "source": [
    "### Tensorflow, cpu"
   ]
  },
  {
   "cell_type": "code",
   "execution_count": 9,
   "metadata": {},
   "outputs": [
    {
     "name": "stdout",
     "output_type": "stream",
     "text": [
      "Temps d'exécution: 2.635 secondes\n",
      "/job:localhost/replica:0/task:0/device:CPU:0\n",
      "/job:localhost/replica:0/task:0/device:GPU:0\n"
     ]
    }
   ],
   "source": [
    "sess = tf.InteractiveSession()\n",
    "sess.as_default()\n",
    "\n",
    "with tf.device('/cpu:0'):\n",
    "    B = tf.matmul(A,A)\n",
    "\n",
    "start = time.time()\n",
    "for i in range(1):\n",
    "    res = sess.run(B)\n",
    "print(\"Temps d'exécution: {:.3f} secondes\".format(time.time()-start))\n",
    "\n",
    "devices = sess.list_devices()\n",
    "for d in devices:\n",
    "    print(d.name)\n",
    "sess.close()"
   ]
  },
  {
   "cell_type": "markdown",
   "metadata": {},
   "source": [
    "### Tensorflow, gpu"
   ]
  },
  {
   "cell_type": "code",
   "execution_count": 8,
   "metadata": {},
   "outputs": [
    {
     "name": "stdout",
     "output_type": "stream",
     "text": [
      "Temps d'exécution: 2.522 secondes\n",
      "/job:localhost/replica:0/task:0/device:CPU:0\n",
      "/job:localhost/replica:0/task:0/device:GPU:0\n"
     ]
    }
   ],
   "source": [
    "sess = tf.InteractiveSession()\n",
    "sess.as_default()\n",
    "\n",
    "with tf.device('/gpu:0'):\n",
    "    B = tf.matmul(A,A)\n",
    "\n",
    "start = time.time()\n",
    "for i in range(1):\n",
    "    res = sess.run(B)\n",
    "print(\"Temps d'exécution: {:.3f} secondes\".format(time.time()-start))\n",
    "\n",
    "devices = sess.list_devices()\n",
    "for d in devices:\n",
    "    print(d.name)\n",
    "sess.close()"
   ]
  },
  {
   "cell_type": "code",
   "execution_count": 16,
   "metadata": {},
   "outputs": [
    {
     "name": "stdout",
     "output_type": "stream",
     "text": [
      "Temps d'exécution (gpu): 1.144 secondes\n",
      "Temps d'exécution (cpu): 0.514 secondes\n",
      "Temps d'exécution (gpu): 0.243 secondes\n",
      "/job:localhost/replica:0/task:0/device:CPU:0\n",
      "/job:localhost/replica:0/task:0/device:GPU:0\n"
     ]
    }
   ],
   "source": [
    "sess = tf.InteractiveSession()\n",
    "sess.as_default()\n",
    "\n",
    "with tf.device('/cpu:0'):\n",
    "    B_cpu = tf.matmul(A,A)\n",
    "with tf.device('/gpu:0'):\n",
    "    B_gpu = tf.matmul(A,A)\n",
    "with tf.device('/gpu:0'):\n",
    "    B_gpu2 = tf.matmul(A,A)\n",
    "    \n",
    "start = time.time()\n",
    "for i in range(1):\n",
    "    res_gpu2 = sess.run(B_gpu2)\n",
    "print(\"Temps d'exécution (gpu): {:.3f} secondes\".format(time.time()-start))\n",
    "\n",
    "start = time.time()\n",
    "for i in range(1):\n",
    "    res_cpu = sess.run(B_cpu)\n",
    "print(\"Temps d'exécution (cpu): {:.3f} secondes\".format(time.time()-start))\n",
    "\n",
    "start = time.time()\n",
    "for i in range(1):\n",
    "    res_gpu = sess.run(B_gpu)\n",
    "print(\"Temps d'exécution (gpu): {:.3f} secondes\".format(time.time()-start))\n",
    "\n",
    "devices = sess.list_devices()\n",
    "for d in devices:\n",
    "    print(d.name)\n",
    "sess.close()"
   ]
  },
  {
   "cell_type": "code",
   "execution_count": null,
   "metadata": {
    "collapsed": true
   },
   "outputs": [],
   "source": []
  },
  {
   "cell_type": "code",
   "execution_count": null,
   "metadata": {
    "collapsed": true
   },
   "outputs": [],
   "source": []
  },
  {
   "cell_type": "code",
   "execution_count": null,
   "metadata": {
    "collapsed": true
   },
   "outputs": [],
   "source": []
  },
  {
   "cell_type": "code",
   "execution_count": 3,
   "metadata": {},
   "outputs": [
    {
     "name": "stdout",
     "output_type": "stream",
     "text": [
      "WARNING:tensorflow:From /home/cedric/Coding/anaconda3/lib/python3.6/site-packages/tensorflow/python/util/tf_should_use.py:118: initialize_all_variables (from tensorflow.python.ops.variables) is deprecated and will be removed after 2017-03-02.\n",
      "Instructions for updating:\n",
      "Use `tf.global_variables_initializer` instead.\n",
      "4.624542713165283\n"
     ]
    }
   ],
   "source": [
    "import numpy as np\n",
    "import tensorflow as tf\n",
    "import time\n",
    "\n",
    "n = 4001\n",
    "X = tf.constant(np.array(np.random.randn(n,n), dtype = np.float32), dtype = tf.float32)\n",
    "Y = tf.matmul(X, tf.transpose(X))\n",
    "\n",
    "init = tf.initialize_all_variables()\n",
    "sess = tf.Session()\n",
    "sess.run(init)\n",
    "\n",
    "a = time.time()\n",
    "sess.run(Y)\n",
    "print (time.time() - a)\n",
    "sess.close()"
   ]
  },
  {
   "cell_type": "code",
   "execution_count": 3,
   "metadata": {},
   "outputs": [
    {
     "name": "stdout",
     "output_type": "stream",
     "text": [
      "3.6510424613952637\n"
     ]
    }
   ],
   "source": [
    "import numpy as np\n",
    "import tensorflow as tf\n",
    "import time\n",
    "\n",
    "size = 8001\n",
    "x = np.array(np.random.randn(size, size), dtype = np.float32)\n",
    "\n",
    "X = tf.placeholder(tf.float32, shape=(size, size), name=None)\n",
    "Y = tf.matmul(X, X)\n",
    "\n",
    "sess = tf.Session()\n",
    "\n",
    "a = time.time()\n",
    "sess.run(Y, feed_dict={X: x})\n",
    "print (time.time() - a)"
   ]
  },
  {
   "cell_type": "code",
   "execution_count": 4,
   "metadata": {},
   "outputs": [
    {
     "name": "stdout",
     "output_type": "stream",
     "text": [
      "9.242243528366089\n"
     ]
    }
   ],
   "source": [
    "import numpy as np\n",
    "import time\n",
    "np.random.seed(1)\n",
    "n = 8001\n",
    "x = np.array(np.random.randn(n,n), dtype = np.float32)\n",
    "a = time.time(); x.dot(x); print (time.time() - a)"
   ]
  },
  {
   "cell_type": "code",
   "execution_count": null,
   "metadata": {
    "collapsed": true
   },
   "outputs": [],
   "source": []
  }
 ],
 "metadata": {
  "kernelspec": {
   "display_name": "Python 3",
   "language": "python",
   "name": "python3"
  },
  "language_info": {
   "codemirror_mode": {
    "name": "ipython",
    "version": 3
   },
   "file_extension": ".py",
   "mimetype": "text/x-python",
   "name": "python",
   "nbconvert_exporter": "python",
   "pygments_lexer": "ipython3",
   "version": "3.6.2"
  }
 },
 "nbformat": 4,
 "nbformat_minor": 2
}
