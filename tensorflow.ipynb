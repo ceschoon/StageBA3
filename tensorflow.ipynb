{
 "cells": [
  {
   "cell_type": "code",
   "execution_count": 1,
   "metadata": {},
   "outputs": [],
   "source": [
    "import tensorflow as tf\n",
    "import time,numpy\n",
    "from sys import getsizeof"
   ]
  },
  {
   "cell_type": "code",
   "execution_count": 2,
   "metadata": {},
   "outputs": [
    {
     "name": "stdout",
     "output_type": "stream",
     "text": [
      "Memory allocated: 7.645 Megabytes\n"
     ]
    }
   ],
   "source": [
    "A = numpy.random.random([1001,1001])\n",
    "#print(A)\n",
    "mem = getsizeof(A)\n",
    "print(\"Memory allocated: {:.3f} Megabytes\".format(mem/1024/1024))"
   ]
  },
  {
   "cell_type": "code",
   "execution_count": 3,
   "metadata": {},
   "outputs": [
    {
     "name": "stdout",
     "output_type": "stream",
     "text": [
      "[ 500.6884094    18.11314618   17.95         17.92224484   17.85145701]\n",
      "Temps d'exécution: 0.796 secondes\n"
     ]
    }
   ],
   "source": [
    "start = time.time()\n",
    "\n",
    "u,s,v = numpy.linalg.svd(A)\n",
    "print(s[:5])\n",
    "\n",
    "print(\"Temps d'exécution: {:.3f} secondes\".format(time.time()-start))"
   ]
  },
  {
   "cell_type": "code",
   "execution_count": null,
   "metadata": {},
   "outputs": [],
   "source": [
    "# Create a new interactive session\n",
    "sess = tf.InteractiveSession()\n",
    "sess.as_default()\n",
    "\n",
    "# Initialise operations\n",
    "with tf.device('/gpu:0'):\n",
    "    s, v, u = tf.svd(A)\n",
    "    #B = tf.matmul(A,A)\n",
    "\n",
    "# Compute\n",
    "start = time.time()\n",
    "\n",
    "for i in range(1):\n",
    "    res = sess.run(s)\n",
    "    #res = sess.run(B)\n",
    "\n",
    "print(\"Temps d'exécution: {:.3f} secondes\".format(time.time()-start))"
   ]
  },
  {
   "cell_type": "code",
   "execution_count": null,
   "metadata": {
    "collapsed": true
   },
   "outputs": [],
   "source": [
    "start = time.time()\n",
    "\n",
    "# Creates a graph.\n",
    "with tf.device('/gpu:0'):\n",
    "  #a = tf.constant(A, shape=A.shape, name='a')\n",
    "  #b = tf.constant(A, shape=A.shape, name='b')\n",
    "  #b = tf.constant([1.0, 2.0, 3.0, 4.0, 5.0, 6.0], shape=[3, 2], name='b')\n",
    "  s,u,v = tf.svd(A)\n",
    "# Creates a session with log_device_placement set to True.\n",
    "sess = tf.Session(config=tf.ConfigProto(log_device_placement=True))\n",
    "# Runs the op.\n",
    "print(sess.run(s))\n",
    "\n",
    "print(\"Temps d'exécution: {:.3f} secondes\".format(time.time()-start))"
   ]
  },
  {
   "cell_type": "code",
   "execution_count": null,
   "metadata": {
    "collapsed": true
   },
   "outputs": [],
   "source": [
    "device_lib.list_local_devices()"
   ]
  },
  {
   "cell_type": "code",
   "execution_count": null,
   "metadata": {
    "collapsed": true
   },
   "outputs": [],
   "source": []
  }
 ],
 "metadata": {
  "kernelspec": {
   "display_name": "Python 3",
   "language": "python",
   "name": "python3"
  },
  "language_info": {
   "codemirror_mode": {
    "name": "ipython",
    "version": 3
   },
   "file_extension": ".py",
   "mimetype": "text/x-python",
   "name": "python",
   "nbconvert_exporter": "python",
   "pygments_lexer": "ipython3",
   "version": "3.6.2"
  }
 },
 "nbformat": 4,
 "nbformat_minor": 2
}
