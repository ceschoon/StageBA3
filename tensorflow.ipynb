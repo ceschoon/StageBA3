{
 "cells": [
  {
   "cell_type": "code",
   "execution_count": null,
   "metadata": {},
   "outputs": [],
   "source": [
    "import tensorflow as tf\n",
    "import time,numpy\n",
    "from sys import getsizeof"
   ]
  },
  {
   "cell_type": "code",
   "execution_count": null,
   "metadata": {},
   "outputs": [],
   "source": [
    "A = numpy.random.random([4001,4001])\n",
    "#print(A)\n",
    "mem = getsizeof(A)\n",
    "print(\"Memory allocated: {:.3f} Megabytes\".format(mem/1024/1024))"
   ]
  },
  {
   "cell_type": "markdown",
   "metadata": {},
   "source": [
    "## Svd"
   ]
  },
  {
   "cell_type": "markdown",
   "metadata": {},
   "source": [
    "### Numpy, cpu"
   ]
  },
  {
   "cell_type": "code",
   "execution_count": null,
   "metadata": {},
   "outputs": [],
   "source": [
    "start = time.time()\n",
    "u,s,v = numpy.linalg.svd(A)\n",
    "print(\"Temps d'exécution: {:.3f} secondes\".format(time.time()-start))\n",
    "print(s[:5])"
   ]
  },
  {
   "cell_type": "markdown",
   "metadata": {},
   "source": [
    "### Tensorflow, cpu"
   ]
  },
  {
   "cell_type": "code",
   "execution_count": null,
   "metadata": {},
   "outputs": [],
   "source": [
    "sess = tf.InteractiveSession()\n",
    "sess.as_default()\n",
    "\n",
    "with tf.device('/cpu:0'):\n",
    "    s, v, u = tf.svd(A)\n",
    "\n",
    "start = time.time()\n",
    "for i in range(1):\n",
    "    res = s.eval()\n",
    "    #res = sess.run(s)\n",
    "print(\"Temps d'exécution: {:.3f} secondes\".format(time.time()-start))\n",
    "print(res[:5])"
   ]
  },
  {
   "cell_type": "markdown",
   "metadata": {},
   "source": [
    "### Tensorflow, gpu"
   ]
  },
  {
   "cell_type": "code",
   "execution_count": null,
   "metadata": {},
   "outputs": [],
   "source": [
    "sess = tf.InteractiveSession()\n",
    "sess.as_default()\n",
    "\n",
    "with tf.device('/gpu:0'):\n",
    "    s, v, u = tf.svd(A)\n",
    "\n",
    "start = time.time()\n",
    "for i in range(1):\n",
    "    res = s.eval()\n",
    "    #res = sess.run(s)\n",
    "print(\"Temps d'exécution: {:.3f} secondes\".format(time.time()-start))\n",
    "print(res[:5])"
   ]
  },
  {
   "cell_type": "markdown",
   "metadata": {},
   "source": [
    "## Multiplication de matrices"
   ]
  },
  {
   "cell_type": "markdown",
   "metadata": {},
   "source": [
    "### Numpy, cpu"
   ]
  },
  {
   "cell_type": "code",
   "execution_count": null,
   "metadata": {},
   "outputs": [],
   "source": [
    "start = time.time()\n",
    "for i in range(1):\n",
    "    B = numpy.dot(A,A)\n",
    "print(\"Temps d'exécution: {:.3f} secondes\".format(time.time()-start))\n",
    "print(B[:3,:3])"
   ]
  },
  {
   "cell_type": "markdown",
   "metadata": {},
   "source": [
    "### Tensorflow, cpu"
   ]
  },
  {
   "cell_type": "code",
   "execution_count": null,
   "metadata": {},
   "outputs": [],
   "source": [
    "sess = tf.InteractiveSession()\n",
    "sess.as_default()\n",
    "\n",
    "with tf.device('/cpu:0'):\n",
    "    B = tf.matmul(A,A)\n",
    "\n",
    "start = time.time()\n",
    "for i in range(1):\n",
    "    res = sess.run(B)\n",
    "print(\"Temps d'exécution: {:.3f} secondes\".format(time.time()-start))\n",
    "\n",
    "devices = sess.list_devices()\n",
    "for d in devices:\n",
    "    print(d.name)\n",
    "sess.close()"
   ]
  },
  {
   "cell_type": "markdown",
   "metadata": {},
   "source": [
    "### Tensorflow, gpu"
   ]
  },
  {
   "cell_type": "code",
   "execution_count": null,
   "metadata": {},
   "outputs": [],
   "source": [
    "sess = tf.InteractiveSession()\n",
    "sess.as_default()\n",
    "\n",
    "with tf.device('/gpu:0'):\n",
    "    B = tf.matmul(A,A)\n",
    "\n",
    "start = time.time()\n",
    "for i in range(1):\n",
    "    res = sess.run(B)\n",
    "print(\"Temps d'exécution: {:.3f} secondes\".format(time.time()-start))\n",
    "\n",
    "devices = sess.list_devices()\n",
    "for d in devices:\n",
    "    print(d.name)\n",
    "sess.close()"
   ]
  },
  {
   "cell_type": "code",
   "execution_count": null,
   "metadata": {},
   "outputs": [],
   "source": [
    "sess = tf.InteractiveSession()\n",
    "sess.as_default()\n",
    "\n",
    "with tf.device('/cpu:0'):\n",
    "    B_cpu = tf.matmul(A,A)\n",
    "with tf.device('/gpu:0'):\n",
    "    B_gpu = tf.matmul(A,A)\n",
    "with tf.device('/gpu:0'):\n",
    "    B_gpu2 = tf.matmul(A,A)\n",
    "    \n",
    "start = time.time()\n",
    "for i in range(1):\n",
    "    res_gpu2 = sess.run(B_gpu2)\n",
    "print(\"Temps d'exécution (gpu): {:.3f} secondes\".format(time.time()-start))\n",
    "\n",
    "start = time.time()\n",
    "for i in range(1):\n",
    "    res_cpu = sess.run(B_cpu)\n",
    "print(\"Temps d'exécution (cpu): {:.3f} secondes\".format(time.time()-start))\n",
    "\n",
    "start = time.time()\n",
    "for i in range(1):\n",
    "    res_gpu = sess.run(B_gpu)\n",
    "print(\"Temps d'exécution (gpu): {:.3f} secondes\".format(time.time()-start))\n",
    "\n",
    "devices = sess.list_devices()\n",
    "for d in devices:\n",
    "    print(d.name)\n",
    "sess.close()"
   ]
  },
  {
   "cell_type": "code",
   "execution_count": null,
   "metadata": {},
   "outputs": [],
   "source": []
  },
  {
   "cell_type": "code",
   "execution_count": null,
   "metadata": {},
   "outputs": [],
   "source": []
  },
  {
   "cell_type": "code",
   "execution_count": null,
   "metadata": {},
   "outputs": [],
   "source": []
  },
  {
   "cell_type": "code",
   "execution_count": null,
   "metadata": {},
   "outputs": [],
   "source": [
    "import numpy as np\n",
    "import tensorflow as tf\n",
    "import time\n",
    "\n",
    "n = 4001\n",
    "X = tf.constant(np.array(np.random.randn(n,n), dtype = np.float32), dtype = tf.float32)\n",
    "Y = tf.matmul(X, tf.transpose(X))\n",
    "\n",
    "init = tf.initialize_all_variables()\n",
    "sess = tf.Session()\n",
    "sess.run(init)\n",
    "\n",
    "a = time.time()\n",
    "sess.run(Y)\n",
    "print (time.time() - a)\n",
    "sess.close()"
   ]
  },
  {
   "cell_type": "code",
   "execution_count": null,
   "metadata": {},
   "outputs": [],
   "source": [
    "import numpy as np\n",
    "import tensorflow as tf\n",
    "import time\n",
    "\n",
    "size = 8001\n",
    "x = np.array(np.random.randn(size, size), dtype = np.float32)\n",
    "\n",
    "X = tf.placeholder(tf.float32, shape=(size, size), name=None)\n",
    "Y = tf.matmul(X, X)\n",
    "\n",
    "sess = tf.Session()\n",
    "\n",
    "a = time.time()\n",
    "sess.run(Y, feed_dict={X: x})\n",
    "print (time.time() - a)"
   ]
  },
  {
   "cell_type": "code",
   "execution_count": null,
   "metadata": {},
   "outputs": [],
   "source": [
    "import numpy as np\n",
    "import time\n",
    "np.random.seed(1)\n",
    "n = 8001\n",
    "x = np.array(np.random.randn(n,n), dtype = np.float32)\n",
    "a = time.time(); x.dot(x); print (time.time() - a)"
   ]
  },
  {
   "cell_type": "code",
   "execution_count": null,
   "metadata": {},
   "outputs": [],
   "source": []
  },
  {
   "cell_type": "code",
   "execution_count": null,
   "metadata": {},
   "outputs": [],
   "source": []
  },
  {
   "cell_type": "code",
   "execution_count": null,
   "metadata": {},
   "outputs": [],
   "source": [
    "import operateurs_t\n",
    "\n",
    "def U(y,t):\n",
    "    return 1-y**2\n",
    "\n",
    "Re = 10000\n",
    "alpha = 0.6\n",
    "N = 7\n",
    "t = 30\n",
    "\n",
    "# tensorflow\n",
    "\n",
    "[a,b] = operateurs_t.buildAB_forward(Re, alpha, N, U, t)\n",
    "A = tf.placeholder(tf.complex128, shape=(N-4, N-4))\n",
    "B = tf.placeholder(tf.complex128, shape=(N-4, N-4))\n",
    "\n",
    "with tf.device('/gpu:0'):\n",
    "    B_inv = tf.matrix_inverse(B)\n",
    "    M = tf.multiply(-1j*alpha,tf.matmul(B_inv,A))\n",
    "\n",
    "sess = tf.Session()\n",
    "numpyM = sess.run(M, feed_dict={A: a, B: b})\n",
    "\n",
    "print(numpyM)\n",
    "\n",
    "# numpy\n",
    "\n",
    "[A,B] = operateurs_t.buildAB_forward(Re, alpha, N, U, t)\n",
    "B_inv = numpy.linalg.inv(B)\n",
    "M = -1j*alpha*numpy.dot(B_inv,A)\n",
    "\n",
    "print(M)"
   ]
  },
  {
   "cell_type": "code",
   "execution_count": null,
   "metadata": {},
   "outputs": [],
   "source": [
    "import operateurs_t\n",
    "\n",
    "def U(y,t):\n",
    "    return 1-y**2\n",
    "\n",
    "Re = 10000\n",
    "alpha = 0.6\n",
    "N = 7\n",
    "t = 30\n",
    "\n",
    "# tensorflow\n",
    "def f(t,L,Re,alpha,N,U):\n",
    "    \n",
    "    [A,B] = operateurs_t.buildAB_forward(Re, alpha, N, U, t)\n",
    "    B = B*(1+0.0j)\n",
    "\n",
    "    with tf.device('/gpu:0'):\n",
    "        B_inv = tf.matrix_inverse(B)\n",
    "        M = tf.multiply(-1j*alpha,tf.matmul(B_inv,A))\n",
    "        L_new = tf.matmul(L,M)\n",
    "    \n",
    "    sess = tf.Session()\n",
    "    L_new_n = sess.run(L_new)\n",
    "    \n",
    "    return L_new_n\n",
    "\n",
    "L = numpy.eye(N-4)*(1+0.0j)\n",
    "print(f(t,L,Re,alpha,N,U))\n",
    "\n",
    "# numpy\n",
    "\n",
    "[A,B] = operateurs_t.buildAB_forward(Re, alpha, N, U, t)\n",
    "B_inv = numpy.linalg.inv(B)\n",
    "M = -1j*alpha*numpy.dot(B_inv,A)\n",
    "\n",
    "print(M)"
   ]
  },
  {
   "cell_type": "code",
   "execution_count": null,
   "metadata": {},
   "outputs": [],
   "source": [
    "a = 2*numpy.eye(2)\n",
    "b = numpy.eye(2)\n",
    "b[1,0] = 1\n",
    "cT = tf.matmul(a,b)\n",
    "sess = tf.Session()\n",
    "c = sess.run(cT)\n",
    "print(c)"
   ]
  },
  {
   "cell_type": "code",
   "execution_count": null,
   "metadata": {},
   "outputs": [],
   "source": []
  },
  {
   "cell_type": "code",
   "execution_count": null,
   "metadata": {},
   "outputs": [],
   "source": []
  },
  {
   "cell_type": "code",
   "execution_count": null,
   "metadata": {},
   "outputs": [],
   "source": []
  },
  {
   "cell_type": "code",
   "execution_count": null,
   "metadata": {},
   "outputs": [],
   "source": [
    "import operateurs_t,scipy,numpy\n",
    "import tensorflow as tf\n",
    "\n",
    "def U(y,t):\n",
    "    return 1-y**2\n",
    "\n",
    "Re = 10000\n",
    "alpha = 0.6\n",
    "N = 41\n",
    "t_max = 0.1\n",
    "dt = 0.1\n",
    "step = 20\n",
    "\n",
    "st,t_vec = svd_tf_RK4(Re,alpha,N,t_max,dt,step,U)\n",
    "print(st)"
   ]
  },
  {
   "cell_type": "code",
   "execution_count": null,
   "metadata": {},
   "outputs": [],
   "source": [
    "def f(t,L,Re,alpha,N,U):\n",
    "    \n",
    "    [A,B] = operateurs_t.buildAB_forward(Re, alpha, N, U, t)\n",
    "    B = B*(1+0.0j)\n",
    "\n",
    "    with tf.device('/gpu:0'):\n",
    "        B_inv = tf.matrix_inverse(B)\n",
    "        M = tf.multiply(-1j*alpha,tf.matmul(B_inv,A))\n",
    "        L_new = tf.matmul(L,M)\n",
    "    \n",
    "    sess = tf.Session()\n",
    "    sess.run(L_new)\n",
    "    \n",
    "    return L_new\n",
    "\n",
    "def svd_tf_RK4(Re,alpha,N,t_max,dt,step,U):\n",
    "\n",
    "    nt = int(t_max/dt)+1\n",
    "    st = numpy.empty((int(nt/step)+1,N-4)) # valeurs singulières\n",
    "    t_vec = numpy.empty((int(nt/step)+1,1))\n",
    "\n",
    "    t = 0\n",
    "    L = scipy.eye(N-4)*(1+0.0j)\n",
    "    t_vec[0] = 0\n",
    "    st[0,:] = 1\n",
    "    \n",
    "    sess = tf.Session()\n",
    "\n",
    "    for i in range(1,nt+1):\n",
    "    \n",
    "        # La matrice L=exp(Mt) est avancé de dt dans le temps avec RK4\n",
    "        with tf.device('/gpu:0'):\n",
    "            k1 = f(t,L,Re,alpha,N,U)\n",
    "            k2 = f(t+dt/2,tf.add(L,tf.multiply(k1,1/2*(1+0.0j))),Re,alpha,N,U)\n",
    "            k3 = f(t+dt/2,tf.add(L,tf.multiply(k2,1/2*(1+0.0j))),Re,alpha,N,U)\n",
    "            k4 = f(t+dt,tf.add(L,k3),Re,alpha,N,U)\n",
    "    \n",
    "            # L = L + dt/6*(k1+2*k2+2*k3+k4)\n",
    "            temp = tf.add(k1,tf.add(tf.multiply(2+0.0j,k2),tf.add(tf.multiply(2+0.0j,k3),k4)))\n",
    "            L = tf.add(L,tf.multiply(dt/6*(1+0.0j),temp))\n",
    "    \n",
    "        t =t+dt\n",
    "        sess.run(L)\n",
    "        \n",
    "        # Calcul de svd\n",
    "        if i%step==0:\n",
    "            with tf.device('/cpu:0'):\n",
    "                s = tf.svd(L,compute_uv=False)\n",
    "            \n",
    "            index = int(i/step)\n",
    "            s_numpy = sess.run(s)\n",
    "            st[index,:] = s_numpy\n",
    "            t_vec[index] = t\n",
    "            \n",
    "    return st,t_vec"
   ]
  },
  {
   "cell_type": "code",
   "execution_count": null,
   "metadata": {},
   "outputs": [],
   "source": []
  },
  {
   "cell_type": "markdown",
   "metadata": {},
   "source": [
    "### Step by step w/ tensorflow"
   ]
  },
  {
   "cell_type": "code",
   "execution_count": null,
   "metadata": {},
   "outputs": [],
   "source": [
    "import operateurs_t,scipy,numpy\n",
    "import tensorflow as tf\n",
    "\n",
    "def U(y,t):\n",
    "    return 1-y**2"
   ]
  },
  {
   "cell_type": "code",
   "execution_count": null,
   "metadata": {},
   "outputs": [],
   "source": [
    "Re = 10000\n",
    "alpha = 0.6\n",
    "N = 401\n",
    "t_max = 0.1\n",
    "dt = 0.1\n",
    "step = 20\n",
    "\n",
    "t = 0.1\n",
    "L = scipy.eye(N-4)*(1+0.0j)\n",
    "\n",
    "[a,b] = operateurs_t.buildAB_forward(Re, alpha, N, U, t)\n",
    "b = b*(1+0.0j)\n",
    "A = tf.placeholder(tf.complex128, shape=(N-4, N-4))\n",
    "B = tf.placeholder(tf.complex128, shape=(N-4, N-4))\n",
    "\n",
    "with tf.device('/gpu:0'):\n",
    "    B_inv = tf.matrix_inverse(B)\n",
    "    M = tf.multiply(-1j*alpha,tf.matmul(B_inv,A))\n",
    "    L_new = tf.matmul(L,M)\n",
    "    \n",
    "sess = tf.Session()\n",
    "res = sess.run(B_inv,feed_dict={A:a, B:b})\n",
    "print(res)"
   ]
  },
  {
   "cell_type": "code",
   "execution_count": null,
   "metadata": {},
   "outputs": [],
   "source": [
    "import operateurs_t,scipy,numpy\n",
    "import tensorflow as tf\n",
    "\n",
    "def U(y,t):\n",
    "    return 1-y**2\n",
    "\n",
    "Re = 10000\n",
    "alpha = 0.6\n",
    "N = 401\n",
    "t = 0.1\n",
    "\n",
    "tf.InteractiveSession()\n",
    "\n",
    "[a,b] = operateurs_t.buildAB_forward(Re, alpha, N, U, t)\n",
    "b = b *(1+0.0j)\n",
    "\n",
    "B = tf.placeholder(tf.complex128, shape=(N-4, N-4))\n",
    "#with tf.device('/gpu:0'):\n",
    "B_inv = tf.matrix_inverse(B).eval(feed_dict={B: b})"
   ]
  },
  {
   "cell_type": "code",
   "execution_count": null,
   "metadata": {},
   "outputs": [],
   "source": [
    "import numpy\n",
    "import tensorflow as tf\n",
    "\n",
    "sess = tf.Session()\n",
    "\n",
    "N = 401\n",
    "\n",
    "a = numpy.ones((N,N))\n",
    "A = tf.placeholder(tf.float64, shape=(N, N))\n",
    "B = A\n",
    "\n",
    "for i in range(1000):\n",
    "    B = tf.add(B,A)\n",
    "    \n",
    "sess.run(B, feed_dict={A:a})"
   ]
  },
  {
   "cell_type": "code",
   "execution_count": null,
   "metadata": {},
   "outputs": [],
   "source": []
  },
  {
   "cell_type": "code",
   "execution_count": null,
   "metadata": {},
   "outputs": [],
   "source": []
  },
  {
   "cell_type": "code",
   "execution_count": null,
   "metadata": {},
   "outputs": [],
   "source": []
  },
  {
   "cell_type": "markdown",
   "metadata": {},
   "source": [
    "### Tensorflow learning examples"
   ]
  },
  {
   "cell_type": "code",
   "execution_count": null,
   "metadata": {},
   "outputs": [],
   "source": [
    "import numpy,scipy\n",
    "import tensorflow as tf\n",
    "import operateurs_t"
   ]
  },
  {
   "cell_type": "code",
   "execution_count": null,
   "metadata": {},
   "outputs": [],
   "source": [
    "def f(t,L,Re,alpha,N,U):\n",
    "        \n",
    "    [a,b] = operateurs_t.buildAB_forward(Re, alpha, N, U, t)\n",
    "    b = b*(1+0.0j)\n",
    "    \n",
    "    A = tf.constant(a)\n",
    "    B = tf.constant(b)\n",
    "\n",
    "    with tf.device('/gpu:0'):\n",
    "        B_inv = tf.matrix_inverse(B)\n",
    "        M = tf.multiply(-1j*alpha,tf.matmul(B_inv,A))\n",
    "        L_new = tf.matmul(L,M)\n",
    "    \n",
    "    return L_new"
   ]
  },
  {
   "cell_type": "code",
   "execution_count": null,
   "metadata": {},
   "outputs": [],
   "source": [
    "def U(y,t):\n",
    "    return 1-y**2\n",
    "\n",
    "Re = 10000\n",
    "alpha = 0.6\n",
    "N = 20\n",
    "\n",
    "t = 0.1\n",
    "L = tf.constant(scipy.eye(N-4)*(1+0.0j))\n",
    "\n",
    "##############################\n",
    "sess = tf.Session()\n",
    "\n",
    "res = f(t,L,Re,alpha,N,U)\n",
    "print(sess.run(res))\n",
    "\n",
    "sess.close()\n",
    "##############################"
   ]
  },
  {
   "cell_type": "code",
   "execution_count": null,
   "metadata": {},
   "outputs": [],
   "source": []
  },
  {
   "cell_type": "code",
   "execution_count": null,
   "metadata": {},
   "outputs": [],
   "source": []
  },
  {
   "cell_type": "code",
   "execution_count": null,
   "metadata": {},
   "outputs": [],
   "source": [
    "import numpy,scipy,time\n",
    "import tensorflow as tf\n",
    "import operateurs_t\n",
    "#############################\n",
    "def f(N):\n",
    "    B = tf.constant(scipy.eye(N))\n",
    "    with tf.device('/gpu:0'):\n",
    "        #B_inv = tf.matrix_inverse(B)\n",
    "        B_inv = tf.matmul(B,B)\n",
    "        B_inv = tf.matmul(B_inv,B)\n",
    "    return B_inv\n",
    "##############################\n",
    "N = 2000\n",
    "##############################\n",
    "sess = tf.Session()\n",
    "res = f(N)\n",
    "start = time.time()\n",
    "print(len(sess.run(res)))\n",
    "print(\"Exécution en secondes =\", time.time()-start)\n",
    "sess.close()\n",
    "##############################"
   ]
  },
  {
   "cell_type": "code",
   "execution_count": null,
   "metadata": {},
   "outputs": [],
   "source": [
    "import numpy,scipy,time\n",
    "##############################\n",
    "def f(N):\n",
    "    b = scipy.eye(N)\n",
    "    return numpy.dot(b,b)\n",
    "##############################\n",
    "N = 2000\n",
    "##############################\n",
    "start = time.time()\n",
    "print(len(f(N)))\n",
    "print(\"Exécution en secondes =\", time.time()-start)"
   ]
  },
  {
   "cell_type": "code",
   "execution_count": null,
   "metadata": {},
   "outputs": [],
   "source": [
    "import operateurs_t\n",
    "\n",
    "def U(y,t):\n",
    "    return 1-y**2"
   ]
  },
  {
   "cell_type": "code",
   "execution_count": null,
   "metadata": {},
   "outputs": [],
   "source": [
    "N = 2001\n",
    "[a,b] = operateurs_t.buildAB_forward(10000, 0.6, N, U, 1)\n",
    "\n",
    "# numpy\n",
    "start = time.time()\n",
    "c = numpy.dot(a,b)\n",
    "print(\"(Numpy) Exécution en secondes =\", time.time()-start)\n",
    "\n",
    "\n",
    "# tensorflow w/ placeholders\n",
    "sess = tf.Session()\n",
    "\n",
    "A = tf.placeholder(tf.complex128, shape=(N-4, N-4))\n",
    "B = tf.placeholder(tf.complex128, shape=(N-4, N-4))\n",
    "\n",
    "with tf.device('/gpu:0'):\n",
    "    C = numpy.dot(A,B)\n",
    "    #C = tf.matmul(A,B)\n",
    "    \n",
    "start = time.time()\n",
    "c = sess.run(C, feed_dict={A:a,B:b})\n",
    "print(\"(Tf placeh.) Exécution en secondes =\", time.time()-start)\n",
    "\n",
    "sess.close()\n",
    "\n",
    "\n",
    "# tensorflow direct\n",
    "#sess = tf.Session()\n",
    "    \n",
    "#start = time.time()\n",
    "#c = tf.matmul(a,b*(1+0j))\n",
    "#print(\"(Tf direct) Exécution en secondes =\", time.time()-start)\n",
    "\n",
    "#sess.close()"
   ]
  },
  {
   "cell_type": "code",
   "execution_count": null,
   "metadata": {},
   "outputs": [],
   "source": []
  }
 ],
 "metadata": {
  "kernelspec": {
   "display_name": "Python 3",
   "language": "python",
   "name": "python3"
  },
  "language_info": {
   "codemirror_mode": {
    "name": "ipython",
    "version": 3
   },
   "file_extension": ".py",
   "mimetype": "text/x-python",
   "name": "python",
   "nbconvert_exporter": "python",
   "pygments_lexer": "ipython3",
   "version": "3.6.4"
  }
 },
 "nbformat": 4,
 "nbformat_minor": 2
}
